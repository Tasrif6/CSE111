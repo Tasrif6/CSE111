{
  "cells": [
    {
      "cell_type": "code",
      "execution_count": null,
      "metadata": {
        "colab": {
          "base_uri": "https://localhost:8080/"
        },
        "id": "mYtaPfcPN80S",
        "outputId": "51adc5a4-261d-4c9b-d609-3a3acddc8e17"
      },
      "outputs": [
        {
          "name": "stdout",
          "output_type": "stream",
          "text": [
            "I love Programming Python is love\n",
            "The current list is:  ['I', 'love', 'Programming', 'Python', 'is', 'love']\n",
            "['I', 'love', 'Programming', 'Python', 'is']\n",
            "73\n",
            "438\n",
            "1155\n",
            "642\n",
            "220\n",
            "The final dictinary is:  {'$': ['I'], '&': ['love', 'Python'], '#': ['Programming'], 'c': ['is']}\n"
          ]
        }
      ],
      "source": [
        "words='I love Programming. Python is love.'\n",
        "a_list=['c','$','&','#']\n",
        "length=len(a_list)\n",
        "dict1={}\n",
        "dummy=''\n",
        "sum=0\n",
        "new_list=[]\n",
        "\n",
        "for i in words:\n",
        "    if i=='.':\n",
        "        pass\n",
        "    else:\n",
        "        dummy=dummy+i\n",
        "print(dummy)\n",
        "b_list=dummy.split(' ')\n",
        "print('The current list is: ', b_list)\n",
        "\n",
        "new_list=[]\n",
        "for a in b_list:\n",
        "    if a not in new_list:\n",
        "        new_list.append(a)\n",
        "print(new_list)\n",
        "\n",
        "for j in new_list:\n",
        "    for k in j:\n",
        "        sum=sum+ord(k)\n",
        "    print(sum)\n",
        "\n",
        "    index=sum%length\n",
        "    if a_list[index] not in dict1:\n",
        "        dict1[a_list[index]]=[j]\n",
        "    else:\n",
        "        dict1[a_list[index]].append(j)\n",
        "    sum=0\n",
        "print('The final dictinary is: ', dict1)"
      ]
    },
    {
      "cell_type": "code",
      "execution_count": null,
      "metadata": {
        "colab": {
          "base_uri": "https://localhost:8080/"
        },
        "id": "RxD0qsU2G5Ur",
        "outputId": "0fb734bf-a9a1-46c8-d4d7-6290ba69cde2"
      },
      "outputs": [
        {
          "name": "stdout",
          "output_type": "stream",
          "text": [
            "{'p': [0, -10], 'y': [1, -9], 't': [2, -8], 'h': [3, -7], 'o': [8, -2], 'n': [5, -5], 'b': [6, -4], 'k': [9, -1]}\n"
          ]
        }
      ],
      "source": [
        "words='pythonbook'\n",
        "dict1={}\n",
        "a_list=[]\n",
        "for i in range(len(words)):\n",
        "    a_list.append(i)\n",
        "    a_list.append((len(words)-i)*-1)\n",
        "    dict1[words[i]]=a_list\n",
        "    a_list=[]\n",
        "print(dict1)"
      ]
    },
    {
      "cell_type": "code",
      "execution_count": null,
      "metadata": {
        "colab": {
          "base_uri": "https://localhost:8080/",
          "height": 132
        },
        "id": "hYH4FpeKqLxZ",
        "outputId": "021bea6e-d0fa-4c93-9bd2-e691ae8db8ac"
      },
      "outputs": [
        {
          "ename": "IndentationError",
          "evalue": "ignored",
          "output_type": "error",
          "traceback": [
            "\u001b[0;36m  File \u001b[0;32m\"<ipython-input-6-619709330e40>\"\u001b[0;36m, line \u001b[0;32m4\u001b[0m\n\u001b[0;31m    count=0\u001b[0m\n\u001b[0m        ^\u001b[0m\n\u001b[0;31mIndentationError\u001b[0m\u001b[0;31m:\u001b[0m expected an indented block\n"
          ]
        }
      ],
      "source": [
        "#task-19:\n",
        "def function_name(var1):\n",
        "\n",
        "count=0\n",
        "add=''\n",
        "for i in range(len(var1)):\n",
        "    if ord[i]\n",
        "\n",
        "\n",
        "\n",
        "function_name(\"A black jackal is hunting a full grown deer\")"
      ]
    },
    {
      "cell_type": "markdown",
      "metadata": {
        "id": "jRr1VceufVec"
      },
      "source": [
        "Dictionary, list & tuple practise"
      ]
    },
    {
      "cell_type": "code",
      "execution_count": null,
      "metadata": {
        "colab": {
          "base_uri": "https://localhost:8080/"
        },
        "id": "cYBvIcgvfYvq",
        "outputId": "210e6e93-bf75-4416-8067-fd233fdd7fa6"
      },
      "outputs": [
        {
          "name": "stdout",
          "output_type": "stream",
          "text": [
            "This is Tasrif Coding\n"
          ]
        }
      ],
      "source": [
        "a_tuple=('This is Tasrif Coding')\n",
        "print(a_tuple)"
      ]
    },
    {
      "cell_type": "code",
      "execution_count": null,
      "metadata": {
        "id": "mh5Phbihfii7"
      },
      "outputs": [],
      "source": [
        "def book_info(books):\n",
        "    length=len(books)\n",
        "    print(length)\n",
        "\n",
        "    for award, name, votes in books:\n",
        "        print('{} won the {} category with {} votes.'.format(name,award,votes))\n",
        "\n",
        "\n",
        "book_info=(\n",
        "(\"Best Mystery & Thriller\",\"The Silent Patient\",68821),\n",
        "(\"Best Horror\",\"The Institute\",75717),\n",
        "(\"Best History & Biography\",\"The five\",31783 ),\n",
        "(\"Best Fiction\",\"The Testaments\",98291)\n",
        ")"
      ]
    },
    {
      "cell_type": "code",
      "execution_count": null,
      "metadata": {
        "colab": {
          "base_uri": "https://localhost:8080/"
        },
        "id": "FAhKLdXyhMbU",
        "outputId": "2d442e5e-c02f-4be3-85dd-01b10fd1496a"
      },
      "outputs": [
        {
          "name": "stdout",
          "output_type": "stream",
          "text": [
            "4\n",
            "The Silent Patient won the Best Mystery & Thriller category with 68821 votes.\n",
            "The Institute won the Best Horror category with 75717 votes.\n",
            "The five won the Best History & Biography category with 31783 votes.\n",
            "The Testaments won the Best Fiction category with 98291 votes.\n"
          ]
        }
      ],
      "source": [
        "book_info=(\n",
        "(\"Best Mystery & Thriller\",\"The Silent Patient\",68821),\n",
        "(\"Best Horror\",\"The Institute\",75717),\n",
        "(\"Best History & Biography\",\"The five\",31783 ),\n",
        "(\"Best Fiction\",\"The Testaments\",98291)\n",
        ")\n",
        "length=len(book_info)\n",
        "print(length)\n",
        "\n",
        "for award, name, votes in book_info:\n",
        "    print('{} won the {} category with {} votes.'.format(name,award,votes))"
      ]
    },
    {
      "cell_type": "code",
      "execution_count": null,
      "metadata": {
        "colab": {
          "base_uri": "https://localhost:8080/"
        },
        "id": "WLxgV4DbieFU",
        "outputId": "cf0e244d-c2fc-41f0-bacb-1f01b733cf61"
      },
      "outputs": [
        {
          "name": "stdout",
          "output_type": "stream",
          "text": [
            "['a', 'b', 'c', 'd', 'e', 'f', 'g', 'h']\n",
            "['h', 'g', 'f', 'e', 'd', 'c', 'b', 'a']\n"
          ]
        }
      ],
      "source": [
        "a_tuple=('a', 'b', 'c', 'd', 'e', 'f', 'g', 'h')\n",
        "b_tuple=list(a_tuple)\n",
        "print(b_tuple)\n",
        "new_tuple=[]\n",
        "\n",
        "for i in range(len(b_tuple)-1,-1,-1):\n",
        "    new_tuple.append(b_tuple[i])\n",
        "print(new_tuple)\n",
        "\n"
      ]
    },
    {
      "cell_type": "code",
      "execution_count": null,
      "metadata": {
        "colab": {
          "base_uri": "https://localhost:8080/"
        },
        "id": "1hioMQsXjDZc",
        "outputId": "b9003d94-b627-4c41-ec30-239c02fcf44c"
      },
      "outputs": [
        {
          "name": "stdout",
          "output_type": "stream",
          "text": [
            "['a', 'b', 'c', 'd', 'e', 'f', 'g', 'h']\n",
            "('h', 'g', 'f', 'e', 'd', 'c', 'b', 'a')\n"
          ]
        }
      ],
      "source": [
        "a_tuple=('a', 'b', 'c', 'd', 'e', 'f', 'g', 'h')\n",
        "a_list=list(a_tuple)\n",
        "print(a_list)\n",
        "\n",
        "new_tuple=(a_tuple[-1: :-1])\n",
        "print(new_tuple)"
      ]
    },
    {
      "cell_type": "code",
      "execution_count": null,
      "metadata": {
        "colab": {
          "base_uri": "https://localhost:8080/"
        },
        "id": "yOhnKS9-jvMj",
        "outputId": "119e591e-4981-4529-ef93-1f576f43bbc6"
      },
      "outputs": [
        {
          "name": "stdout",
          "output_type": "stream",
          "text": [
            "{1: 'one', 2: 'two', 3: 'three'}\n"
          ]
        }
      ],
      "source": [
        "new_dict={1:'one',2:'two',3:'three'}\n",
        "print(new_dict)"
      ]
    },
    {
      "cell_type": "code",
      "execution_count": null,
      "metadata": {
        "colab": {
          "base_uri": "https://localhost:8080/"
        },
        "id": "Z5p2AgWmCqWz",
        "outputId": "b9876a0f-c456-41f8-8410-5b19bed2b2a6"
      },
      "outputs": [
        {
          "name": "stdout",
          "output_type": "stream",
          "text": [
            "{'car': ['Honda Civic']}\n"
          ]
        }
      ],
      "source": [
        "a_dict={}\n",
        "a_dict['car']=['Honda Civic']\n",
        "print(a_dict)"
      ]
    },
    {
      "cell_type": "code",
      "execution_count": null,
      "metadata": {
        "colab": {
          "base_uri": "https://localhost:8080/"
        },
        "id": "SAtVhhLUC-zh",
        "outputId": "d3830a01-9aac-4604-9a7d-3af7909224b5"
      },
      "outputs": [
        {
          "name": "stdout",
          "output_type": "stream",
          "text": [
            "Key is:  Harry\n",
            "Value is:  15\n",
            "Key is:  Draco\n",
            "Value is:  8\n",
            "Key is:  Nevil\n",
            "Value is:  19\n"
          ]
        }
      ],
      "source": [
        "a_dict={'Harry':15, 'Draco':8, 'Nevil':19}\n",
        "\n",
        "for key, value in a_dict.items():\n",
        "    print('Key is: ', key)\n",
        "    print('Value is: ', value)"
      ]
    },
    {
      "cell_type": "code",
      "execution_count": null,
      "metadata": {
        "colab": {
          "base_uri": "https://localhost:8080/"
        },
        "id": "_RdXy3QOD5Bp",
        "outputId": "fc1ec353-2a00-4acb-a07f-cd8885454e2c"
      },
      "outputs": [
        {
          "name": "stdout",
          "output_type": "stream",
          "text": [
            "{('Gangster', 'Romeo'): [42, 67]}\n"
          ]
        }
      ],
      "source": [
        "new_dict={}\n",
        "new_dict['Gangster', 'Romeo']=[42,67]\n",
        "print(new_dict)"
      ]
    },
    {
      "cell_type": "code",
      "execution_count": null,
      "metadata": {
        "colab": {
          "base_uri": "https://localhost:8080/"
        },
        "id": "XR0Bv_OGEPxB",
        "outputId": "64db77fe-0ac8-40da-ee34-79f4df7f4566"
      },
      "outputs": [
        {
          "name": "stdout",
          "output_type": "stream",
          "text": [
            "[(2, 3)]\n",
            "[(4, 5)]\n",
            "[(6, 7)]\n",
            "[(2, 8)]\n",
            "[6, 20, 42, 16]\n"
          ]
        }
      ],
      "source": [
        "#task-15:\n",
        "a_list=[(2, 3), (4, 5), (6, 7), (2, 8)]\n",
        "#list1=[]\n",
        "#list2=[]\n",
        "#list3=[]\n",
        "#list4=[]\n",
        "new_list=[]\n",
        "\n",
        "#list1.append(a_list[0])\n",
        "#print(list1)\n",
        "#list2.append(a_list[1])\n",
        "#print(list2)\n",
        "#list3.append(a_list[2])\n",
        "#print(list3)\n",
        "#list4.append(a_list[3])\n",
        "#print(list4)\n",
        "\n",
        "for i in a_list:\n",
        "    if i[1]==3:\n",
        "        new_list.append(i[0]*3)\n",
        "    elif i[1]==5:\n",
        "        new_list.append(i[0]*5)\n",
        "    elif i[1]==7:\n",
        "        new_list.append(i[0]*7)\n",
        "    else:\n",
        "        new_list.append(i[0]*8)\n",
        "print(new_list)\n",
        "        \n"
      ]
    },
    {
      "cell_type": "code",
      "execution_count": null,
      "metadata": {
        "colab": {
          "base_uri": "https://localhost:8080/"
        },
        "id": "TnR6TM5glaOz",
        "outputId": "1cf2e9c8-5bbd-43fd-989c-91162d797820"
      },
      "outputs": [
        {
          "name": "stdout",
          "output_type": "stream",
          "text": [
            "Sir, please enter your value: abc\n",
            "[[1, 2, 3], [4, 5, 6], [7, 8, 9], [10, 11, 12]]\n",
            "3\n",
            "The final list is:  [[1, 2, 'abc'], [4, 5, 'abc'], [7, 8, 'abc'], [10, 11, 'abc']]\n"
          ]
        }
      ],
      "source": [
        "#task-16:\n",
        "user=input('Sir, please enter your value: ')\n",
        "a_tuple = ( [1, 2, 3], [4, 5, 6], [7, 8, 9], [10, 11, 12])\n",
        "a_list=list(a_tuple)\n",
        "print(a_list)\n",
        "\n",
        "length=len(a_list[i])\n",
        "print(length)\n",
        "\n",
        "\n",
        "for i in range(len(a_list)):\n",
        "    index=len(a_list[i])-1\n",
        "    a_list[i][index]=user\n",
        "print('The final list is: ', a_list)"
      ]
    },
    {
      "cell_type": "code",
      "execution_count": null,
      "metadata": {
        "colab": {
          "base_uri": "https://localhost:8080/"
        },
        "id": "a0JbMyvivR1z",
        "outputId": "653bf2db-5e75-4773-e2ee-d63bfd0f63d2"
      },
      "outputs": [
        {
          "name": "stdout",
          "output_type": "stream",
          "text": [
            "{'c1': 'Red', 'c2': 'Green', 'd4': 'Blue'}\n"
          ]
        }
      ],
      "source": [
        "#task-17:\n",
        "a_dict={'c1':'Red', 'c2':'Green', 'c3':None, 'd4':'Blue', 'a5':None}\n",
        "new_dict={}\n",
        "for key,value in a_dict.items():\n",
        "    if value!=None:\n",
        "        new_dict[key]=value\n",
        "    else:\n",
        "        pass\n",
        "print(new_dict)"
      ]
    },
    {
      "cell_type": "markdown",
      "metadata": {
        "id": "5hwgljouvu6A"
      },
      "source": [
        "or"
      ]
    },
    {
      "cell_type": "code",
      "execution_count": null,
      "metadata": {
        "colab": {
          "base_uri": "https://localhost:8080/"
        },
        "id": "oJsHiLLTvuMA",
        "outputId": "3f3242e0-d98b-4012-8630-cf1e423bbd5b"
      },
      "outputs": [
        {
          "name": "stdout",
          "output_type": "stream",
          "text": [
            "{'c1': 'Red', 'c2': 'Green', 'd4': 'Blue'}\n"
          ]
        }
      ],
      "source": [
        "#task-17:\n",
        "a_dict={'c1':'Red', 'c2':'Green', 'c3':None, 'd4':'Blue', 'a5':None}\n",
        "new_dict={}\n",
        "for key,value in a_dict.items():\n",
        "    if value==None:\n",
        "        pass\n",
        "    else:\n",
        "        new_dict[key]=value\n",
        "print(new_dict)"
      ]
    },
    {
      "cell_type": "code",
      "execution_count": null,
      "metadata": {
        "colab": {
          "base_uri": "https://localhost:8080/"
        },
        "id": "yjPNq7bSwEcK",
        "outputId": "42239318-2f21-41bc-9d1d-848004746b60"
      },
      "outputs": [
        {
          "name": "stdout",
          "output_type": "stream",
          "text": [
            "Sir, please enter your desired number: 9\n",
            "Sir, please enter your desired number: 12\n",
            "{'c': 9, 'e': 11}\n"
          ]
        }
      ],
      "source": [
        "#task-18:\n",
        "user1=int(input('Sir, please enter your desired number: '))\n",
        "user2=int(input('Sir, please enter your desired number: '))\n",
        "dict1={'a' : 6, 'b' : 7, 'c' : 9, 'd' : 8, 'e' : 11, 'f' : 12, 'g' : 13}\n",
        "new_dict={}\n",
        "\n",
        "for key,value in dict1.items():\n",
        "    if value>=user1 and value<user2:\n",
        "        new_dict[key]=value\n",
        "\n",
        "print(new_dict)\n"
      ]
    },
    {
      "cell_type": "code",
      "execution_count": null,
      "metadata": {
        "colab": {
          "base_uri": "https://localhost:8080/"
        },
        "id": "Xh6WdENVxZBz",
        "outputId": "dd778dd6-37ab-419a-9e13-b89510a1a2ac"
      },
      "outputs": [
        {
          "name": "stdout",
          "output_type": "stream",
          "text": [
            "[(20, 80), (31, 80)]\n",
            "[(88, 11), (27, 11)]\n",
            "[(1, 22)]\n",
            "{80: [(20, 80), (31, 80)], 22: [(1, 22)], 11: [(88, 11), (27, 11)]}\n"
          ]
        }
      ],
      "source": [
        "#task-19:\n",
        "a_list=[(20, 80), (31, 80), (1, 22), (88, 11), (27, 11)]\n",
        "list1=[]\n",
        "list2=[]\n",
        "list3=[]\n",
        "new_dict={}\n",
        "\n",
        "for i in a_list:\n",
        "    if i[1]==80:\n",
        "        list1.append(i)\n",
        "    elif i[1]==11:\n",
        "        list2.append(i)\n",
        "    else:\n",
        "        list3.append(i)\n",
        "print(list1)\n",
        "print(list2)\n",
        "print(list3)\n",
        "for a in a_list:\n",
        "    if a[1]==80:\n",
        "        new_dict[a[1]]=list1\n",
        "    elif a[1]==11:\n",
        "        new_dict[a[1]]=list2\n",
        "    else:\n",
        "        new_dict[a[1]]=list3\n",
        "print(new_dict)\n",
        "\n"
      ]
    },
    {
      "cell_type": "code",
      "execution_count": null,
      "metadata": {
        "colab": {
          "base_uri": "https://localhost:8080/"
        },
        "id": "50qKg9oTIHte",
        "outputId": "3220f7f8-4760-4616-8c5b-166831751e7b"
      },
      "outputs": [
        {
          "name": "stdout",
          "output_type": "stream",
          "text": [
            "[(20, 80), (31, 80), (1, 22), (88, 11), (27, 11)]\n",
            "{(20, 80): [], (31, 80): [], (1, 22): [], (88, 11): [], (27, 11): []}\n"
          ]
        }
      ],
      "source": [
        "a_list=[(20, 80), (31, 80), (1, 22), (88, 11), (27, 11)]\n",
        "b_list=[]\n",
        "a_dict={}\n",
        "for count in range(len(a_list)):\n",
        "    if a_list[count][1] not in b_list:\n",
        "        b_list.append(a_list[count])\n",
        "print(b_list)\n",
        "c_list=[]\n",
        "for count in range(len(b_list)):\n",
        "    for i in range(len(a_list)):\n",
        "        if b_list[count]==a_list[i][1]:\n",
        "            c_list.append(a_list[i])\n",
        "    a_dict[b_list[count]]=c_list\n",
        "\n",
        "print(a_dict)"
      ]
    },
    {
      "cell_type": "code",
      "execution_count": null,
      "metadata": {
        "colab": {
          "base_uri": "https://localhost:8080/"
        },
        "id": "j1LZqQj9LMjB",
        "outputId": "eac0b1ec-ad5c-4b90-ba6a-127581c0703b"
      },
      "outputs": [
        {
          "name": "stdout",
          "output_type": "stream",
          "text": [
            "I love Programming Python is love\n",
            "The current list is:  ['I', 'love', 'Programming', 'Python', 'is', 'love']\n",
            "['I', 'love', 'Programming', 'Python', 'is']\n",
            "73\n",
            "438\n",
            "1155\n",
            "642\n",
            "220\n",
            "The final dictinary is:  {'$': ['I'], '&': ['love', 'Python'], '#': ['Programming'], 'c': ['is']}\n"
          ]
        }
      ],
      "source": [
        "#task-20:\n",
        "words='I love Programming. Python is love.'\n",
        "a_list=['c','$','&','#']\n",
        "length=len(a_list)\n",
        "dict1={}\n",
        "dummy=''\n",
        "sum=0\n",
        "new_list=[]\n",
        "\n",
        "for i in words:\n",
        "    if i=='.':\n",
        "        pass\n",
        "    else:\n",
        "        dummy=dummy+i\n",
        "print(dummy)\n",
        "b_list=dummy.split(' ')\n",
        "print('The current list is: ', b_list)\n",
        "\n",
        "new_list=[]\n",
        "for a in b_list:\n",
        "    if a not in new_list:\n",
        "        new_list.append(a)\n",
        "print(new_list)\n",
        "\n",
        "for j in new_list:\n",
        "    for k in j:\n",
        "        sum=sum+ord(k)\n",
        "    print(sum)\n",
        "\n",
        "    index=sum%length\n",
        "    if a_list[index] not in dict1:\n",
        "        dict1[a_list[index]]=[j]\n",
        "    else:\n",
        "        dict1[a_list[index]].append(j)\n",
        "    sum=0\n",
        "print('The final dictinary is: ', dict1)"
      ]
    },
    {
      "cell_type": "code",
      "execution_count": null,
      "metadata": {
        "colab": {
          "background_save": true
        },
        "id": "2z7nfK6MU1Su",
        "outputId": "4c365177-d05e-4a6c-a0e2-e5a725645b26"
      },
      "outputs": [
        {
          "name": "stdout",
          "output_type": "stream",
          "text": [
            "I love Programming Python is love\n",
            "['I', 'love', 'Programming', 'Python', 'is', 'love']\n",
            "['I', 'love', 'Programming', 'Python', 'is']\n",
            "73\n",
            "{'$': 'I'}\n",
            "511\n",
            "{'$': 'I', '#': 'love'}\n",
            "1666\n",
            "{'$': 'I', '#': 'love', '&': 'Programming'}\n",
            "2308\n",
            "{'$': 'I', '#': 'love', '&': 'Programming', 'c': 'Python'}\n",
            "2528\n"
          ]
        },
        {
          "ename": "AttributeError",
          "evalue": "ignored",
          "output_type": "error",
          "traceback": [
            "\u001b[0;31m---------------------------------------------------------------------------\u001b[0m",
            "\u001b[0;31mAttributeError\u001b[0m                            Traceback (most recent call last)",
            "\u001b[0;32m<ipython-input-13-913dc9beb9b3>\u001b[0m in \u001b[0;36m<module>\u001b[0;34m\u001b[0m\n\u001b[1;32m     30\u001b[0m         \u001b[0mnew_dict\u001b[0m\u001b[0;34m[\u001b[0m\u001b[0ma_list\u001b[0m\u001b[0;34m[\u001b[0m\u001b[0mindex\u001b[0m\u001b[0;34m]\u001b[0m\u001b[0;34m]\u001b[0m\u001b[0;34m=\u001b[0m\u001b[0mj\u001b[0m\u001b[0;34m\u001b[0m\u001b[0;34m\u001b[0m\u001b[0m\n\u001b[1;32m     31\u001b[0m     \u001b[0;32melse\u001b[0m\u001b[0;34m:\u001b[0m\u001b[0;34m\u001b[0m\u001b[0;34m\u001b[0m\u001b[0m\n\u001b[0;32m---> 32\u001b[0;31m         \u001b[0mnew_dict\u001b[0m\u001b[0;34m[\u001b[0m\u001b[0ma_list\u001b[0m\u001b[0;34m[\u001b[0m\u001b[0mindex\u001b[0m\u001b[0;34m]\u001b[0m\u001b[0;34m]\u001b[0m\u001b[0;34m.\u001b[0m\u001b[0mappend\u001b[0m\u001b[0;34m(\u001b[0m\u001b[0mj\u001b[0m\u001b[0;34m)\u001b[0m\u001b[0;34m\u001b[0m\u001b[0;34m\u001b[0m\u001b[0m\n\u001b[0m\u001b[1;32m     33\u001b[0m \u001b[0;34m\u001b[0m\u001b[0m\n\u001b[1;32m     34\u001b[0m     \u001b[0mprint\u001b[0m\u001b[0;34m(\u001b[0m\u001b[0mnew_dict\u001b[0m\u001b[0;34m)\u001b[0m\u001b[0;34m\u001b[0m\u001b[0;34m\u001b[0m\u001b[0m\n",
            "\u001b[0;31mAttributeError\u001b[0m: 'str' object has no attribute 'append'"
          ]
        }
      ],
      "source": [
        "words='I love Programming. Python is love.'\n",
        "a_list=['c','$','&','#']\n",
        "dummy=''\n",
        "b_list=[]\n",
        "length=len(a_list)\n",
        "for i in words:\n",
        "    if i=='.':\n",
        "        pass\n",
        "    else:\n",
        "        dummy=dummy+i\n",
        "print(dummy)\n",
        " \n",
        "var1=dummy.split(' ')\n",
        "print(var1)\n",
        "\n",
        "for a in var1:\n",
        "    if a not in b_list:\n",
        "        b_list.append(a)\n",
        "print(b_list)\n",
        "\n",
        "sum=0\n",
        "new_dict={}\n",
        "for j in b_list:\n",
        "    for k in j:\n",
        "        sum=sum+ord(k)\n",
        "    print(sum)\n",
        "\n",
        "    index=sum%length\n",
        "    if a_list[index] not in new_dict:\n",
        "        new_dict[a_list[index]]=j\n",
        "    else:\n",
        "        new_dict[a_list[index]].append(j)\n",
        "\n",
        "    print(new_dict)\n",
        "\n",
        "        \n",
        "\n"
      ]
    }
  ],
  "metadata": {
    "colab": {
      "provenance": []
    },
    "kernelspec": {
      "display_name": "Python 3",
      "name": "python3"
    },
    "language_info": {
      "name": "python"
    }
  },
  "nbformat": 4,
  "nbformat_minor": 0
}