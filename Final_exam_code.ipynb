{
  "nbformat": 4,
  "nbformat_minor": 0,
  "metadata": {
    "colab": {
      "provenance": []
    },
    "kernelspec": {
      "name": "python3",
      "display_name": "Python 3"
    },
    "language_info": {
      "name": "python"
    }
  },
  "cells": [
    {
      "cell_type": "code",
      "execution_count": null,
      "metadata": {
        "colab": {
          "base_uri": "https://localhost:8080/"
        },
        "id": "p2EKbonvfIbQ",
        "outputId": "c445d87f-c859-4c0d-9f87-528407bcd48b"
      },
      "outputs": [
        {
          "output_type": "stream",
          "name": "stdout",
          "text": [
            "YOO what is up You and I met before\n"
          ]
        },
        {
          "output_type": "execute_result",
          "data": {
            "text/plain": [
              "['O', 'I']"
            ]
          },
          "metadata": {},
          "execution_count": 3
        }
      ],
      "source": [
        "def upper_vowel_extractor(words):\n",
        "    dummy=''\n",
        "    vowel='AEIOU'\n",
        "    for i in range(len(words)):\n",
        "        if words[i]=='!':\n",
        "            pass\n",
        "        elif words[i]=='?':\n",
        "            pass\n",
        "        elif words[i]=='.':\n",
        "            pass\n",
        "        else:\n",
        "            dummy=dummy+words[i]\n",
        "    print(dummy)\n",
        "    var1=dummy.split(' ')\n",
        "    a_list=list(dummy)\n",
        "    b_list=[]\n",
        "    for count in range(len(a_list)):\n",
        "        if a_list[count] not in b_list:\n",
        "            b_list.append(a_list[count])\n",
        "        else:\n",
        "            pass\n",
        "    new_list=list(vowel)\n",
        "    extra_list=[]\n",
        "    for k in range(len(new_list)):\n",
        "        if new_list[k] not in extra_list:\n",
        "            extra_list.append(new_list[k])\n",
        "    final_list=[]\n",
        "    for a in b_list:\n",
        "        for b in extra_list:\n",
        "            if a==b:\n",
        "                final_list.append(a)\n",
        "    return final_list\n",
        "upper_vowel_extractor('YOO! what is up? You and I met before.')"
      ]
    },
    {
      "cell_type": "code",
      "source": [
        "user='Good-things-take-time'\n",
        "a_list=user.split('-')\n",
        "list1=[]\n",
        "list2=[]\n",
        "list3=[]\n",
        "list4=[]\n",
        "b_list=[]\n",
        "for i in range(len(a_list)):\n",
        "    if a_list[i]!=' ':\n",
        "        b_list.append(a_list[i])\n",
        "print(b_list)\n",
        "for a in b_list:\n",
        "    if a=='Good':\n",
        "        list1.append(a)\n",
        "for b in a_list:\n",
        "    if b=='things':\n",
        "        list2.append(b)\n",
        "for c in a_list:\n",
        "    if c=='take':\n",
        "        list3.append(c)\n",
        "for d in a_list:\n",
        "    if d=='time':\n",
        "        list4.append(d)\n",
        "a_dict={}\n",
        "\n",
        "for j in range(len(a_list)):\n",
        "    if a_list[j]=='Good':\n",
        "        a_dict['Good']=list1\n",
        "\n",
        "    elif a_list[j]=='things':\n",
        "        a_dict['things']=list2\n",
        "    \n",
        "    elif a_list[j]=='take':\n",
        "        a_dict['take']=list3\n",
        "    else:\n",
        "        a_dict['time']=list4\n",
        "\n",
        "print(a_dict)"
      ],
      "metadata": {
        "id": "2MdaRkPjhPXv",
        "colab": {
          "base_uri": "https://localhost:8080/"
        },
        "outputId": "38b20a2f-3d2c-4b69-e7ce-7b1f33085537"
      },
      "execution_count": null,
      "outputs": [
        {
          "output_type": "stream",
          "name": "stdout",
          "text": [
            "['Good', 'things', 'take', 'time']\n",
            "{'Good': ['Good'], 'things': ['things'], 'take': ['take'], 'time': ['time']}\n"
          ]
        }
      ]
    },
    {
      "cell_type": "code",
      "source": [
        "def lower_vowel_extractor(string):\n",
        "    list1 = []\n",
        "\n",
        "    for i in string:\n",
        "        if i = list1.append(i == 'a' or i = 'e' or i == 'i' or i = 'o' or i == 'u'):\n",
        "            list1 = lower_case[i]\n",
        "    return list1\n",
        "print(lower_vowel_extractor('Hey wait, what is up?'))"
      ],
      "metadata": {
        "colab": {
          "base_uri": "https://localhost:8080/",
          "height": 130
        },
        "id": "18yuRA9kLlS-",
        "outputId": "b944ebf0-3008-44a7-9e9f-eb58f488923a"
      },
      "execution_count": null,
      "outputs": [
        {
          "output_type": "error",
          "ename": "SyntaxError",
          "evalue": "ignored",
          "traceback": [
            "\u001b[0;36m  File \u001b[0;32m\"<ipython-input-1-814d18a64b93>\"\u001b[0;36m, line \u001b[0;32m5\u001b[0m\n\u001b[0;31m    if i = list1.append(i == 'a' or i = 'e' or i == 'i' or i = 'o' or i == 'u'):\u001b[0m\n\u001b[0m         ^\u001b[0m\n\u001b[0;31mSyntaxError\u001b[0m\u001b[0;31m:\u001b[0m invalid syntax\n"
          ]
        }
      ]
    },
    {
      "cell_type": "code",
      "source": [
        "user = input('Sir, please enter:')\n",
        "s = user.split('-')\n",
        "new_list = []\n",
        "a_dict = {}\n",
        "\n",
        "for x in s:\n",
        "    for y in x:\n",
        "        new_list.append(y)\n",
        "    a_dict.update({x:new_list})\n",
        "    new_list = []\n",
        "print(a_dict)"
      ],
      "metadata": {
        "colab": {
          "base_uri": "https://localhost:8080/"
        },
        "id": "DDOlUjMsQemr",
        "outputId": "5eb284aa-b67e-4a6b-d2f3-7797d9e7accd"
      },
      "execution_count": null,
      "outputs": [
        {
          "output_type": "stream",
          "name": "stdout",
          "text": [
            "Sir, please enter:Good-things-take-time\n",
            "{'Good': ['G', 'o', 'o', 'd'], 'things': ['t', 'h', 'i', 'n', 'g', 's'], 'take': ['t', 'a', 'k', 'e'], 'time': ['t', 'i', 'm', 'e']}\n"
          ]
        }
      ]
    },
    {
      "cell_type": "code",
      "source": [
        "user = input().split(',')\n",
        "\n",
        "list1 = []\n",
        "dict1 = {}\n",
        "\n",
        "for i in user:\n",
        "    dict1.update({i:list1.append(i)})\n",
        "print(dict1)"
      ],
      "metadata": {
        "colab": {
          "base_uri": "https://localhost:8080/"
        },
        "id": "IsdYQosNlnl3",
        "outputId": "35d9e403-3c1c-42bb-f750-9a1024a20227"
      },
      "execution_count": null,
      "outputs": [
        {
          "output_type": "stream",
          "name": "stdout",
          "text": [
            "Good,things,take,time\n",
            "{'Good': None, 'things': None, 'take': None, 'time': None}\n"
          ]
        }
      ]
    },
    {
      "cell_type": "code",
      "source": [
        "hello = 44\n",
        "\n",
        "if 4 in 44:\n",
        "    print(True)"
      ],
      "metadata": {
        "colab": {
          "base_uri": "https://localhost:8080/",
          "height": 217
        },
        "id": "WdtvZZ-3pQTy",
        "outputId": "821ca82f-b2e5-434f-9c25-cc2b4129393c"
      },
      "execution_count": null,
      "outputs": [
        {
          "output_type": "error",
          "ename": "TypeError",
          "evalue": "ignored",
          "traceback": [
            "\u001b[0;31m---------------------------------------------------------------------------\u001b[0m",
            "\u001b[0;31mTypeError\u001b[0m                                 Traceback (most recent call last)",
            "\u001b[0;32m<ipython-input-5-9beb761d62d0>\u001b[0m in \u001b[0;36m<module>\u001b[0;34m\u001b[0m\n\u001b[1;32m      1\u001b[0m \u001b[0mhello\u001b[0m \u001b[0;34m=\u001b[0m \u001b[0;36m44\u001b[0m\u001b[0;34m\u001b[0m\u001b[0;34m\u001b[0m\u001b[0m\n\u001b[1;32m      2\u001b[0m \u001b[0;34m\u001b[0m\u001b[0m\n\u001b[0;32m----> 3\u001b[0;31m \u001b[0;32mif\u001b[0m \u001b[0;36m4\u001b[0m \u001b[0;32min\u001b[0m \u001b[0;36m44\u001b[0m\u001b[0;34m:\u001b[0m\u001b[0;34m\u001b[0m\u001b[0;34m\u001b[0m\u001b[0m\n\u001b[0m\u001b[1;32m      4\u001b[0m     \u001b[0mprint\u001b[0m\u001b[0;34m(\u001b[0m\u001b[0;32mTrue\u001b[0m\u001b[0;34m)\u001b[0m\u001b[0;34m\u001b[0m\u001b[0;34m\u001b[0m\u001b[0m\n",
            "\u001b[0;31mTypeError\u001b[0m: argument of type 'int' is not iterable"
          ]
        }
      ]
    },
    {
      "cell_type": "code",
      "source": [
        "user=\"Good,Things,Take,Time\"\n",
        "l1=user.split(\",\")\n",
        "dic={}\n",
        "l2=[]\n",
        "for i in l1:\n",
        "    dic[i] = []\n",
        "for i in l1:\n",
        "    for j in i:\n",
        "        dic[i]+=j\n",
        "print(dic)"
      ],
      "metadata": {
        "id": "GnEcL8XuGtvi",
        "outputId": "84d9bc22-8cf4-4e4b-e62d-383bcd0361d1",
        "colab": {
          "base_uri": "https://localhost:8080/"
        }
      },
      "execution_count": null,
      "outputs": [
        {
          "output_type": "stream",
          "name": "stdout",
          "text": [
            "{'Good': ['G', 'o', 'o', 'd'], 'Things': ['T', 'h', 'i', 'n', 'g', 's'], 'Take': ['T', 'a', 'k', 'e'], 'Time': ['T', 'i', 'm', 'e']}\n"
          ]
        }
      ]
    }
  ]
}