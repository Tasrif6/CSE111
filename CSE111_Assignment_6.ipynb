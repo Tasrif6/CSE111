{
  "nbformat": 4,
  "nbformat_minor": 0,
  "metadata": {
    "colab": {
      "provenance": []
    },
    "kernelspec": {
      "name": "python3",
      "display_name": "Python 3"
    },
    "language_info": {
      "name": "python"
    }
  },
  "cells": [
    {
      "cell_type": "code",
      "execution_count": null,
      "metadata": {
        "colab": {
          "base_uri": "https://localhost:8080/",
          "height": 36
        },
        "id": "W3vMD_VVPxMd",
        "outputId": "2f9ac1bd-bfa6-4eae-bb18-e88c3aff56c3"
      },
      "outputs": [
        {
          "output_type": "execute_result",
          "data": {
            "text/plain": [
              "'Hello this is Tasrif coding'"
            ],
            "application/vnd.google.colaboratory.intrinsic+json": {
              "type": "string"
            }
          },
          "metadata": {},
          "execution_count": 1
        }
      ],
      "source": [
        "'Hello this is Tasrif coding'"
      ]
    },
    {
      "cell_type": "code",
      "source": [
        "#ZMD Lecture code:\n",
        "class Account:\n",
        "    c=0\n",
        "    def __init__(self,name):\n",
        "        self.name=name\n",
        "    def pd(self):\n",
        "        print(self.name)\n",
        "    @classmethod\n",
        "    def ThisIsClassMethod(cls):\n",
        "        print('This is class method')\n",
        "        cls.var=0\n",
        "        cls.var+=1\n",
        "        cls.c+=cls.var\n",
        "        cls.newVar+=1\n",
        "             \n",
        "    @staticmethod\n",
        "    def ThisIsStaticMethod():\n",
        "        print('This is static method')\n",
        "    \n",
        "a1=Account('Hritick')\n",
        "a1.pd()\n",
        "Account.ThisIsClassMethod()\n",
        "Account.ThisIsStaticMethod()\n",
        "# print(Account.var)\n",
        "print(Account.c)\n",
        "print('============================')\n",
        "try:\n",
        "    print(Account.newVar)\n",
        "except:\n",
        "    print('Not initialized yet')"
      ],
      "metadata": {
        "colab": {
          "base_uri": "https://localhost:8080/"
        },
        "id": "LYvJ7sQGQtXa",
        "outputId": "b1a14cae-5218-46e8-f1f4-97845857f6ed"
      },
      "execution_count": null,
      "outputs": [
        {
          "output_type": "stream",
          "name": "stdout",
          "text": [
            "Hritick\n",
            "This is class method\n"
          ]
        },
        {
          "output_type": "error",
          "ename": "AttributeError",
          "evalue": "ignored",
          "traceback": [
            "\u001b[0;31m---------------------------------------------------------------------------\u001b[0m",
            "\u001b[0;31mAttributeError\u001b[0m                            Traceback (most recent call last)",
            "\u001b[0;32m<ipython-input-1-fe2282ab5af8>\u001b[0m in \u001b[0;36m<module>\u001b[0;34m\u001b[0m\n\u001b[1;32m     20\u001b[0m \u001b[0ma1\u001b[0m\u001b[0;34m=\u001b[0m\u001b[0mAccount\u001b[0m\u001b[0;34m(\u001b[0m\u001b[0;34m'Hritick'\u001b[0m\u001b[0;34m)\u001b[0m\u001b[0;34m\u001b[0m\u001b[0;34m\u001b[0m\u001b[0m\n\u001b[1;32m     21\u001b[0m \u001b[0ma1\u001b[0m\u001b[0;34m.\u001b[0m\u001b[0mpd\u001b[0m\u001b[0;34m(\u001b[0m\u001b[0;34m)\u001b[0m\u001b[0;34m\u001b[0m\u001b[0;34m\u001b[0m\u001b[0m\n\u001b[0;32m---> 22\u001b[0;31m \u001b[0mAccount\u001b[0m\u001b[0;34m.\u001b[0m\u001b[0mThisIsClassMethod\u001b[0m\u001b[0;34m(\u001b[0m\u001b[0;34m)\u001b[0m\u001b[0;34m\u001b[0m\u001b[0;34m\u001b[0m\u001b[0m\n\u001b[0m\u001b[1;32m     23\u001b[0m \u001b[0mAccount\u001b[0m\u001b[0;34m.\u001b[0m\u001b[0mThisIsStaticMethod\u001b[0m\u001b[0;34m(\u001b[0m\u001b[0;34m)\u001b[0m\u001b[0;34m\u001b[0m\u001b[0;34m\u001b[0m\u001b[0m\n\u001b[1;32m     24\u001b[0m \u001b[0;31m# print(Account.var)\u001b[0m\u001b[0;34m\u001b[0m\u001b[0;34m\u001b[0m\u001b[0;34m\u001b[0m\u001b[0m\n",
            "\u001b[0;32m<ipython-input-1-fe2282ab5af8>\u001b[0m in \u001b[0;36mThisIsClassMethod\u001b[0;34m(cls)\u001b[0m\n\u001b[1;32m     12\u001b[0m         \u001b[0mcls\u001b[0m\u001b[0;34m.\u001b[0m\u001b[0mvar\u001b[0m\u001b[0;34m+=\u001b[0m\u001b[0;36m1\u001b[0m\u001b[0;34m\u001b[0m\u001b[0;34m\u001b[0m\u001b[0m\n\u001b[1;32m     13\u001b[0m         \u001b[0mcls\u001b[0m\u001b[0;34m.\u001b[0m\u001b[0mc\u001b[0m\u001b[0;34m+=\u001b[0m\u001b[0mcls\u001b[0m\u001b[0;34m.\u001b[0m\u001b[0mvar\u001b[0m\u001b[0;34m\u001b[0m\u001b[0;34m\u001b[0m\u001b[0m\n\u001b[0;32m---> 14\u001b[0;31m         \u001b[0mcls\u001b[0m\u001b[0;34m.\u001b[0m\u001b[0mnewVar\u001b[0m\u001b[0;34m+=\u001b[0m\u001b[0;36m1\u001b[0m\u001b[0;34m\u001b[0m\u001b[0;34m\u001b[0m\u001b[0m\n\u001b[0m\u001b[1;32m     15\u001b[0m \u001b[0;34m\u001b[0m\u001b[0m\n\u001b[1;32m     16\u001b[0m     \u001b[0;34m@\u001b[0m\u001b[0mstaticmethod\u001b[0m\u001b[0;34m\u001b[0m\u001b[0;34m\u001b[0m\u001b[0m\n",
            "\u001b[0;31mAttributeError\u001b[0m: type object 'Account' has no attribute 'newVar'"
          ]
        }
      ]
    },
    {
      "cell_type": "code",
      "source": [
        "class Math:\n",
        "    @staticmethod\n",
        "    def exp(a,b):\n",
        "        s=1\n",
        "        for i in range(b):\n",
        "            s=s*a\n",
        "        return s\n",
        "\n",
        "Math.exp(2,5)"
      ],
      "metadata": {
        "colab": {
          "base_uri": "https://localhost:8080/"
        },
        "id": "yBpwxHBff8mD",
        "outputId": "4f2d8e50-3ed0-4d7e-8511-c40427d46185"
      },
      "execution_count": null,
      "outputs": [
        {
          "output_type": "execute_result",
          "data": {
            "text/plain": [
              "32"
            ]
          },
          "metadata": {},
          "execution_count": 25
        }
      ]
    },
    {
      "cell_type": "code",
      "source": [
        "#task-1:\n",
        "class Student:\n",
        "    ID=0\n",
        "    def __init__(self,name,dept,age,cgpa):\n",
        "        self.name=name\n",
        "        self.dept=dept\n",
        "        self.age=age\n",
        "        self.cgpa=cgpa\n",
        "        Student.ID+=1\n",
        "    def showDetails(self):\n",
        "        print(f'ID: {Student.ID} \\nName: {self.name} \\nDepartment: {self.dept} \\nAge:\"{self.age} \\nCGPA: {self.cgpa}')\n",
        "    @classmethod\n",
        "    def from_String(cls,list1):\n",
        "        name,dept,age,cgpa=list1.split('-')\n",
        "        return Student(name,dept,age,cgpa)\n",
        "\n",
        "\n",
        "\n",
        "\n",
        "s1 = Student(\"Samin\", \"CSE\", 21, 3.91)\n",
        "s1.showDetails()\n",
        "print(\"-----------------------\")\n",
        "s2 = Student(\"Fahim\", \"ECE\", 21, 3.85)\n",
        "s2.showDetails()\n",
        "print(\"-----------------------\")\n",
        "s3 = Student(\"Tahura\", \"EEE\", 22, 3.01)\n",
        "s3.showDetails() \n",
        "print(\"-----------------------\")\n",
        "s4 = Student.from_String(\"Sumaiya-BBA-23-3.96\")\n",
        "s4.showDetails() \n",
        "\n",
        "\n",
        "#subtasks:\n",
        "print('a class variable cannot be called by self whereas instance varible can be called by self')\n",
        "print('Instance methods need a class instance and can access the instance through self . Class methods do not need a class instance.')"
      ],
      "metadata": {
        "colab": {
          "base_uri": "https://localhost:8080/"
        },
        "id": "PiC5gVSAbHls",
        "outputId": "07055799-df5f-4f17-cfdc-53592146da49"
      },
      "execution_count": null,
      "outputs": [
        {
          "output_type": "stream",
          "name": "stdout",
          "text": [
            "ID: 1 \n",
            "Name: Samin \n",
            "Department: CSE \n",
            "Age:\"21 \n",
            "CGPA: 3.91\n",
            "-----------------------\n",
            "ID: 2 \n",
            "Name: Fahim \n",
            "Department: ECE \n",
            "Age:\"21 \n",
            "CGPA: 3.85\n",
            "-----------------------\n",
            "ID: 3 \n",
            "Name: Tahura \n",
            "Department: EEE \n",
            "Age:\"22 \n",
            "CGPA: 3.01\n",
            "-----------------------\n",
            "ID: 4 \n",
            "Name: Sumaiya \n",
            "Department: BBA \n",
            "Age:\"23 \n",
            "CGPA: 3.96\n",
            "a class variable cannot be called by self whereas instance varible can be called by self\n",
            "\n"
          ]
        }
      ]
    },
    {
      "cell_type": "code",
      "source": [
        "#task-2:\n",
        "class Assassin:\n",
        "    count=0\n",
        "    def __init__(self,name,rate):\n",
        "        self.name=name\n",
        "        self.rate=rate\n",
        "        Assassin.count=Assassin.count+1\n",
        "    def printDetails(self):\n",
        "        print(f'Name: {self.name} \\nSuccess rate: {self.rate}')\n",
        "        print('Total number of Assassins: ',Assassin.count)\n",
        "    @staticmethod\n",
        "    def failureRate(name,num1):\n",
        "        return Assassin(name,100-num1)\n",
        "    @staticmethod\n",
        "    def failurePercentage(name,num2):\n",
        "        list1=num2.split('%')\n",
        "        var=int(list1[0])\n",
        "        return Assassin(name,100-var)\n",
        "\n",
        "john_wick = Assassin('John Wick', 100)\n",
        "john_wick.printDetails()\n",
        "print('================================')\n",
        "nagisa = Assassin.failureRate(\"Nagisa\", 20)\n",
        "nagisa.printDetails()\n",
        "print('================================')\n",
        "akabane = Assassin.failurePercentage(\"Akabane\", \"10%\")\n",
        "akabane.printDetails()\n"
      ],
      "metadata": {
        "colab": {
          "base_uri": "https://localhost:8080/"
        },
        "id": "WVfQsxekhVsV",
        "outputId": "fed370b2-fda4-439a-d3a5-3f5e63a5457f"
      },
      "execution_count": null,
      "outputs": [
        {
          "output_type": "stream",
          "name": "stdout",
          "text": [
            "Name: John Wick \n",
            "Success rate: 100\n",
            "Total number of Assassins:  1\n",
            "================================\n",
            "Name: Nagisa \n",
            "Success rate: 80\n",
            "Total number of Assassins:  2\n",
            "================================\n",
            "Name: Akabane \n",
            "Success rate: 90\n",
            "Total number of Assassins:  3\n"
          ]
        }
      ]
    },
    {
      "cell_type": "code",
      "source": [
        "name=(\"Akabane\", \"10%\")\n",
        "n2= name[1]\n",
        "n3=n2.split('%')\n",
        "n4=int(n3[0])\n",
        "print(n4)"
      ],
      "metadata": {
        "colab": {
          "base_uri": "https://localhost:8080/"
        },
        "id": "NKmydYvBJz82",
        "outputId": "dfe2e158-d4e8-45e4-827f-a60752f73be6"
      },
      "execution_count": null,
      "outputs": [
        {
          "output_type": "stream",
          "name": "stdout",
          "text": [
            "10\n"
          ]
        }
      ]
    },
    {
      "cell_type": "code",
      "source": [
        "#task-3:\n",
        "class Passenger:\n",
        "    count=0\n",
        "    def __init__(self,name):\n",
        "        self.name=name\n",
        "        Passenger.count+=1\n",
        "    def set_bag_weight(self,weight):\n",
        "        self.weight=weight\n",
        "    def printDetail(self):\n",
        "        print(f'Name: {self.name}')\n",
        "        if self.weight<=20:\n",
        "            fare=450\n",
        "            print(f'Bus Fare: {fare} taka')\n",
        "        elif self.weight>20 and self.weight<=50:\n",
        "            fare=450+50\n",
        "            print(f'Bus Fare: {fare} taka')\n",
        "        elif self.weight>=50:\n",
        "            fare=450+100\n",
        "            print(f'Bus Fare: {fare} taka')\n",
        "        \n",
        "#driver code\n",
        "print('Total Passenger:', Passenger.count)\n",
        "p1 = Passenger('Jack')\n",
        "p1.set_bag_weight(90)\n",
        "p2 = Passenger('Carol')\n",
        "p2.set_bag_weight(10)\n",
        "p3 = Passenger('Mike')\n",
        "p3.set_bag_weight(25)\n",
        "print(\"=========================\")\n",
        "p1.printDetail()\n",
        "print(\"=========================\")\n",
        "p2.printDetail()\n",
        "print(\"=========================\")\n",
        "p3.printDetail()\n",
        "print(\"=========================\")\n",
        "print('Total Passenger:', Passenger.count)\n"
      ],
      "metadata": {
        "id": "Nki5nQ95mdNJ",
        "colab": {
          "base_uri": "https://localhost:8080/"
        },
        "outputId": "f8677495-31d8-49bf-be41-3ddfb880ad79"
      },
      "execution_count": null,
      "outputs": [
        {
          "output_type": "stream",
          "name": "stdout",
          "text": [
            "Total Passenger: 0\n",
            "=========================\n",
            "Name: Jack\n",
            "Bus Fare: 550 taka\n",
            "=========================\n",
            "Name: Carol\n",
            "Bus Fare: 450 taka\n",
            "=========================\n",
            "Name: Mike\n",
            "Bus Fare: 500 taka\n",
            "=========================\n",
            "Total Passenger: 3\n"
          ]
        }
      ]
    },
    {
      "cell_type": "code",
      "source": [
        "#task-4:\n",
        "class Travel:\n",
        "    count=0\n",
        "    def __init__(self,source,desg):\n",
        "        self.source=source\n",
        "        self.desg=desg\n",
        "        Travel.count+=1\n",
        "        self.time=1\n",
        "    def set_time(self,time):\n",
        "        if self.time==None:\n",
        "            self.time+=1\n",
        "        else:\n",
        "            self.time=time\n",
        "    def set_destination(self,desg):\n",
        "        self.desg=desg\n",
        "    def set_source(self,source):\n",
        "        self.source=source\n",
        "    def display_travel_info(self):\n",
        "        return f'Source: {self.source} \\nDesignation: {self.desg} \\nFlight Time: {self.time}.00'   \n",
        "\n",
        "#driver code\n",
        "print('No. of Traveller =', Travel.count)\n",
        "print(\"=======================\")\n",
        "t1 = Travel(\"Dhaka\",\"India\")\n",
        "print(t1.display_travel_info())\n",
        "print(\"=======================\")\n",
        "t2 = Travel(\"Kuala Lampur\",\"Dhaka\")\n",
        "t2.set_time(23)\n",
        "print(t2.display_travel_info())\n",
        "print(\"=======================\")\n",
        "t3 = Travel(\"Dhaka\",\"New_Zealand\")\n",
        "t3.set_time(15)\n",
        "t3.set_destination(\"Germany\")\n",
        "print(t3.display_travel_info())\n",
        "print(\"=======================\")\n",
        "t4 = Travel(\"Dhaka\",\"India\")\n",
        "t4.set_time(9)\n",
        "t4.set_source(\"Malaysia\")\n",
        "t4.set_destination(\"Canada\")\n",
        "print(t4.display_travel_info())\n",
        "print(\"=======================\")\n",
        "print('No. of Traveller =', Travel.count)"
      ],
      "metadata": {
        "colab": {
          "base_uri": "https://localhost:8080/"
        },
        "id": "5y-h-0kG8IJK",
        "outputId": "16761e8e-03fb-46ef-ee83-24837dd9e978"
      },
      "execution_count": null,
      "outputs": [
        {
          "output_type": "stream",
          "name": "stdout",
          "text": [
            "No. of Traveller = 0\n",
            "=======================\n",
            "Source: Dhaka \n",
            "Designation: India \n",
            "Flight Time: 1.00\n",
            "=======================\n",
            "Source: Kuala Lampur \n",
            "Designation: Dhaka \n",
            "Flight Time: 23.00\n",
            "=======================\n",
            "Source: Dhaka \n",
            "Designation: Germany \n",
            "Flight Time: 15.00\n",
            "=======================\n",
            "Source: Malaysia \n",
            "Designation: Canada \n",
            "Flight Time: 9.00\n",
            "=======================\n",
            "No. of Traveller = 4\n"
          ]
        }
      ]
    },
    {
      "cell_type": "code",
      "source": [
        "#task-5:\n",
        "class Employee:\n",
        "    current_year=2021\n",
        "    def __init__(self,name,period):\n",
        "        self.name=name\n",
        "        self.workingPeriod=period\n",
        "\n",
        "    @classmethod\n",
        "    def employeeByJoiningYear(cls,name,year):\n",
        "        cls.name=name\n",
        "        cls.year=year\n",
        "        cls.workingPeriod = cls.current_year - cls.year\n",
        "        result = cls(cls.name, cls.workingPeriod)\n",
        "        return result\n",
        "    \n",
        "    @staticmethod\n",
        "    def experienceCheck(period,gender):\n",
        "        if period<=3 and gender=='male':\n",
        "            return 'He is not experienced'\n",
        "        elif period>3 and gender=='male':\n",
        "            return 'He is experienced'\n",
        "        elif period>3 and gender=='female':\n",
        "            return 'She is experienced'\n",
        "        else:\n",
        "            return 'She is not experienced'\n",
        "\n",
        "    \n",
        "#driver code\n",
        "employee1 = Employee('Dororo', 3)\n",
        "employee2 = Employee.employeeByJoiningYear('Harry', 2016)\n",
        "print(employee1.workingPeriod)\n",
        "print(employee2.workingPeriod)\n",
        "print(employee1.name)\n",
        "print(employee2.name)\n",
        "print(Employee.experienceCheck(2, \"male\"))\n",
        "print(Employee.experienceCheck(3, \"female\"))\n"
      ],
      "metadata": {
        "colab": {
          "base_uri": "https://localhost:8080/"
        },
        "id": "caNief-IKYMT",
        "outputId": "c55fb364-196a-4817-fc97-ffe38d2e48dc"
      },
      "execution_count": null,
      "outputs": [
        {
          "output_type": "stream",
          "name": "stdout",
          "text": [
            "3\n",
            "5\n",
            "Dororo\n",
            "Harry\n",
            "He is not experienced\n",
            "She is not experienced\n"
          ]
        }
      ]
    },
    {
      "cell_type": "code",
      "source": [
        "class Employee:\n",
        "    def __init__(self,name,wp):\n",
        "        self.name=name\n",
        "        self.workingPeriod=wp\n",
        "\n",
        "    @classmethod\n",
        "    def employeeByJoiningYear(cls,name,year):\n",
        "        return cls(name,2022-year)\n",
        "        \n",
        "    @staticmethod\n",
        "    def experienceCheck(wp,gen):\n",
        "        if wp<3:\n",
        "            if gen=='male': return 'He is not experienced'\n",
        "            else: return 'She is not experienced'\n",
        "        else:\n",
        "            if gen=='male': return 'He is experienced'\n",
        "            else: return 'She is experienced'\n",
        "\n",
        "#driver code \n",
        "employee1 = Employee('Dororo', 3)\n",
        "employee2 = Employee.employeeByJoiningYear('Harry', 2016)\n",
        "print(employee1.workingPeriod)\n",
        "print(employee2.workingPeriod)\n",
        "print(employee1.name)\n",
        "print(employee2.name)\n",
        "print(Employee.experienceCheck(2, \"male\"))\n",
        "print(Employee.experienceCheck(3, \"female\"))"
      ],
      "metadata": {
        "colab": {
          "base_uri": "https://localhost:8080/"
        },
        "id": "MMYy_EdWwLIU",
        "outputId": "e286cebe-a65c-4e3e-f51b-d7943aef562c"
      },
      "execution_count": null,
      "outputs": [
        {
          "output_type": "stream",
          "name": "stdout",
          "text": [
            "3\n",
            "6\n",
            "Dororo\n",
            "Harry\n",
            "He is not experienced\n",
            "She is experienced\n"
          ]
        }
      ]
    },
    {
      "cell_type": "code",
      "source": [
        "#Task 5:\n",
        "# Write your code here\n",
        "class Employee:\n",
        "    present_year = 2021\n",
        "    def __init__(self, nme, working_period):\n",
        "        self.name = nme\n",
        "        self.workingPeriod = working_period\n",
        "\n",
        "    @classmethod\n",
        "    def employeeByJoiningYear(cls, nme, year):\n",
        "        cls.name = nme\n",
        "        cls.year = year\n",
        "        cls.workingPeriod = cls.present_year - cls.year\n",
        "        result = cls(cls.name, cls.workingPeriod)\n",
        "        return result\n",
        "        \n",
        "    @staticmethod\n",
        "    def experienceCheck(working_period, gender):\n",
        "        if working_period < 3 and gender == 'male':\n",
        "            return f'He is not experienced'\n",
        "        elif working_period >= 3 and gender == 'male':\n",
        "            return f'He is experienced'\n",
        "        elif working_period < 3 and gender == 'female':\n",
        "            return f'She is not experienced'\n",
        "        elif working_period >= 3 and gender == 'female':\n",
        "            return f'She is experienced'\n",
        "               \n",
        "employee1 = Employee('Dororo', 3)\n",
        "employee2 = Employee.employeeByJoiningYear('Harry', 2016)\n",
        "print(employee1.workingPeriod)\n",
        "print(employee2.workingPeriod)\n",
        "print(employee1.name)\n",
        "print(employee2.name)\n",
        "print(Employee.experienceCheck(2, \"male\"))\n",
        "print(Employee.experienceCheck(3, \"female\"))"
      ],
      "metadata": {
        "colab": {
          "base_uri": "https://localhost:8080/"
        },
        "id": "z1FIW4U55Esg",
        "outputId": "0c426e6c-e206-47b6-847f-2d73cdd405d9"
      },
      "execution_count": null,
      "outputs": [
        {
          "output_type": "stream",
          "name": "stdout",
          "text": [
            "3\n",
            "5\n",
            "Dororo\n",
            "Harry\n",
            "He is not experienced\n",
            "She is experienced\n"
          ]
        }
      ]
    },
    {
      "cell_type": "code",
      "source": [
        "#task-6:\n",
        "class Laptop:\n",
        "    laptopCount=0\n",
        "    def __init__(self,name,count):\n",
        "        self.name=name\n",
        "        self.count=count\n",
        "        Laptop.laptopCount+=self.count\n",
        "    def name(self):\n",
        "        return f'{self.name}'\n",
        "    def count(self):\n",
        "        return f'{self.count}'\n",
        "    @classmethod\n",
        "    def advantage(cls):\n",
        "        print('Laptops are portable')\n",
        "    @classmethod\n",
        "    def resetCount(cls):\n",
        "        cls.laptopCount=0\n",
        "        return cls.laptopCount\n",
        "\n",
        "lenovo = Laptop(\"Lenovo\", 5);\n",
        "dell = Laptop(\"Dell\", 7);\n",
        "print(lenovo.name, lenovo.count)\n",
        "print(dell.name, dell.count)\n",
        "print(\"Total number of Laptops\", Laptop.laptopCount)\n",
        "Laptop.advantage()\n",
        "Laptop.resetCount()\n",
        "print(\"Total number of Laptops\", Laptop.laptopCount)\n"
      ],
      "metadata": {
        "colab": {
          "base_uri": "https://localhost:8080/"
        },
        "id": "1mOCVd4RcTt7",
        "outputId": "aa9c7eef-7936-4f5c-fadd-a34aad609f38"
      },
      "execution_count": null,
      "outputs": [
        {
          "output_type": "stream",
          "name": "stdout",
          "text": [
            "Lenovo 5\n",
            "Dell 7\n",
            "Total number of Laptops 12\n",
            "Laptops are portable\n",
            "Total number of Laptops 0\n"
          ]
        }
      ]
    },
    {
      "cell_type": "code",
      "source": [
        "#Task 6:\n",
        "# Write your code here\n",
        "class Laptop:\n",
        "    laptopCount = 0\n",
        "    def __init__(self, nme, num):\n",
        "        self.name = nme\n",
        "        self.count = num\n",
        "        Laptop.laptopCount += self.count\n",
        "    @classmethod\n",
        "    def resetCount(cls):\n",
        "        cls.laptopCount = 0\n",
        "    @staticmethod\n",
        "    def advantage():\n",
        "        print('Laptops are portable')\n",
        "lenovo = Laptop(\"Lenovo\", 5);\n",
        "dell = Laptop(\"Dell\", 7);\n",
        "print(lenovo.name, lenovo.count)\n",
        "print(dell.name, dell.count)\n",
        "print(\"Total number of Laptops\", Laptop.laptopCount)\n",
        "Laptop.advantage()\n",
        "Laptop.resetCount()\n",
        "print(\"Total number of Laptops\", Laptop.laptopCount)"
      ],
      "metadata": {
        "colab": {
          "base_uri": "https://localhost:8080/"
        },
        "id": "QUcVIfmm5INf",
        "outputId": "b5d1c5f8-3b65-4392-c4d7-8ec331a2b30f"
      },
      "execution_count": null,
      "outputs": [
        {
          "output_type": "stream",
          "name": "stdout",
          "text": [
            "Lenovo 5\n",
            "Dell 7\n",
            "Total number of Laptops 12\n",
            "Laptops are portable\n",
            "Total number of Laptops 0\n"
          ]
        }
      ]
    },
    {
      "cell_type": "code",
      "source": [
        "#task-7:\n",
        "class Cat:\n",
        "    Number_of_cats=0\n",
        "    def __init__(self,color,act='sitting'):\n",
        "        self.color=color\n",
        "        self.act=act\n",
        "        Number_of_cats+=1\n",
        "    def no_parameter(self):\n",
        "        self.color='White'\n",
        "    def first_parameter(self,color):\n",
        "        self.color=color\n",
        "    def second_parameter(self,color):\n",
        "        self.color=color\n",
        "    def printCat(self):\n",
        "        print(f'')\n",
        "    def changeColor(self,color):\n",
        "        self.color=color\n",
        "\n",
        "#driver code:\n",
        "print(\"Total number of cats:\", Cat.Number_of_cats)\n",
        "c1 = Cat.no_parameter()\n",
        "c2 = Cat.first_parameter(\"Black\")\n",
        "c3 = Cat(\"Brown\", \"jumping\")\n",
        "c4 = Cat(\"Red\", \"purring\")\n",
        "c5 = Cat.second_parameter(\"playing\")\n",
        "print(\"=======================\")\n",
        "c1.printCat()\n",
        "c2.printCat()\n",
        "c3.printCat()\n",
        "c4.printCat()\n",
        "c5.printCat()\n",
        "c1.changeColor(\"Blue\")\n",
        "c3.changeColor(\"Purple\")\n",
        "c1.printCat()\n",
        "c3.printCat()\n",
        "print(\"=======================\")\n",
        "print(\"Total number of cats:\", Cat.Number_of_cats)"
      ],
      "metadata": {
        "colab": {
          "base_uri": "https://localhost:8080/",
          "height": 253
        },
        "id": "wuNhZQN88kTO",
        "outputId": "e4d4d46c-1ed7-4d59-c1de-671776ef1488"
      },
      "execution_count": null,
      "outputs": [
        {
          "output_type": "stream",
          "name": "stdout",
          "text": [
            "Total number of cats: 0\n"
          ]
        },
        {
          "output_type": "error",
          "ename": "TypeError",
          "evalue": "ignored",
          "traceback": [
            "\u001b[0;31m---------------------------------------------------------------------------\u001b[0m",
            "\u001b[0;31mTypeError\u001b[0m                                 Traceback (most recent call last)",
            "\u001b[0;32m<ipython-input-33-196cf15117af>\u001b[0m in \u001b[0;36m<module>\u001b[0;34m\u001b[0m\n\u001b[1;32m     19\u001b[0m \u001b[0;31m#driver code:\u001b[0m\u001b[0;34m\u001b[0m\u001b[0;34m\u001b[0m\u001b[0;34m\u001b[0m\u001b[0m\n\u001b[1;32m     20\u001b[0m \u001b[0mprint\u001b[0m\u001b[0;34m(\u001b[0m\u001b[0;34m\"Total number of cats:\"\u001b[0m\u001b[0;34m,\u001b[0m \u001b[0mCat\u001b[0m\u001b[0;34m.\u001b[0m\u001b[0mNumber_of_cats\u001b[0m\u001b[0;34m)\u001b[0m\u001b[0;34m\u001b[0m\u001b[0;34m\u001b[0m\u001b[0m\n\u001b[0;32m---> 21\u001b[0;31m \u001b[0mc1\u001b[0m \u001b[0;34m=\u001b[0m \u001b[0mCat\u001b[0m\u001b[0;34m.\u001b[0m\u001b[0mno_parameter\u001b[0m\u001b[0;34m(\u001b[0m\u001b[0;34m)\u001b[0m\u001b[0;34m\u001b[0m\u001b[0;34m\u001b[0m\u001b[0m\n\u001b[0m\u001b[1;32m     22\u001b[0m \u001b[0mc2\u001b[0m \u001b[0;34m=\u001b[0m \u001b[0mCat\u001b[0m\u001b[0;34m.\u001b[0m\u001b[0mfirst_parameter\u001b[0m\u001b[0;34m(\u001b[0m\u001b[0;34m\"Black\"\u001b[0m\u001b[0;34m)\u001b[0m\u001b[0;34m\u001b[0m\u001b[0;34m\u001b[0m\u001b[0m\n\u001b[1;32m     23\u001b[0m \u001b[0mc3\u001b[0m \u001b[0;34m=\u001b[0m \u001b[0mCat\u001b[0m\u001b[0;34m(\u001b[0m\u001b[0;34m\"Brown\"\u001b[0m\u001b[0;34m,\u001b[0m \u001b[0;34m\"jumping\"\u001b[0m\u001b[0;34m)\u001b[0m\u001b[0;34m\u001b[0m\u001b[0;34m\u001b[0m\u001b[0m\n",
            "\u001b[0;31mTypeError\u001b[0m: no_parameter() missing 1 required positional argument: 'self'"
          ]
        }
      ]
    },
    {
      "cell_type": "code",
      "source": [
        "#Task 7:\n",
        "# Write your code here\n",
        "class Cat:\n",
        "    Number_of_cats = 0\n",
        "    def __init__(self, color, act = 'sitting'):\n",
        "        self.color = color\n",
        "        self.action = act\n",
        "        Cat.Number_of_cats += 1\n",
        "\n",
        "    def changeColor(self, changed):\n",
        "        self.color = changed\n",
        "\n",
        "    def printCat(self):\n",
        "        print(self.color, 'cat is', self.action)\n",
        "\n",
        "    @classmethod\n",
        "    def no_parameter(cls, clr = None):\n",
        "        if clr == None:\n",
        "            cls.color = 'White'\n",
        "        else:\n",
        "            cls.color = \" \"\n",
        "        x = cls(cls.color)\n",
        "        return x\n",
        "\n",
        "    @classmethod\n",
        "    def first_parameter(cls, clr):\n",
        "        cls.color = clr\n",
        "        y = cls(cls.color)\n",
        "        return y\n",
        "\n",
        "    @classmethod\n",
        "    def second_parameter(cls, action):\n",
        "        cls.action = action\n",
        "        z = cls('Grey', cls.action)\n",
        "        return z \n",
        "    \n",
        "print(\"Total number of cats:\", Cat.Number_of_cats)\n",
        "c1 = Cat.no_parameter()\n",
        "c2 = Cat.first_parameter(\"Black\")\n",
        "c3 = Cat(\"Brown\", \"jumping\")\n",
        "c4 = Cat(\"Red\", \"purring\")\n",
        "c5 = Cat.second_parameter(\"playing\")\n",
        "print(\"=======================\")\n",
        "c1.printCat()\n",
        "c2.printCat()\n",
        "c3.printCat()\n",
        "c4.printCat()\n",
        "c5.printCat()\n",
        "c1.changeColor(\"Blue\")\n",
        "c3.changeColor(\"Purple\")\n",
        "c1.printCat()\n",
        "c3.printCat()\n",
        "print(\"=======================\")\n",
        "print(\"Total number of cats:\", Cat.Number_of_cats)"
      ],
      "metadata": {
        "colab": {
          "base_uri": "https://localhost:8080/"
        },
        "id": "Rxn_6Q8C70j4",
        "outputId": "c611378e-c620-4bf3-b7c4-0a8dbca5a33d"
      },
      "execution_count": null,
      "outputs": [
        {
          "output_type": "stream",
          "name": "stdout",
          "text": [
            "Total number of cats: 0\n",
            "=======================\n",
            "White cat is sitting\n",
            "Black cat is sitting\n",
            "Brown cat is jumping\n",
            "Red cat is purring\n",
            "Grey cat is playing\n",
            "Blue cat is sitting\n",
            "Purple cat is jumping\n",
            "=======================\n",
            "Total number of cats: 5\n"
          ]
        }
      ]
    },
    {
      "cell_type": "code",
      "source": [
        "#task-8:\n",
        "from math import pi\n",
        "class Cylinder:\n",
        "    radius=5\n",
        "    height=18\n",
        "    def __init__(self,radius,height):\n",
        "        self.radius=radius\n",
        "        self.height=height\n",
        "        print(f'Default radius= {Cylinder.radius} and height= {Cylinder.height}')\n",
        "        Cylinder.radius=self.radius\n",
        "        Cylinder.height=self.height\n",
        "        print(f'Updated radius= {Cylinder.radius} and height= {Cylinder.height}')\n",
        "    @classmethod\n",
        "    def swap(cls,height,radius):\n",
        "        return Cylinder(float(radius),float(height))\n",
        "\n",
        "    @classmethod \n",
        "    def changeFormat(cls,val):\n",
        "        radius,height=val.split('-')\n",
        "        # raidus=list1[0]\n",
        "        # height=list1[1]\n",
        "        return Cylinder(float(radius),float(height))\n",
        "\n",
        "    @staticmethod\n",
        "    def area(num1,num2):\n",
        "        area= (2*pi*(num1**2))+(2*pi*num1*num2)\n",
        "      # print(self.radius*self.height)\n",
        "        print('Area: ',area)\n",
        "    @staticmethod\n",
        "    def volume(num1,num2):\n",
        "        volume=pi*(num1**2)*num2\n",
        "        print('Volume: ',volume)\n",
        "    \n",
        "\n",
        "#driver code:\n",
        "c1 = Cylinder(0,0)\n",
        "Cylinder.area(c1.radius,c1.height)\n",
        "Cylinder.volume(c1.radius,c1.height)\n",
        "print(\"===============================\")\n",
        "c2 = Cylinder.swap(8,3)\n",
        "c2.area(c2.radius,c2.height)\n",
        "c2.volume(c2.radius,c2.height)\n",
        "print(\"===============================\")\n",
        "c3 = Cylinder.changeFormat(\"7-13\")\n",
        "c3.area(c3.radius,c3.height)\n",
        "c3.volume(c3.radius,c3.height)\n",
        "print(\"===============================\")\n",
        "Cylinder(0.3,5.56).area(Cylinder.radius,Cylinder.height)\n",
        "print(\"===============================\")\n",
        "Cylinder(3,5).volume(Cylinder.radius,Cylinder.height)\n"
      ],
      "metadata": {
        "id": "avfKH5Ipn6ai",
        "colab": {
          "base_uri": "https://localhost:8080/"
        },
        "outputId": "cfc988c9-392f-410a-eb73-3faceec09c67"
      },
      "execution_count": null,
      "outputs": [
        {
          "output_type": "stream",
          "name": "stdout",
          "text": [
            "Default radius= 5 and height= 18\n",
            "Updated radius= 0 and height= 0\n",
            "Area:  0.0\n",
            "Volume:  0.0\n",
            "===============================\n",
            "Default radius= 0 and height= 0\n",
            "Updated radius= 3.0 and height= 8.0\n",
            "Area:  207.34511513692635\n",
            "Volume:  226.1946710584651\n",
            "===============================\n",
            "Default radius= 3.0 and height= 8.0\n",
            "Updated radius= 7.0 and height= 13.0\n",
            "Area:  879.645943005142\n",
            "Volume:  2001.1945203366981\n",
            "===============================\n",
            "Default radius= 7.0 and height= 13.0\n",
            "Updated radius= 0.3 and height= 5.56\n",
            "Area:  11.045839770021713\n",
            "===============================\n",
            "Default radius= 0.3 and height= 5.56\n",
            "Updated radius= 3 and height= 5\n",
            "Volume:  141.3716694115407\n"
          ]
        }
      ]
    },
    {
      "cell_type": "code",
      "source": [
        "#Task 9:\n",
        "# Write your code here\n",
        "class Student:\n",
        "    total_students = 0\n",
        "    Bracu = 0\n",
        "    other=0\n",
        "    def __init__(self, name, dept, institute = \"BRAC University\"):\n",
        "        self.name = name\n",
        "        self.dept = dept\n",
        "        self.institution = institute\n",
        "        if self.institution == \"BRAC University\":\n",
        "            Student.Bracu+=1\n",
        "        else:\n",
        "            Student.other +=1\n",
        "        Student.total_students +=1\n",
        "    \n",
        "    @classmethod\n",
        "    def printDetails(cls):\n",
        "        print('Total students:', Student.total_students)\n",
        "        print('BRAC University Student(s):', Student.Bracu)\n",
        "        print('Other Institution Student(s):', Student.other)\n",
        "\n",
        "    def individualDetail(self):\n",
        "        print('Name:', self.name)\n",
        "        print('Department:', self.dept)\n",
        "        print('Institution:', self.institution)\n",
        "\n",
        "    @classmethod\n",
        "    def createStudent(cls, name, dept, institute = \"BRAC University\"):\n",
        "        cls.name = name\n",
        "        cls.department = dept\n",
        "        cls.institution = institute\n",
        "        s1 = cls(cls.name,cls.department, cls.institution)\n",
        "        return s1\n",
        "\n",
        "Student.printDetails()\n",
        "print('#########################')\n",
        "mikasa = Student('Mikasa Ackerman', \"CSE\")\n",
        "mikasa.individualDetail()\n",
        "print('------------------------------------------')\n",
        "Student.printDetails()\n",
        "print('========================')\n",
        "harry = Student.createStudent('Harry Potter', \"Defence Against Dark Arts\", \"Hogwarts School\")\n",
        "harry.individualDetail()\n",
        "print('-------------------------------------------')\n",
        "Student.printDetails()\n",
        "print('=========================')\n",
        "levi = Student.createStudent(\"Levi Ackerman\", \"CSE\")\n",
        "levi.individualDetail()\n",
        "print('--------------------------------------------')\n",
        "Student.printDetails()"
      ],
      "metadata": {
        "colab": {
          "base_uri": "https://localhost:8080/"
        },
        "id": "y7M7Z9LN76lm",
        "outputId": "121e836b-5ef6-4657-874c-a32ddb374a61"
      },
      "execution_count": null,
      "outputs": [
        {
          "output_type": "stream",
          "name": "stdout",
          "text": [
            "Total students: 0\n",
            "BRAC University Student(s): 0\n",
            "Other Institution Student(s): 0\n",
            "#########################\n",
            "Name: Mikasa Ackerman\n",
            "Department: CSE\n",
            "Institution: BRAC University\n",
            "------------------------------------------\n",
            "Total students: 1\n",
            "BRAC University Student(s): 1\n",
            "Other Institution Student(s): 0\n",
            "========================\n",
            "Name: Harry Potter\n",
            "Department: Defence Against Dark Arts\n",
            "Institution: Hogwarts School\n",
            "-------------------------------------------\n",
            "Total students: 2\n",
            "BRAC University Student(s): 1\n",
            "Other Institution Student(s): 1\n",
            "=========================\n",
            "Name: Levi Ackerman\n",
            "Department: CSE\n",
            "Institution: BRAC University\n",
            "--------------------------------------------\n",
            "Total students: 3\n",
            "BRAC University Student(s): 2\n",
            "Other Institution Student(s): 1\n"
          ]
        }
      ]
    },
    {
      "cell_type": "code",
      "source": [
        "#Task 10:\n",
        "# Write your code here\n",
        "class SultansDine:\n",
        "    total_branches = 0\n",
        "    total_sell = 0\n",
        "    branch = list()\n",
        "\n",
        "    def __init__(self, branch):\n",
        "        self.branch = branch\n",
        "        self.branch_sell = 0\n",
        "        self.amount = 0\n",
        "        SultansDine.total_branches += 1\n",
        "        SultansDine.branch.append(self)\n",
        "\n",
        "    @classmethod\n",
        "    def details(cls):\n",
        "        print(\"Total Number of branch(s):\", cls.total_branches)    \n",
        "        print(\"Total Sell:\", cls.total_sell, 'Taka')\n",
        "        for i in SultansDine.branch:\n",
        "            ind = (i.branch_sell/SultansDine.total_sell)*100\n",
        "            result = round(ind, 2)\n",
        "            print(\"Branch Name: {}, Branch Sell: {} Taka\".format(i.branch, i.branch_sell))\n",
        "            print(\"Branch consists of total sell's: {}%\".format(result))\n",
        "\n",
        "    def sellQuantity(self, quantity):\n",
        "        if quantity <10:\n",
        "            branch_sell = quantity * 300   \n",
        "        elif quantity <20:\n",
        "            branch_sell = quantity * 350   \n",
        "        else:\n",
        "            branch_sell = quantity * 400   \n",
        "\n",
        "        self.branch_sell = branch_sell\n",
        "        SultansDine.total_sell += branch_sell \n",
        "\n",
        "    def branchInformation(self):\n",
        "        print('Branch Name:', self.branch)    \n",
        "        print('Branch Sell:', self.branch_sell, 'Taka')\n",
        "\n",
        "#################################\n",
        "#driver code:\n",
        "SultansDine.details()\n",
        "print('########################')\n",
        "dhanmodi = SultansDine('Dhanmondi')\n",
        "dhanmodi.sellQuantity(25)\n",
        "dhanmodi.branchInformation()\n",
        "print('-----------------------------------------')\n",
        "SultansDine.details()\n",
        "print('========================')\n",
        "baily_road = SultansDine('Baily Road')\n",
        "baily_road.sellQuantity(15)\n",
        "baily_road.branchInformation()\n",
        "print('-----------------------------------------')\n",
        "SultansDine.details()\n",
        "print('========================')\n",
        "gulshan = SultansDine('Gulshan')\n",
        "gulshan.sellQuantity(9)\n",
        "gulshan.branchInformation()\n",
        "print('-----------------------------------------')\n",
        "SultansDine.details()"
      ],
      "metadata": {
        "colab": {
          "base_uri": "https://localhost:8080/"
        },
        "id": "9NIbrsj476q1",
        "outputId": "05882b50-4a56-4b27-abb9-4d7ee76c5412"
      },
      "execution_count": null,
      "outputs": [
        {
          "output_type": "stream",
          "name": "stdout",
          "text": [
            "Total Number of branch(s): 0\n",
            "Total Sell: 0 Taka\n",
            "########################\n",
            "Branch Name: Dhanmondi\n",
            "Branch Sell: 10000 Taka\n",
            "-----------------------------------------\n",
            "Total Number of branch(s): 1\n",
            "Total Sell: 10000 Taka\n",
            "Branch Name: Dhanmondi, Branch Sell: 10000 Taka\n",
            "Branch consists of total sell's: 100.0%\n",
            "========================\n",
            "Branch Name: Baily Road\n",
            "Branch Sell: 5250 Taka\n",
            "-----------------------------------------\n",
            "Total Number of branch(s): 2\n",
            "Total Sell: 15250 Taka\n",
            "Branch Name: Dhanmondi, Branch Sell: 10000 Taka\n",
            "Branch consists of total sell's: 65.57%\n",
            "Branch Name: Baily Road, Branch Sell: 5250 Taka\n",
            "Branch consists of total sell's: 34.43%\n",
            "========================\n",
            "Branch Name: Gulshan\n",
            "Branch Sell: 2700 Taka\n",
            "-----------------------------------------\n",
            "Total Number of branch(s): 3\n",
            "Total Sell: 17950 Taka\n",
            "Branch Name: Dhanmondi, Branch Sell: 10000 Taka\n",
            "Branch consists of total sell's: 55.71%\n",
            "Branch Name: Baily Road, Branch Sell: 5250 Taka\n",
            "Branch consists of total sell's: 29.25%\n",
            "Branch Name: Gulshan, Branch Sell: 2700 Taka\n",
            "Branch consists of total sell's: 15.04%\n"
          ]
        }
      ]
    },
    {
      "cell_type": "code",
      "source": [
        "#task-1 (recap):\n",
        "class Student:\n",
        "    ID=0\n",
        "    def __init__(self, name,dept,age,cgpa):\n",
        "        self.name=name\n",
        "        self.dept=dept\n",
        "        self.age=age\n",
        "        self.cgpa=cgpa\n",
        "        Student.ID+=1\n",
        "    def showDetails(self):\n",
        "        print(f'ID: {Student.ID} \\nName: {self.name} \\nDepartment: {self.dept} \\nAge: {self.age} \\nCGPA: {self.cgpa}')\n",
        "    @classmethod\n",
        "    def from_String(cls,list1):\n",
        "        name,dept,age,cgpa=list1.split('-')\n",
        "        return cls(name,dept,age,cgpa)\n",
        "\n",
        "\n",
        "s1 = Student(\"Samin\", \"CSE\", 21, 3.91)\n",
        "s1.showDetails()\n",
        "print(\"-----------------------\")\n",
        "s2 = Student(\"Fahim\", \"ECE\", 21, 3.85)\n",
        "s2.showDetails()\n",
        "print(\"-----------------------\")\n",
        "s3 = Student(\"Tahura\", \"EEE\", 22, 3.01)\n",
        "s3.showDetails()\n",
        "print(\"-----------------------\")\n",
        "s4 = Student.from_String(\"Sumaiya-BBA-23-3.96\")\n",
        "s4.showDetails()\n"
      ],
      "metadata": {
        "colab": {
          "base_uri": "https://localhost:8080/"
        },
        "id": "WV_Ics4v_Vwt",
        "outputId": "98772f92-3ea4-421a-d90b-c56682fe6792"
      },
      "execution_count": null,
      "outputs": [
        {
          "output_type": "stream",
          "name": "stdout",
          "text": [
            "ID: 1 \n",
            "Name: Samin \n",
            "Department: CSE \n",
            "Age: 21 \n",
            "CGPA: 3.91\n",
            "-----------------------\n",
            "ID: 2 \n",
            "Name: Fahim \n",
            "Department: ECE \n",
            "Age: 21 \n",
            "CGPA: 3.85\n",
            "-----------------------\n",
            "ID: 3 \n",
            "Name: Tahura \n",
            "Department: EEE \n",
            "Age: 22 \n",
            "CGPA: 3.01\n",
            "-----------------------\n",
            "ID: 4 \n",
            "Name: Sumaiya \n",
            "Department: BBA \n",
            "Age: 23 \n",
            "CGPA: 3.96\n"
          ]
        }
      ]
    },
    {
      "cell_type": "code",
      "source": [
        "#task-2:\n",
        "class Assassin:\n",
        "    num=0\n",
        "    def __init__(self, name,rate):\n",
        "        self.name=name\n",
        "        self.rate=rate\n",
        "        Assassin.num+=1\n",
        "    def printDetails(self):\n",
        "        print(f'Name: {self.name} \\nSuccess rate: {self.rate}% \\nTotal number of Assassin: {Assassin.num}')\n",
        "    @classmethod\n",
        "    def failureRate(cls,name,rate2):\n",
        "        return cls(name,(100-rate2))\n",
        "    @classmethod\n",
        "    def failurePercentage(cls,name,rate3):\n",
        "        num2=rate3.split(\"%\")\n",
        "        num3=int(num2[0])\n",
        "        return cls(name,(100-num3))\n",
        "\n",
        "\n",
        "john_wick = Assassin('John Wick', 100)\n",
        "john_wick.printDetails()\n",
        "print('================================')\n",
        "nagisa = Assassin.failureRate(\"Nagisa\", 20)\n",
        "nagisa.printDetails()\n",
        "print('================================')\n",
        "akabane = Assassin.failurePercentage(\"Akabane\", \"10%\")\n",
        "akabane.printDetails()\n"
      ],
      "metadata": {
        "colab": {
          "base_uri": "https://localhost:8080/"
        },
        "id": "dOkvsEUJBdd7",
        "outputId": "4b0f135b-4383-4bca-95eb-846ac941e2f7"
      },
      "execution_count": null,
      "outputs": [
        {
          "output_type": "stream",
          "name": "stdout",
          "text": [
            "Name: John Wick \n",
            "Success rate: 100% \n",
            "Total number of Assassin: 1\n",
            "================================\n",
            "Name: Nagisa \n",
            "Success rate: 80% \n",
            "Total number of Assassin: 2\n",
            "================================\n",
            "Name: Akabane \n",
            "Success rate: 90% \n",
            "Total number of Assassin: 3\n"
          ]
        }
      ]
    },
    {
      "cell_type": "code",
      "source": [
        "#task-11:\n",
        "class Puzzle:\n",
        "    x = 0\n",
        "    def methodA(self):\n",
        "        Puzzle.x = 5\n",
        "        z = Puzzle.x + self.methodB(Puzzle.x)\n",
        "        print(Puzzle.x, z)\n",
        "        z = self.methodB(z + 2) + Puzzle.x\n",
        "        print(Puzzle.x, z)\n",
        "        self.methodB(Puzzle.x, z)\n",
        "        print(Puzzle.x, z)\n",
        "    def methodB(self, *args):\n",
        "        if len(args) == 1:\n",
        "            y = args[0]\n",
        "            Puzzle.x = y + Puzzle.x\n",
        "            print(Puzzle.x, y)\n",
        "            return Puzzle.x + 3\n",
        "        else:\n",
        "            z, x = args\n",
        "            z = z + 1\n",
        "            x = x + 1\n",
        "            print(z, x)\n",
        "\n",
        "p = Puzzle() \n",
        "p.methodA()\n",
        "p.methodA()\n",
        "p = Puzzle()\n",
        "p.methodA()\n",
        "p.methodB(7)"
      ],
      "metadata": {
        "colab": {
          "base_uri": "https://localhost:8080/"
        },
        "id": "gewuu8oUkKFm",
        "outputId": "df06366d-9082-4df1-fbf7-5cb988471b3c"
      },
      "execution_count": null,
      "outputs": [
        {
          "output_type": "stream",
          "name": "stdout",
          "text": [
            "10 5\n",
            "10 18\n",
            "30 20\n",
            "30 63\n",
            "31 64\n",
            "30 63\n",
            "10 5\n",
            "10 18\n",
            "30 20\n",
            "30 63\n",
            "31 64\n",
            "30 63\n",
            "10 5\n",
            "10 18\n",
            "30 20\n",
            "30 63\n",
            "31 64\n",
            "30 63\n",
            "37 7\n"
          ]
        },
        {
          "output_type": "execute_result",
          "data": {
            "text/plain": [
              "40"
            ]
          },
          "metadata": {},
          "execution_count": 22
        }
      ]
    },
    {
      "cell_type": "code",
      "source": [
        "#task-12:\n",
        "class FinalT6A:\n",
        "    temp = 3\n",
        "       \n",
        "    def __init__(self, x, p):\n",
        "        self.sum, self.y = 0, 2\n",
        "        FinalT6A.temp += 3\n",
        "        self.y = self.temp - p\n",
        "        self.sum = self.temp + x\n",
        "        print(x, self.y, self.sum)\n",
        "        \n",
        "    def methodA(self):\n",
        "         x, y = 0, 0\n",
        "         y = y + self.y\n",
        "         x = self.y + 2 + self.temp\n",
        "         self.sum = x + y + self.methodB(self.temp, y)\n",
        "         print(x, y, self.sum)\n",
        "        \n",
        "    def methodB(self, temp, n):\n",
        "         x = 0\n",
        "         FinalT6A.temp += 1\n",
        "         self.y = self.y + (FinalT6A.temp)\n",
        "         FinalT6A.temp -= 1\n",
        "         x = x + 2 + n\n",
        "         self.sum = self.sum + x + self.y\n",
        "         print(x, self.y, self.sum)\n",
        "         return self.sum\n",
        "\n",
        "q1 = FinalT6A(2,1)\n",
        "q1.methodA()\n",
        "q1.methodA()\n"
      ],
      "metadata": {
        "colab": {
          "base_uri": "https://localhost:8080/"
        },
        "id": "81SMO3Agk0sc",
        "outputId": "7abd80a7-8e62-409c-e644-57d0030541bb"
      },
      "execution_count": null,
      "outputs": [
        {
          "output_type": "stream",
          "name": "stdout",
          "text": [
            "2 5 8\n",
            "7 12 27\n",
            "13 5 45\n",
            "14 19 78\n",
            "20 12 110\n"
          ]
        }
      ]
    },
    {
      "cell_type": "code",
      "source": [
        "#task-13:\n",
        "class A:\n",
        "    temp = 4\n",
        "    def __init__(self):\n",
        "        self.y = self.temp - 2\n",
        "        self.sum = self.temp + 1\n",
        "        A.temp -= 2\n",
        "        self.methodA(3, 4)\n",
        "    def methodA(self, m, n):\n",
        "        x = 0\n",
        "        self.y = self.y + m + (self.temp)\n",
        "        A.temp += 1\n",
        "        x = x + 1 + n\n",
        "        self.sum = self.sum + x + self.y\n",
        "        print(x, self.y, self.sum)\n",
        "       \n",
        "class B:\n",
        "    x = 0\n",
        "    def __init__(self, b = None):\n",
        "        self.y, self.temp, self.sum = 5, -5, 2         \n",
        "        if b == None:\n",
        "            self.y = self.temp + 3\n",
        "            self.sum = 3 + self.temp + 2\n",
        "            self.temp -= 2\n",
        "        else:\n",
        "            self.sum = b.sum\n",
        "            B.x = b.x\n",
        "            b.methodB(2, 3)\n",
        "    def methodA(self, m, n):\n",
        "        x = 2\n",
        "        self.y = self.y + m + (self.temp)\n",
        "        self.temp += 1\n",
        "        x = x + 5 + n\n",
        "        self.sum = self.sum + x + self.y\n",
        "        print(x, self.y, self.sum)\n",
        "    def methodB(self, m, n):\n",
        "        y = 0\n",
        "        y = y + self.y\n",
        "        B.x = self.y + 2 + self.temp\n",
        "        self.methodA(self.x, y)\n",
        "        self.sum = self.x + y + self.sum\n",
        "        print(self.x, y, self.sum)\n",
        "\n",
        "\n",
        "a1=A()\n",
        "b1=B()\n",
        "b2=B(b1)\n",
        "b1.methodA(1,2)\n",
        "b2.methodB(3,2)"
      ],
      "metadata": {
        "colab": {
          "base_uri": "https://localhost:8080/"
        },
        "id": "nBrNFI4AMDts",
        "outputId": "a1582186-a20e-40c3-8140-c04fa90dede9"
      },
      "execution_count": null,
      "outputs": [
        {
          "output_type": "stream",
          "name": "stdout",
          "text": [
            "5 7 17\n",
            "5 -16 -11\n",
            "-7 -2 -20\n",
            "9 -21 -32\n",
            "12 2 14\n",
            "2 5 21\n"
          ]
        }
      ]
    },
    {
      "cell_type": "code",
      "source": [
        "#task-14:\n",
        "class msgClass:\n",
        "    def __init__(self):\n",
        "        self.content = 0\n",
        "       \n",
        "class Quiz3:\n",
        "    x = 0\n",
        "    def __init__(self, k = None):\n",
        "        self.sum, self.y = 0, 0\n",
        "        if k is None:\n",
        "            self.sum = 5\n",
        "            Quiz3.x = 2\n",
        "            self.y = 2\n",
        "        else:\n",
        "            self.sum = self.sum + k\n",
        "            self.y = 3\n",
        "            Quiz3.x += 2\n",
        "    def methodA(self):\n",
        "        x = 1\n",
        "        y = 1\n",
        "        msg = [None]\n",
        "        myMsg = msgClass()\n",
        "        myMsg.content = Quiz3.x\n",
        "        msg[0] = myMsg\n",
        "        msg[0].content = self.y + myMsg.content\n",
        "        self.y = self.y + self.methodB(msg[0])\n",
        "        y = self.methodB(msg[0]) + self.y\n",
        "        x = y + self.methodB(msg, msg[0])\n",
        "        self.sum = x + y + msg[0].content\n",
        "        print(x, y, self.sum)\n",
        "    def methodB(self, *args):\n",
        "        if len(args) == 2:\n",
        "            mg2, mg1 = args\n",
        "            x = 2\n",
        "            self.y = self.y + mg2[0].content\n",
        "            mg2[0].content = self.y + mg1.content\n",
        "            x = x + 2 + mg1.content\n",
        "            self.sum = self.sum + x + self.y\n",
        "            mg1.content = self.sum - mg2[0].content\n",
        "            print(Quiz3.x, self.y, self.sum)\n",
        "            return self.sum\n",
        "           \n",
        "        elif len(args) == 1:\n",
        "            mg1, = args\n",
        "            x = 1\n",
        "            y = 2\n",
        "            y = self.sum + mg1.content\n",
        "            self.y = y + mg1.content\n",
        "            x = Quiz3.x + 5 + mg1.content\n",
        "            self.sum = self.sum + x + y\n",
        "            Quiz3.x = mg1.content + x + 3\n",
        "            print(x, y, self.sum)\n",
        "            return y\n",
        "\n",
        "       \n",
        "a1 = Quiz3()\n",
        "a2 = Quiz3(5)\n",
        "msg = msgClass()\n",
        "a1.methodA()\n",
        "a2.methodB(msg)"
      ],
      "metadata": {
        "colab": {
          "base_uri": "https://localhost:8080/"
        },
        "id": "UByzJIAmM3tE",
        "outputId": "11104735-2d72-4065-96a7-9ec3740df1b1"
      },
      "execution_count": null,
      "outputs": [
        {
          "output_type": "stream",
          "name": "stdout",
          "text": [
            "15 11 31\n",
            "35 37 103\n",
            "44 49 211\n",
            "291 80 527\n",
            "49 5 59\n"
          ]
        },
        {
          "output_type": "execute_result",
          "data": {
            "text/plain": [
              "5"
            ]
          },
          "metadata": {},
          "execution_count": 3
        }
      ]
    }
  ]
}