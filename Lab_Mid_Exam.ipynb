{
  "nbformat": 4,
  "nbformat_minor": 0,
  "metadata": {
    "colab": {
      "provenance": []
    },
    "kernelspec": {
      "name": "python3",
      "display_name": "Python 3"
    },
    "language_info": {
      "name": "python"
    }
  },
  "cells": [
    {
      "cell_type": "code",
      "execution_count": null,
      "metadata": {
        "colab": {
          "base_uri": "https://localhost:8080/"
        },
        "id": "EqniKnjsPkMX",
        "outputId": "b8b935d5-d271-47cd-ef05-ca13fcf41f3d"
      },
      "outputs": [
        {
          "output_type": "stream",
          "name": "stdout",
          "text": [
            "This is Tasrif Coding\n"
          ]
        }
      ],
      "source": [
        "var='This is Tasrif Coding'\n",
        "print(var)"
      ]
    },
    {
      "cell_type": "code",
      "source": [
        "class Train:\n",
        "    def __init__(self,train,*country):\n",
        "        self.train=train\n",
        "        self.country=country\n",
        "        x=len(country)\n",
        "        if x==3:\n",
        "            self.country1=country[0]\n",
        "            self.country2=country[1]\n",
        "            self.country3=country[2]\n",
        "            print(f'Welcome abroad on {self.train} \\nStart: {self.country1} \\nDestination: {self.country3}')\n",
        "        elif x==4:\n",
        "            self.country1=country[0]\n",
        "            self.country2=country[1]\n",
        "            self.country3=country[2]\n",
        "            self.country4=country[3]\n",
        "        print(f'Welcome abroad on {self.train} \\nStart: {self.country1} \\nDestination: {self.country4}')\n",
        "        self.dict1={}\n",
        "    def addPassenger(self,*id):\n",
        "        self.id=id\n",
        "        self.dict1[id.name]=id.name\n",
        "        x=len(id)\n",
        "        if x==1:\n",
        "            self.id1=id[0]\n",
        "        elif x==2:\n",
        "            self.id1=id[0]\n",
        "            self.id2=id[1]\n",
        "            # print(f'{self.id.name},{self.id.name}')\n",
        "        # self.dict1[id.name]=[id.name1,id.name2]\n",
        "        print(self.dict1)\n",
        "\n",
        "        # print(self.dict1[0], self.dict2[1])\n",
        "    def allPassengerDetails(self):\n",
        "        pass\n",
        "class Passenger:\n",
        "    def __init__(self,*name):\n",
        "        self.name=name\n",
        "        x=len(self.name)\n",
        "        if x==1:\n",
        "            self.name=name[0]\n",
        "            print(f'{self.name} welcome abroad')\n",
        "        elif x==2: \n",
        "            self.name=name[0]\n",
        "            self.name1=name[1]\n",
        "        elif x==3:\n",
        "            self.name=name[0]\n",
        "            self.name1=name[1]\n",
        "            self.name2=name[2]\n",
        "\n",
        "\n",
        "\n",
        "\n",
        "#driver code:\n",
        "t1 = Train('T1-Express','New York','Manhattan','Brooklyn','Boston')\n",
        "print(\"1========================\")\n",
        "p1 =Passenger(\"Naruto\")\n",
        "t1.addPassenger(p1)\n",
        "p2 = Passenger(\"Sasuke\",\"Manhattan\")\n",
        "p3 = Passenger(\"Hinata\",\"Manhattan\",\"Brooklyn\")\n",
        "print(\"2========================\")\n",
        "t1.addPassenger(p2,p3)\n",
        "print(\"3========================\")\n",
        "# t1.allPassengerDetails()\n",
        "# print(\"4========================\")\n",
        "# t2 = Train('Europe-Express','London','Paris','Brussels','Turkey')\n",
        "# print(\"5========================\")\n",
        "# p4 =Passenger(\"Max\",\"London\",\"Brussels\")\n",
        "# p5 = Passenger(\"Eleven\",\"Paris\")\n",
        "# p6 = Passenger(\"Mike\",\"Brussels\")\n",
        "# t2.addPassenger(p4,p5,p6)\n",
        "# print(\"6========================\")\n",
        "# t2.allPassengerDetails()\n"
      ],
      "metadata": {
        "colab": {
          "base_uri": "https://localhost:8080/",
          "height": 444
        },
        "id": "2lvxrJMdP4N9",
        "outputId": "492e9af0-0562-465b-9708-524c28dc60ea"
      },
      "execution_count": null,
      "outputs": [
        {
          "output_type": "stream",
          "name": "stdout",
          "text": [
            "Welcome abroad on T1-Express \n",
            "Start: New York \n",
            "Destination: Boston\n",
            "1========================\n",
            "Naruto welcome abroad\n"
          ]
        },
        {
          "output_type": "error",
          "ename": "AttributeError",
          "evalue": "ignored",
          "traceback": [
            "\u001b[0;31m---------------------------------------------------------------------------\u001b[0m",
            "\u001b[0;31mAttributeError\u001b[0m                            Traceback (most recent call last)",
            "\u001b[0;32m<ipython-input-4-a18cf70886fa>\u001b[0m in \u001b[0;36m<module>\u001b[0;34m\u001b[0m\n\u001b[1;32m     54\u001b[0m \u001b[0mprint\u001b[0m\u001b[0;34m(\u001b[0m\u001b[0;34m\"1========================\"\u001b[0m\u001b[0;34m)\u001b[0m\u001b[0;34m\u001b[0m\u001b[0;34m\u001b[0m\u001b[0m\n\u001b[1;32m     55\u001b[0m \u001b[0mp1\u001b[0m \u001b[0;34m=\u001b[0m\u001b[0mPassenger\u001b[0m\u001b[0;34m(\u001b[0m\u001b[0;34m\"Naruto\"\u001b[0m\u001b[0;34m)\u001b[0m\u001b[0;34m\u001b[0m\u001b[0;34m\u001b[0m\u001b[0m\n\u001b[0;32m---> 56\u001b[0;31m \u001b[0mt1\u001b[0m\u001b[0;34m.\u001b[0m\u001b[0maddPassenger\u001b[0m\u001b[0;34m(\u001b[0m\u001b[0mp1\u001b[0m\u001b[0;34m)\u001b[0m\u001b[0;34m\u001b[0m\u001b[0;34m\u001b[0m\u001b[0m\n\u001b[0m\u001b[1;32m     57\u001b[0m \u001b[0mp2\u001b[0m \u001b[0;34m=\u001b[0m \u001b[0mPassenger\u001b[0m\u001b[0;34m(\u001b[0m\u001b[0;34m\"Sasuke\"\u001b[0m\u001b[0;34m,\u001b[0m\u001b[0;34m\"Manhattan\"\u001b[0m\u001b[0;34m)\u001b[0m\u001b[0;34m\u001b[0m\u001b[0;34m\u001b[0m\u001b[0m\n\u001b[1;32m     58\u001b[0m \u001b[0mp3\u001b[0m \u001b[0;34m=\u001b[0m \u001b[0mPassenger\u001b[0m\u001b[0;34m(\u001b[0m\u001b[0;34m\"Hinata\"\u001b[0m\u001b[0;34m,\u001b[0m\u001b[0;34m\"Manhattan\"\u001b[0m\u001b[0;34m,\u001b[0m\u001b[0;34m\"Brooklyn\"\u001b[0m\u001b[0;34m)\u001b[0m\u001b[0;34m\u001b[0m\u001b[0;34m\u001b[0m\u001b[0m\n",
            "\u001b[0;32m<ipython-input-4-a18cf70886fa>\u001b[0m in \u001b[0;36maddPassenger\u001b[0;34m(self, *id)\u001b[0m\n\u001b[1;32m     18\u001b[0m     \u001b[0;32mdef\u001b[0m \u001b[0maddPassenger\u001b[0m\u001b[0;34m(\u001b[0m\u001b[0mself\u001b[0m\u001b[0;34m,\u001b[0m\u001b[0;34m*\u001b[0m\u001b[0mid\u001b[0m\u001b[0;34m)\u001b[0m\u001b[0;34m:\u001b[0m\u001b[0;34m\u001b[0m\u001b[0;34m\u001b[0m\u001b[0m\n\u001b[1;32m     19\u001b[0m         \u001b[0mself\u001b[0m\u001b[0;34m.\u001b[0m\u001b[0mid\u001b[0m\u001b[0;34m=\u001b[0m\u001b[0mid\u001b[0m\u001b[0;34m\u001b[0m\u001b[0;34m\u001b[0m\u001b[0m\n\u001b[0;32m---> 20\u001b[0;31m         \u001b[0mself\u001b[0m\u001b[0;34m.\u001b[0m\u001b[0mdict1\u001b[0m\u001b[0;34m[\u001b[0m\u001b[0mid\u001b[0m\u001b[0;34m.\u001b[0m\u001b[0mname\u001b[0m\u001b[0;34m]\u001b[0m\u001b[0;34m=\u001b[0m\u001b[0mid\u001b[0m\u001b[0;34m.\u001b[0m\u001b[0mname\u001b[0m\u001b[0;34m\u001b[0m\u001b[0;34m\u001b[0m\u001b[0m\n\u001b[0m\u001b[1;32m     21\u001b[0m         \u001b[0mx\u001b[0m\u001b[0;34m=\u001b[0m\u001b[0mlen\u001b[0m\u001b[0;34m(\u001b[0m\u001b[0mid\u001b[0m\u001b[0;34m)\u001b[0m\u001b[0;34m\u001b[0m\u001b[0;34m\u001b[0m\u001b[0m\n\u001b[1;32m     22\u001b[0m         \u001b[0;32mif\u001b[0m \u001b[0mx\u001b[0m\u001b[0;34m==\u001b[0m\u001b[0;36m1\u001b[0m\u001b[0;34m:\u001b[0m\u001b[0;34m\u001b[0m\u001b[0;34m\u001b[0m\u001b[0m\n",
            "\u001b[0;31mAttributeError\u001b[0m: 'tuple' object has no attribute 'name'"
          ]
        }
      ]
    }
  ]
}