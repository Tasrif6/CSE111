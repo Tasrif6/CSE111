{
  "nbformat": 4,
  "nbformat_minor": 0,
  "metadata": {
    "colab": {
      "provenance": []
    },
    "kernelspec": {
      "name": "python3",
      "display_name": "Python 3"
    },
    "language_info": {
      "name": "python"
    }
  },
  "cells": [
    {
      "cell_type": "markdown",
      "source": [
        "Operator Overloading"
      ],
      "metadata": {
        "id": "mCSR5EUeDhF6"
      }
    },
    {
      "cell_type": "code",
      "source": [
        "var='This is Tasrif coding'\n",
        "print(var)"
      ],
      "metadata": {
        "colab": {
          "base_uri": "https://localhost:8080/"
        },
        "id": "ECrKPriODkVJ",
        "outputId": "d465d860-9975-4b55-bac2-8f7a7f651571"
      },
      "execution_count": null,
      "outputs": [
        {
          "output_type": "stream",
          "name": "stdout",
          "text": [
            "This is Tasrif coding\n"
          ]
        }
      ]
    },
    {
      "cell_type": "code",
      "source": [
        "#TAW video watch part-2:\n",
        "class House:\n",
        "    def __init__(self,w,d):\n",
        "        self.window=w\n",
        "        self.door=d\n",
        "    def view(self):\n",
        "        print('The house has',self.window,'Window(s) and',self.door,'door(s)')\n",
        "\n",
        "    def __add__(self,other):\n",
        "        new_window=self.window+other.window\n",
        "        new_door=self.door+other.door\n",
        "        obj=House(new_window,new_door)    \n",
        "        return obj\n",
        "        # return 'New house has' +str(new_window) +'windows and'+ str(self.door) ,'doors.'\n",
        "    \n",
        "#'==============================================================='\n",
        "h1=House(6,2)\n",
        "h2=House(4,1)\n",
        "h1.view()\n",
        "h2.view()\n",
        "h3=h1+h2\n",
        "h3.view()       #h1.__add__(h2)\n",
        "# print(h1+h2)    #h1.__add__(h2)"
      ],
      "metadata": {
        "colab": {
          "base_uri": "https://localhost:8080/"
        },
        "id": "s12xErIZDsxC",
        "outputId": "c88a26c3-74f1-41c1-c471-2fa9435e6624"
      },
      "execution_count": null,
      "outputs": [
        {
          "output_type": "stream",
          "name": "stdout",
          "text": [
            "The house has 6 Window(s) and 2 door(s)\n",
            "The house has 4 Window(s) and 1 door(s)\n",
            "The house has 10 Window(s) and 3 door(s)\n"
          ]
        }
      ]
    },
    {
      "cell_type": "code",
      "source": [
        "#Code Samurai:\n",
        "T=int(input())\n",
        "for i in range(T):\n",
        "    N=int(input())\n",
        "    a_list=[]\n",
        "    for j in range(N):\n",
        "        name=input()\n",
        "        a_list.append(name[0])\n",
        "    a_list.sort()\n",
        "    print(a_list)\n",
        "    var=''\n",
        "    for k in a_list:\n",
        "        if a_list.count(k)>=3:\n",
        "            var+=k\n",
        "        else:\n",
        "            pass\n",
        "    if len(var)>=3:\n",
        "        print(var[0])\n",
        "    else:\n",
        "        print('impossible')"
      ],
      "metadata": {
        "colab": {
          "base_uri": "https://localhost:8080/",
          "height": 816
        },
        "id": "gJnA_8mNO0Wr",
        "outputId": "7a13222f-8d97-451f-bb53-e36fe7ac3778"
      },
      "execution_count": null,
      "outputs": [
        {
          "name": "stdout",
          "output_type": "stream",
          "text": [
            "2\n",
            "5\n",
            "arif\n",
            "abir\n",
            "kdfjdks\n",
            "akfj\n",
            "jafkdjasf\n",
            "6\n",
            "fldkf\n",
            "jdkfj\n",
            "kafjdkf\n",
            "kdjsfk\n",
            "jkakf\n",
            "jkfjakf\n",
            "jfakfj\n",
            "fkdjsfklds\n",
            "kfjdkfj\n",
            "jfkjdsfkj\n",
            "jfakfjdkf\n",
            "jkafjdskf\n",
            "jakfja\n",
            "kafjkaf\n",
            "kjakjf\n",
            "akfjkafj\n"
          ]
        },
        {
          "output_type": "error",
          "ename": "KeyboardInterrupt",
          "evalue": "ignored",
          "traceback": [
            "\u001b[0;31m---------------------------------------------------------------------------\u001b[0m",
            "\u001b[0;31mKeyboardInterrupt\u001b[0m                         Traceback (most recent call last)",
            "\u001b[0;32m<ipython-input-62-34c2358f5b51>\u001b[0m in \u001b[0;36m<module>\u001b[0;34m\u001b[0m\n\u001b[1;32m      5\u001b[0m     \u001b[0ma_list\u001b[0m\u001b[0;34m=\u001b[0m\u001b[0;34m[\u001b[0m\u001b[0;34m]\u001b[0m\u001b[0;34m\u001b[0m\u001b[0;34m\u001b[0m\u001b[0m\n\u001b[1;32m      6\u001b[0m     \u001b[0;32mfor\u001b[0m \u001b[0mj\u001b[0m \u001b[0;32min\u001b[0m \u001b[0mrange\u001b[0m\u001b[0;34m(\u001b[0m\u001b[0;36m1\u001b[0m\u001b[0;34m,\u001b[0m\u001b[0;36m151\u001b[0m\u001b[0;34m)\u001b[0m\u001b[0;34m:\u001b[0m\u001b[0;34m\u001b[0m\u001b[0;34m\u001b[0m\u001b[0m\n\u001b[0;32m----> 7\u001b[0;31m         \u001b[0mname\u001b[0m\u001b[0;34m=\u001b[0m\u001b[0minput\u001b[0m\u001b[0;34m(\u001b[0m\u001b[0;34m)\u001b[0m\u001b[0;34m\u001b[0m\u001b[0;34m\u001b[0m\u001b[0m\n\u001b[0m\u001b[1;32m      8\u001b[0m         \u001b[0ma_list\u001b[0m\u001b[0;34m.\u001b[0m\u001b[0mappend\u001b[0m\u001b[0;34m(\u001b[0m\u001b[0mname\u001b[0m\u001b[0;34m[\u001b[0m\u001b[0;36m0\u001b[0m\u001b[0;34m]\u001b[0m\u001b[0;34m)\u001b[0m\u001b[0;34m\u001b[0m\u001b[0;34m\u001b[0m\u001b[0m\n\u001b[1;32m      9\u001b[0m     \u001b[0ma_list\u001b[0m\u001b[0;34m.\u001b[0m\u001b[0msort\u001b[0m\u001b[0;34m(\u001b[0m\u001b[0;34m)\u001b[0m\u001b[0;34m\u001b[0m\u001b[0;34m\u001b[0m\u001b[0m\n",
            "\u001b[0;32m/usr/local/lib/python3.7/dist-packages/ipykernel/kernelbase.py\u001b[0m in \u001b[0;36mraw_input\u001b[0;34m(self, prompt)\u001b[0m\n\u001b[1;32m    861\u001b[0m             \u001b[0mself\u001b[0m\u001b[0;34m.\u001b[0m\u001b[0m_parent_ident\u001b[0m\u001b[0;34m,\u001b[0m\u001b[0;34m\u001b[0m\u001b[0;34m\u001b[0m\u001b[0m\n\u001b[1;32m    862\u001b[0m             \u001b[0mself\u001b[0m\u001b[0;34m.\u001b[0m\u001b[0m_parent_header\u001b[0m\u001b[0;34m,\u001b[0m\u001b[0;34m\u001b[0m\u001b[0;34m\u001b[0m\u001b[0m\n\u001b[0;32m--> 863\u001b[0;31m             \u001b[0mpassword\u001b[0m\u001b[0;34m=\u001b[0m\u001b[0;32mFalse\u001b[0m\u001b[0;34m,\u001b[0m\u001b[0;34m\u001b[0m\u001b[0;34m\u001b[0m\u001b[0m\n\u001b[0m\u001b[1;32m    864\u001b[0m         )\n\u001b[1;32m    865\u001b[0m \u001b[0;34m\u001b[0m\u001b[0m\n",
            "\u001b[0;32m/usr/local/lib/python3.7/dist-packages/ipykernel/kernelbase.py\u001b[0m in \u001b[0;36m_input_request\u001b[0;34m(self, prompt, ident, parent, password)\u001b[0m\n\u001b[1;32m    902\u001b[0m             \u001b[0;32mexcept\u001b[0m \u001b[0mKeyboardInterrupt\u001b[0m\u001b[0;34m:\u001b[0m\u001b[0;34m\u001b[0m\u001b[0;34m\u001b[0m\u001b[0m\n\u001b[1;32m    903\u001b[0m                 \u001b[0;31m# re-raise KeyboardInterrupt, to truncate traceback\u001b[0m\u001b[0;34m\u001b[0m\u001b[0;34m\u001b[0m\u001b[0;34m\u001b[0m\u001b[0m\n\u001b[0;32m--> 904\u001b[0;31m                 \u001b[0;32mraise\u001b[0m \u001b[0mKeyboardInterrupt\u001b[0m\u001b[0;34m(\u001b[0m\u001b[0;34m\"Interrupted by user\"\u001b[0m\u001b[0;34m)\u001b[0m \u001b[0;32mfrom\u001b[0m \u001b[0;32mNone\u001b[0m\u001b[0;34m\u001b[0m\u001b[0;34m\u001b[0m\u001b[0m\n\u001b[0m\u001b[1;32m    905\u001b[0m             \u001b[0;32mexcept\u001b[0m \u001b[0mException\u001b[0m \u001b[0;32mas\u001b[0m \u001b[0me\u001b[0m\u001b[0;34m:\u001b[0m\u001b[0;34m\u001b[0m\u001b[0;34m\u001b[0m\u001b[0m\n\u001b[1;32m    906\u001b[0m                 \u001b[0mself\u001b[0m\u001b[0;34m.\u001b[0m\u001b[0mlog\u001b[0m\u001b[0;34m.\u001b[0m\u001b[0mwarning\u001b[0m\u001b[0;34m(\u001b[0m\u001b[0;34m\"Invalid Message:\"\u001b[0m\u001b[0;34m,\u001b[0m \u001b[0mexc_info\u001b[0m\u001b[0;34m=\u001b[0m\u001b[0;32mTrue\u001b[0m\u001b[0;34m)\u001b[0m\u001b[0;34m\u001b[0m\u001b[0;34m\u001b[0m\u001b[0m\n",
            "\u001b[0;31mKeyboardInterrupt\u001b[0m: Interrupted by user"
          ]
        }
      ]
    },
    {
      "cell_type": "code",
      "source": [
        "T=int(input())\n",
        "for i in range(T):\n",
        "    s=int(input())\n",
        "    run=[]\n",
        "    for j in range(s):\n",
        "        student=input()\n",
        "        run.append(student[0])\n",
        "    m=''\n",
        "    for k in run:\n",
        "        if run.count(k)==3:\n",
        "            m+=k\n",
        "        else:\n",
        "            pass\n",
        "    if len(m)==0:\n",
        "        print('Impossible')\n",
        "    else:\n",
        "        print(m[0])"
      ],
      "metadata": {
        "colab": {
          "base_uri": "https://localhost:8080/"
        },
        "id": "_nxJ3V76aQWj",
        "outputId": "73a14919-7864-406c-81c5-c32d5ca8eb67"
      },
      "execution_count": null,
      "outputs": [
        {
          "output_type": "stream",
          "name": "stdout",
          "text": [
            "2\n",
            "5\n",
            "akash\n",
            "abir\n",
            "kabir\n",
            "imran\n",
            "annie\n",
            "a\n",
            "6\n",
            "jenny\n",
            "sharon\n",
            "adam\n",
            "panny\n",
            "kloe\n",
            "natasha\n",
            "Impossible\n"
          ]
        }
      ]
    },
    {
      "cell_type": "code",
      "source": [
        "class Num:\n",
        "    def __init__(self,num):\n",
        "        self.num=num\n",
        "    def __add__(self,other):\n",
        "         return self.num+other.num\n",
        "n1=Num(10)\n",
        "n2=Num(5)\n",
        "print(n1+n2)"
      ],
      "metadata": {
        "colab": {
          "base_uri": "https://localhost:8080/"
        },
        "id": "lW-kKTE2zc2t",
        "outputId": "be0e4e1d-5d55-4af4-e683-3d6d0b38b14d"
      },
      "execution_count": null,
      "outputs": [
        {
          "output_type": "stream",
          "name": "stdout",
          "text": [
            "15\n"
          ]
        }
      ]
    },
    {
      "cell_type": "markdown",
      "source": [
        "For location access:"
      ],
      "metadata": {
        "id": "EY5h1D-v92nJ"
      }
    },
    {
      "cell_type": "code",
      "source": [
        "class Num:\n",
        "    def __init__(self,num):\n",
        "        self.num=num\n",
        "    def __add__(self,other):\n",
        "         return Num(self.num+other.num)\n",
        "n1=Num(10)\n",
        "n2=Num(5)\n",
        "print(n1+n2+n2)"
      ],
      "metadata": {
        "colab": {
          "base_uri": "https://localhost:8080/"
        },
        "id": "k3O9rk1I9uUD",
        "outputId": "11727ae8-9600-437c-962d-2b0e00aae81c"
      },
      "execution_count": null,
      "outputs": [
        {
          "output_type": "stream",
          "name": "stdout",
          "text": [
            "<__main__.Num object at 0x7f410580acd0>\n"
          ]
        }
      ]
    },
    {
      "cell_type": "markdown",
      "source": [],
      "metadata": {
        "id": "k9YUt-8D9_Rl"
      }
    },
    {
      "cell_type": "code",
      "source": [
        "class Num:\n",
        "    def __init__(self,num):\n",
        "        self.num=num\n",
        "    def __add__(self,other):\n",
        "         return Num(self.num+other.num)\n",
        "n1=Num(10)\n",
        "n2=Num(5)\n",
        "print((n1+n2+n2+n1).num)"
      ],
      "metadata": {
        "colab": {
          "base_uri": "https://localhost:8080/"
        },
        "id": "4VbYrkZH9yJI",
        "outputId": "0645c63b-811c-456a-edbb-005be87cbcc4"
      },
      "execution_count": null,
      "outputs": [
        {
          "output_type": "stream",
          "name": "stdout",
          "text": [
            "30\n"
          ]
        }
      ]
    },
    {
      "cell_type": "markdown",
      "source": [],
      "metadata": {
        "id": "p7rHFcgttUNd"
      }
    },
    {
      "cell_type": "markdown",
      "source": [
        "TO hide a code or private a code from public we "
      ],
      "metadata": {
        "id": "8pkI_svNtl9d"
      }
    },
    {
      "cell_type": "code",
      "source": [
        "class Num:\n",
        "    def __init__(self,num):\n",
        "        self.__num=num\n",
        "    def __add__(self,other):\n",
        "         return Num(self.__num+other.num)\n",
        "n1=Num(10)\n",
        "n2=Num(5)\n",
        "print((n1+n2+n2+n1).num)"
      ],
      "metadata": {
        "colab": {
          "base_uri": "https://localhost:8080/",
          "height": 323
        },
        "id": "sbAiQtA1tT0u",
        "outputId": "5e5c670d-65e6-4778-9ac3-a3f95d5dc64d"
      },
      "execution_count": null,
      "outputs": [
        {
          "output_type": "error",
          "ename": "AttributeError",
          "evalue": "ignored",
          "traceback": [
            "\u001b[0;31m---------------------------------------------------------------------------\u001b[0m",
            "\u001b[0;31mAttributeError\u001b[0m                            Traceback (most recent call last)",
            "\u001b[0;32m<ipython-input-1-89c44424dc59>\u001b[0m in \u001b[0;36m<module>\u001b[0;34m\u001b[0m\n\u001b[1;32m      6\u001b[0m \u001b[0mn1\u001b[0m\u001b[0;34m=\u001b[0m\u001b[0mNum\u001b[0m\u001b[0;34m(\u001b[0m\u001b[0;36m10\u001b[0m\u001b[0;34m)\u001b[0m\u001b[0;34m\u001b[0m\u001b[0;34m\u001b[0m\u001b[0m\n\u001b[1;32m      7\u001b[0m \u001b[0mn2\u001b[0m\u001b[0;34m=\u001b[0m\u001b[0mNum\u001b[0m\u001b[0;34m(\u001b[0m\u001b[0;36m5\u001b[0m\u001b[0;34m)\u001b[0m\u001b[0;34m\u001b[0m\u001b[0;34m\u001b[0m\u001b[0m\n\u001b[0;32m----> 8\u001b[0;31m \u001b[0mprint\u001b[0m\u001b[0;34m(\u001b[0m\u001b[0;34m(\u001b[0m\u001b[0mn1\u001b[0m\u001b[0;34m+\u001b[0m\u001b[0mn2\u001b[0m\u001b[0;34m+\u001b[0m\u001b[0mn2\u001b[0m\u001b[0;34m+\u001b[0m\u001b[0mn1\u001b[0m\u001b[0;34m)\u001b[0m\u001b[0;34m.\u001b[0m\u001b[0mnum\u001b[0m\u001b[0;34m)\u001b[0m\u001b[0;34m\u001b[0m\u001b[0;34m\u001b[0m\u001b[0m\n\u001b[0m",
            "\u001b[0;32m<ipython-input-1-89c44424dc59>\u001b[0m in \u001b[0;36m__add__\u001b[0;34m(self, other)\u001b[0m\n\u001b[1;32m      3\u001b[0m         \u001b[0mself\u001b[0m\u001b[0;34m.\u001b[0m\u001b[0m__num\u001b[0m\u001b[0;34m=\u001b[0m\u001b[0mnum\u001b[0m\u001b[0;34m\u001b[0m\u001b[0;34m\u001b[0m\u001b[0m\n\u001b[1;32m      4\u001b[0m     \u001b[0;32mdef\u001b[0m \u001b[0m__add__\u001b[0m\u001b[0;34m(\u001b[0m\u001b[0mself\u001b[0m\u001b[0;34m,\u001b[0m\u001b[0mother\u001b[0m\u001b[0;34m)\u001b[0m\u001b[0;34m:\u001b[0m\u001b[0;34m\u001b[0m\u001b[0;34m\u001b[0m\u001b[0m\n\u001b[0;32m----> 5\u001b[0;31m          \u001b[0;32mreturn\u001b[0m \u001b[0mNum\u001b[0m\u001b[0;34m(\u001b[0m\u001b[0mself\u001b[0m\u001b[0;34m.\u001b[0m\u001b[0m__num\u001b[0m\u001b[0;34m+\u001b[0m\u001b[0mother\u001b[0m\u001b[0;34m.\u001b[0m\u001b[0mnum\u001b[0m\u001b[0;34m)\u001b[0m\u001b[0;34m\u001b[0m\u001b[0;34m\u001b[0m\u001b[0m\n\u001b[0m\u001b[1;32m      6\u001b[0m \u001b[0mn1\u001b[0m\u001b[0;34m=\u001b[0m\u001b[0mNum\u001b[0m\u001b[0;34m(\u001b[0m\u001b[0;36m10\u001b[0m\u001b[0;34m)\u001b[0m\u001b[0;34m\u001b[0m\u001b[0;34m\u001b[0m\u001b[0m\n\u001b[1;32m      7\u001b[0m \u001b[0mn2\u001b[0m\u001b[0;34m=\u001b[0m\u001b[0mNum\u001b[0m\u001b[0;34m(\u001b[0m\u001b[0;36m5\u001b[0m\u001b[0;34m)\u001b[0m\u001b[0;34m\u001b[0m\u001b[0;34m\u001b[0m\u001b[0m\n",
            "\u001b[0;31mAttributeError\u001b[0m: 'Num' object has no attribute 'num'"
          ]
        }
      ]
    },
    {
      "cell_type": "code",
      "source": [
        "class Player:\n",
        "    count=0\n",
        "    def __init__(self,name,country):\n",
        "        self.name=name\n",
        "        self.country=country\n",
        "        # Player.count+=1\n",
        "        # self.count=Player.count+1  \n",
        "        # self.count+=1\n",
        "        Player.count=self.count+1\n",
        "        print(self.count)\n",
        "    def printDetails(self):\n",
        "        pass\n",
        "\n",
        "print('Total Player: ', Player.count)\n",
        "print('1,==============================')\n",
        "p1=Player('Messi','Argentina')\n",
        "print('Total Player: ', Player.count)\n",
        "print('Total player from object-1: ',p1.count)\n",
        "print('2,==============================')\n",
        "p2=Player('CR7','Portugal')\n",
        "print('Total Player: ', Player.count)\n",
        "print('Total player from object-2: ',p2.count)\n",
        "print('3,===============================')\n",
        "p3=Player('Neymar','Brazil')\n",
        "print('Total Player: ', Player.count)\n",
        "print('Total player from object-3: ',p3.count)\n",
        "print('4,===============================')\n",
        "p4=Player('Muller','Germany')\n",
        "print('Total Player: ', Player.count)\n",
        "print('Total player from object-4: ',p4.count)\n"
      ],
      "metadata": {
        "colab": {
          "base_uri": "https://localhost:8080/"
        },
        "id": "RcqkI-2ve7_3",
        "outputId": "9045d1c0-f14e-428b-a2f6-2aa8b20665c3"
      },
      "execution_count": null,
      "outputs": [
        {
          "output_type": "stream",
          "name": "stdout",
          "text": [
            "Total Player:  0\n",
            "1,==============================\n",
            "1\n",
            "Total Player:  1\n",
            "Total player from object-1:  1\n",
            "2,==============================\n",
            "2\n",
            "Total Player:  2\n",
            "Total player from object-2:  2\n",
            "3,===============================\n",
            "3\n",
            "Total Player:  3\n",
            "Total player from object-3:  3\n",
            "4,===============================\n",
            "4\n",
            "Total Player:  4\n",
            "Total player from object-4:  4\n"
          ]
        }
      ]
    },
    {
      "cell_type": "markdown",
      "source": [
        "**Assignment-5 tasks**"
      ],
      "metadata": {
        "id": "qy-CsbHDRYd9"
      }
    },
    {
      "cell_type": "code",
      "source": [
        "#task-1:\n",
        "class Exam:\n",
        "    def __init__(self,mark):\n",
        "        self.mark=mark\n",
        "    def __add__(self,other):\n",
        "        return Exam(self.mark+other.mark)\n",
        "\n",
        "Q1 = Exam(int(input(\"Quiz 1 (out of 10): \")))\n",
        "Q2 = Exam(int(input(\"Quiz 2 (out of 10): \")))\n",
        "Lab = Exam(int(input(\"Lab (out of 30): \")))\n",
        "Mid = Exam(int(input(\"Mid (out of 20): \")))\n",
        "Final = Exam(int(input(\"Final (out of 30): \")))\n",
        "total = Q1 + Q2 + Lab+Mid+ Final\n",
        "print(\"Total marks: {}\".format(total.mark))"
      ],
      "metadata": {
        "colab": {
          "base_uri": "https://localhost:8080/"
        },
        "id": "LZsAZ16PRXiW",
        "outputId": "607e17b8-6b40-4ffc-e5a7-c6f0bc66b91d"
      },
      "execution_count": null,
      "outputs": [
        {
          "output_type": "stream",
          "name": "stdout",
          "text": [
            "Quiz 1 (out of 10): 10\n",
            "Quiz 2 (out of 10): 10\n",
            "Lab (out of 30): 30\n",
            "Mid (out of 20): 20\n",
            "Final (out of 30): 30\n",
            "Total marks: 100\n"
          ]
        }
      ]
    },
    {
      "cell_type": "code",
      "source": [
        "#task-2:\n",
        "class Teacher:\n",
        "    def __init__(self,name,dept):\n",
        "        self.__name=name\n",
        "        self.__dept=dept\n",
        "        self.list1=[]\n",
        "    def addCourse(self,id):\n",
        "        self.id=id\n",
        "        self.list1.append(id.course)\n",
        "    def printDetail(self):\n",
        "        print('================================')\n",
        "        print(f'Name: {self.__name} \\nDepartment: {self.__dept} \\nList of courses: ')\n",
        "        print('=================================')\n",
        "        for i in self.list1:\n",
        "            print(i)\n",
        "        print('=================================')\n",
        "\n",
        "class Course:\n",
        "    def __init__(self,course):\n",
        "        self.course=course\n",
        "        \n",
        "\n",
        "t1 = Teacher(\"Saad Abdullah\", \"CSE\")\n",
        "t2 = Teacher(\"Mumit Khan\", \"CSE\")\n",
        "t3 = Teacher(\"Sadia Kazi\", \"CSE\")\n",
        "c1 = Course(\"CSE 110 Programming Language I\")\n",
        "c2 = Course(\"CSE 111 Programming Language-II\")\n",
        "c3 = Course(\"CSE 220 Data Structures\")\n",
        "c4 = Course(\"CSE 221 Algorithms\")\n",
        "c5 = Course(\"CCSE 230 Discrete Mathematics\")\n",
        "c6 = Course(\"CSE 310 Object Oriented Programming\")\n",
        "c7 = Course(\"CSE 320 Data Communications\")\n",
        "c8 = Course(\"CSE 340 Computer Architecture\")\n",
        "t1.addCourse(c1)\n",
        "t1.addCourse(c2)\n",
        "t2.addCourse(c3)\n",
        "t2.addCourse(c4)\n",
        "t2.addCourse(c5)\n",
        "t3.addCourse(c6)\n",
        "t3.addCourse(c7)\n",
        "t3.addCourse(c8)\n",
        "t1.printDetail()\n",
        "t2.printDetail()\n",
        "t3.printDetail()\n"
      ],
      "metadata": {
        "colab": {
          "base_uri": "https://localhost:8080/"
        },
        "id": "VnPMH6VCX6gQ",
        "outputId": "80a7fc77-4059-4517-d1fe-722b894bbb3f"
      },
      "execution_count": null,
      "outputs": [
        {
          "output_type": "stream",
          "name": "stdout",
          "text": [
            "================================\n",
            "Name: Saad Abdullah \n",
            "Department: CSE \n",
            "List of courses: \n",
            "=================================\n",
            "CSE 110 Programming Language I\n",
            "CSE 111 Programming Language-II\n",
            "=================================\n",
            "================================\n",
            "Name: Mumit Khan \n",
            "Department: CSE \n",
            "List of courses: \n",
            "=================================\n",
            "CSE 220 Data Structures\n",
            "CSE 221 Algorithms\n",
            "CCSE 230 Discrete Mathematics\n",
            "=================================\n",
            "================================\n",
            "Name: Sadia Kazi \n",
            "Department: CSE \n",
            "List of courses: \n",
            "=================================\n",
            "CSE 310 Object Oriented Programming\n",
            "CSE 320 Data Communications\n",
            "CSE 340 Computer Architecture\n",
            "=================================\n"
          ]
        }
      ]
    },
    {
      "cell_type": "code",
      "source": [
        "#task-3:\n",
        "class Team:\n",
        "    def __init__(self,country=None):\n",
        "        self.__country=country\n",
        "        self.list1=[]\n",
        "    def setName(self,country):\n",
        "        self.__country=country\n",
        "    def addPlayer(self,name):\n",
        "        self.name=name.name1\n",
        "        self.list1.append(self.name)\n",
        "    def printDetail(self):\n",
        "        print('========================')\n",
        "        print(f'Team: {self.__country} \\nList of Players: \\n{self.list1}')\n",
        "        print('========================')\n",
        "class Player:\n",
        "    def __init__(self,name1):\n",
        "        self.name1=name1\n",
        "\n",
        "\n",
        "\n",
        "b = Team()\n",
        "b.setName('Bangladesh')\n",
        "mashrafi = Player(\"Mashrafi\")\n",
        "b.addPlayer(mashrafi)\n",
        "tamim = Player(\"Tamim\")\n",
        "b.addPlayer(tamim)\n",
        "b.printDetail()\n",
        "a = Team(\"Australia\")\n",
        "ponting = Player(\"Ponting\")\n",
        "a.addPlayer(ponting)\n",
        "lee = Player(\"Lee\")\n",
        "a.addPlayer(lee)\n",
        "a.printDetail()\n"
      ],
      "metadata": {
        "colab": {
          "base_uri": "https://localhost:8080/"
        },
        "id": "d_U3NuuecDhi",
        "outputId": "d28f40c0-2c30-4be5-cb99-cc3b83a71c14"
      },
      "execution_count": null,
      "outputs": [
        {
          "output_type": "stream",
          "name": "stdout",
          "text": [
            "========================\n",
            "Team: Bangladesh \n",
            "List of Players: \n",
            "['Mashrafi', 'Tamim']\n",
            "========================\n",
            "========================\n",
            "Team: Australia \n",
            "List of Players: \n",
            "['Ponting', 'Lee']\n",
            "========================\n"
          ]
        }
      ]
    },
    {
      "cell_type": "code",
      "source": [
        "#task-4:\n",
        "class Color:\n",
        "    def __init__(self,clr):\n",
        "        self.clr=clr\n",
        "    def __add__(self, q1):\n",
        "        if self.clr == \"red\" and q1.clr == \"yellow\":\n",
        "            data = \"Orange\"\n",
        "        elif self.clr==\"red\" and q1.clr == \"blue\":\n",
        "            data = \"Violet\"\n",
        "        # elif self.clr == \"yellow\" and q1.clr == \"blue\":\n",
        "        else:\n",
        "            data = \"Green\"\n",
        "        c1 = Color(data)\n",
        "        return c1\n",
        "\n",
        "C1 = Color(input(\"First Color: \").lower())\n",
        "C2 = Color(input(\"Second Color: \").lower())\n",
        "C3 = C1 + C2\n",
        "print(\"Color formed:\", C3.clr)\n"
      ],
      "metadata": {
        "colab": {
          "base_uri": "https://localhost:8080/"
        },
        "id": "KYN3fOuWjR72",
        "outputId": "0931a613-f250-440e-d119-b11f7f2b5405"
      },
      "execution_count": null,
      "outputs": [
        {
          "output_type": "stream",
          "name": "stdout",
          "text": [
            "First Color: yellow\n",
            "Second Color: blue\n",
            "Color formed: Green\n"
          ]
        }
      ]
    },
    {
      "cell_type": "code",
      "source": [
        "#task-5:\n",
        "from math import pi\n",
        "class Circle:\n",
        "    def __init__(self,num):\n",
        "        self.__num=num\n",
        "    def getRadius(self):\n",
        "        return self.__num\n",
        "    def setRadius(self):\n",
        "        return self.__num\n",
        "    def area(self):\n",
        "        return pi*(self.__num**2)\n",
        "    def __add__(self,other):\n",
        "        data= self.__num+other.__num\n",
        "        result= Circle(data)\n",
        "        return result\n",
        "\n",
        "\n",
        "\n",
        "c1 = Circle(4)\n",
        "print(\"First circle radius:\" , c1.getRadius())\n",
        "print(\"First circle area:\" ,c1.area())\n",
        "c2 = Circle(5)\n",
        "print(\"Second circle radius:\" ,c2.getRadius())\n",
        "print(\"Second circle area:\" ,c2.area())\n",
        "c3 = c1 + c2\n",
        "print(\"Third circle radius:\" ,c3.getRadius())\n",
        "print(\"Third circle area:\" ,c3.area())\n"
      ],
      "metadata": {
        "colab": {
          "base_uri": "https://localhost:8080/"
        },
        "id": "cf8bYw-gAG7f",
        "outputId": "4aeed7fb-d078-4073-ac68-d1e8f9e61073"
      },
      "execution_count": null,
      "outputs": [
        {
          "output_type": "stream",
          "name": "stdout",
          "text": [
            "First circle radius: 4\n",
            "First circle area: 50.26548245743669\n",
            "Second circle radius: 5\n",
            "Second circle area: 78.53981633974483\n",
            "Third circle radius: 9\n",
            "Third circle area: 254.46900494077323\n"
          ]
        }
      ]
    },
    {
      "cell_type": "code",
      "source": [
        "#task-6:\n",
        "class Triangle:\n",
        "    def __init__(self,base, height):\n",
        "        self.__base=base\n",
        "        self.__height=height\n",
        "    def getBase(self):\n",
        "        return self.__base\n",
        "    def setBase(self):\n",
        "        return self.__base\n",
        "    def getHeight(self):\n",
        "        return self.__height\n",
        "    def setHeight(self):\n",
        "        return self.__height\n",
        "    def area(self):\n",
        "        return 0.5*self.__base*self.__height   \n",
        "    def __sub__(self,other):\n",
        "        data1=self.__base-other.__base\n",
        "        data2=self.__height-other.__height\n",
        "        result=Triangle(data1,data2)\n",
        "        return result\n",
        "\n",
        "\n",
        "#driver code:\n",
        "t1 = Triangle(10, 5)\n",
        "print(\"First Triangle Base:\" , t1.getBase())\n",
        "print(\"First Triangle Height:\" , t1.getHeight())\n",
        "print(\"First Triangle area:\" ,t1.area())\n",
        "t2 = Triangle(5, 3)\n",
        "print(\"Second Triangle Base:\" , t2.getBase())\n",
        "print(\"Second Triangle Height:\" , t2.getHeight())\n",
        "print(\"Second Triangle area:\" ,t2.area())\n",
        "t3 = t1 - t2\n",
        "print(\"Third Triangle Base:\" , t3.getBase())\n",
        "print(\"Third Triangle Height:\" , t3.getHeight())\n",
        "print(\"Third Triangle area:\" ,t3.area())"
      ],
      "metadata": {
        "colab": {
          "base_uri": "https://localhost:8080/"
        },
        "id": "KWx78S94LRA4",
        "outputId": "ce8047c6-df24-4063-aacc-19db64935045"
      },
      "execution_count": null,
      "outputs": [
        {
          "output_type": "stream",
          "name": "stdout",
          "text": [
            "First Triangle Base: 10\n",
            "First Triangle Height: 5\n",
            "First Triangle area: 25.0\n",
            "Second Triangle Base: 5\n",
            "Second Triangle Height: 3\n",
            "Second Triangle area: 7.5\n",
            "Third Triangle Base: 5\n",
            "Third Triangle Height: 2\n",
            "Third Triangle area: 5.0\n"
          ]
        }
      ]
    },
    {
      "cell_type": "code",
      "source": [
        "#task-7:\n",
        "class Dolls:\n",
        "    def __init__(self,name,price,p1=None):\n",
        "        self.name=name\n",
        "        self.price=price\n",
        "        self.p1=p1\n",
        "    def detail(self):\n",
        "        if self.p1==True:\n",
        "            return f'Dolls: {self.name} \\nTotal Price: {self.price}'\n",
        "        else:\n",
        "            return f'Doll: {self.name} \\nTotal Price: {self.price}'\n",
        "    \n",
        "    def __gt__(self,other):\n",
        "        self.other=other\n",
        "        if self.price>other.price:\n",
        "            return True\n",
        "        else:\n",
        "            return False\n",
        "    def __add__(self,other1):\n",
        "        self.other1=other1\n",
        "        # self.other2=other2\n",
        "        return Dolls(self.name+other1.name, self.price+other1.price,True)\n",
        "\n",
        "\n",
        "obj_1 = Dolls(\"Tweety\", 2500)\n",
        "print(obj_1.detail())\n",
        "if obj_1 > obj_1:\n",
        "    print(\"Congratulations! You get the Tweety as a gift!\")\n",
        "else:\n",
        "    print(\"Thank you!\")\n",
        "print(\"=========================\")\n",
        "obj_2 = Dolls(\"Daffy Duck\", 1800)\n",
        "print(obj_2.detail())\n",
        "if obj_2 > obj_1:\n",
        "    print(\"Congratulations! You get the Tweety as a gift!\")\n",
        "else:\n",
        "    print(\"Thank you!\")\n",
        "print(\"=========================\")\n",
        "obj_3 = Dolls(\"Bugs Bunny\", 3000)\n",
        "print(obj_3.detail())\n",
        "if obj_3 > obj_1:\n",
        "    print(\"Congratulations! You get the Tweety as a gift!\")\n",
        "else:\n",
        "    print(\"Thank you!\")\n",
        "print(\"=========================\")\n",
        "obj_4 = Dolls(\"Porky Pig\", 1500)\n",
        "print(obj_4.detail())\n",
        "if obj_4 > obj_1:\n",
        "    print(\"Congratulations! You get the Tweety as a gift!\")\n",
        "else:\n",
        "    print(\"Thank you!\")\n",
        "print(\"=========================\")\n",
        "obj_5 = obj_2 + obj_3\n",
        "print(obj_5.detail())\n",
        "if obj_5 > obj_1:\n",
        "    print(\"Congratulations! You get the Tweety as a gift!\")\n",
        "else:\n",
        "    print(\"Thank you!\")"
      ],
      "metadata": {
        "colab": {
          "base_uri": "https://localhost:8080/"
        },
        "id": "w0tbIoEWjMr3",
        "outputId": "f3c37996-7d28-458d-a363-5c1b033cb5f6"
      },
      "execution_count": null,
      "outputs": [
        {
          "output_type": "stream",
          "name": "stdout",
          "text": [
            "Doll: Tweety \n",
            "Total Price: 2500\n",
            "Thank you!\n",
            "=========================\n",
            "Doll: Daffy Duck \n",
            "Total Price: 1800\n",
            "Thank you!\n",
            "=========================\n",
            "Doll: Bugs Bunny \n",
            "Total Price: 3000\n",
            "Congratulations! You get the Tweety as a gift!\n",
            "=========================\n",
            "Doll: Porky Pig \n",
            "Total Price: 1500\n",
            "Thank you!\n",
            "=========================\n",
            "Dolls: Daffy DuckBugs Bunny \n",
            "Total Price: 4800\n",
            "Congratulations! You get the Tweety as a gift!\n"
          ]
        }
      ]
    },
    {
      "cell_type": "code",
      "source": [
        "#task-8:\n",
        "class Coordinates:\n",
        "    def __init__(self,num1,num2):\n",
        "        self.num1=num1\n",
        "        self.num2=num2\n",
        "    def __sub__(self,other):\n",
        "        data1=self.num1-other.num1\n",
        "        data2=self.num2-other.num2\n",
        "        return Coordinates(data1,data2)\n",
        "    def __mul__(self,other2):\n",
        "        data1=self.num1*other2.num1\n",
        "        data2=self.num2*other2.num2\n",
        "        return Coordinates(data1,data2)\n",
        "    def __eq__(self,other3):\n",
        "        if self.num1==other3.num1 and self.num2==other3.num2:\n",
        "            return 'The calculated coordinates are the same'\n",
        "        else:\n",
        "            return 'The calculated coordinates are NOT the same'\n",
        "    def detail(self):\n",
        "        return f'({self.num1},{self.num2})'\n",
        "\n",
        "#driver code:\n",
        "p1 = Coordinates(int(input()),int(input()))\n",
        "p2 = Coordinates(int(input()),int(input()))\n",
        "p4 = p1 - p2\n",
        "print(p4.detail())\n",
        "p5 = p1 * p2\n",
        "print(p5.detail())\n",
        "point_check = (p4 == p5)\n",
        "print(point_check)"
      ],
      "metadata": {
        "colab": {
          "base_uri": "https://localhost:8080/"
        },
        "id": "M4ET9Zr0PULh",
        "outputId": "0bba5fe8-2094-44ed-cfc3-8c488b939634"
      },
      "execution_count": null,
      "outputs": [
        {
          "output_type": "stream",
          "name": "stdout",
          "text": [
            "1\n",
            "2\n",
            "3\n",
            "4\n",
            "(-2,-2)\n",
            "(3,8)\n",
            "The calculated coordinates are NOT the same\n"
          ]
        }
      ]
    },
    {
      "cell_type": "code",
      "source": [
        "A = [[1, 2, 3], [2,4,4], [4, 5, 6]]\n",
        "B= [i for i in A]\n",
        "print(B)"
      ],
      "metadata": {
        "colab": {
          "base_uri": "https://localhost:8080/"
        },
        "id": "jOjqmKUi2agB",
        "outputId": "d1d7ac2a-fb0f-4341-b73a-aab7ee49b147"
      },
      "execution_count": null,
      "outputs": [
        {
          "output_type": "stream",
          "name": "stdout",
          "text": [
            "[[1, 2, 3], [2, 4, 4], [4, 5, 6]]\n"
          ]
        }
      ]
    },
    {
      "cell_type": "code",
      "source": [
        "fruits = [\"apple\", \"banana\", \"cherry\", \"kiwi\", \"mango\"]\n",
        "\n",
        "newlist = [x for x in fruits if \"a\" in x]\n",
        "\n",
        "print(newlist)"
      ],
      "metadata": {
        "colab": {
          "base_uri": "https://localhost:8080/"
        },
        "id": "FshbUpj-3eCF",
        "outputId": "ccfb434d-4bd8-48dd-a644-10363293a4b8"
      },
      "execution_count": null,
      "outputs": [
        {
          "output_type": "stream",
          "name": "stdout",
          "text": [
            "['apple', 'banana', 'mango']\n"
          ]
        }
      ]
    },
    {
      "cell_type": "code",
      "source": [
        "#tracing code:\n",
        "class Hritick:\n",
        "    x=1\n",
        "    def __init__(self,x):\n",
        "        self.a=x\n",
        "        self.b=5\n",
        "        self.x+=(1+x)\n",
        "        print(self.a,self.b,self.x)\n",
        "    def methodA(self,y):\n",
        "        z=Hritick(5)\n",
        "        z.methodB()\n",
        "        print(z.a,z.b,z.x)\n",
        "    def methodB(self):\n",
        "        print(self.a,self.b,self.x)\n",
        "\n",
        "c1=Hritick(4)\n",
        "c1.methodA(5)"
      ],
      "metadata": {
        "colab": {
          "base_uri": "https://localhost:8080/"
        },
        "id": "DJMsgSBU1nvh",
        "outputId": "2b21dca8-4d63-4873-bfd9-85c9798302a2"
      },
      "execution_count": null,
      "outputs": [
        {
          "output_type": "stream",
          "name": "stdout",
          "text": [
            "4 5 6\n",
            "5 5 7\n",
            "5 5 7\n",
            "5 5 7\n"
          ]
        }
      ]
    }
  ]
}