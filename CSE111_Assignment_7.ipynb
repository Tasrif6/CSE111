{
  "nbformat": 4,
  "nbformat_minor": 0,
  "metadata": {
    "colab": {
      "provenance": []
    },
    "kernelspec": {
      "name": "python3",
      "display_name": "Python 3"
    },
    "language_info": {
      "name": "python"
    }
  },
  "cells": [
    {
      "cell_type": "code",
      "execution_count": null,
      "metadata": {
        "colab": {
          "base_uri": "https://localhost:8080/"
        },
        "id": "lqmKqww9aNty",
        "outputId": "b8807029-8803-4fd1-a841-12f01a394c29"
      },
      "outputs": [
        {
          "output_type": "stream",
          "name": "stdout",
          "text": [
            "Hello! This is Tasrif Coding\n"
          ]
        }
      ],
      "source": [
        "input='Hello! This is Tasrif Coding'\n",
        "print(input)"
      ]
    },
    {
      "cell_type": "code",
      "source": [
        "#task-1:\n",
        "class Student:\n",
        "    def __init__(self, name='Just a student', dept='nothing'):\n",
        "        self.__name = name\n",
        "        self.__department = dept\n",
        "    def set_department(self, dept):\n",
        "        self.__department = dept\n",
        "    def get_name(self):\n",
        "        return self.__name\n",
        "    def set_name(self,name):\n",
        "        self.__name = name\n",
        "    def __str__(self):\n",
        "        return 'Name: '+self.__name+' Department: '+self.__department\n",
        "#write your code here\n",
        "class BBA_Student(Student):\n",
        "    def __init__(self,name='Default',dept='BBA'):\n",
        "        super().__init__(name,dept)\n",
        "\n",
        "#driver code:\n",
        "print(BBA_Student())\n",
        "print(BBA_Student('Humpty Dumpty'))\n",
        "print(BBA_Student('Little Bo Peep'))"
      ],
      "metadata": {
        "colab": {
          "base_uri": "https://localhost:8080/"
        },
        "id": "x19FqoBkapy-",
        "outputId": "c0a61684-43ab-4d01-d0ca-281ac404a553"
      },
      "execution_count": null,
      "outputs": [
        {
          "output_type": "stream",
          "name": "stdout",
          "text": [
            "Name: Default Department: BBA\n",
            "Name: Humpty Dumpty Department: BBA\n",
            "Name: Little Bo Peep Department: BBA\n"
          ]
        }
      ]
    },
    {
      "cell_type": "code",
      "source": [
        "#task-2:\n",
        "class Vehicle:\n",
        "    def __init__(self):\n",
        "        self.x = 0\n",
        "        self.y = 0\n",
        "    def moveUp(self):\n",
        "        self.y += 1\n",
        "    def moveDown(self):\n",
        "        self.y -= 1\n",
        "    def moveRight(self):\n",
        "        self.x += 1\n",
        "    def moveLeft(self):\n",
        "        self.x -= 1\n",
        "    def __str__(self):\n",
        "        return '('+str(self.x)+' , '+str(self.y)+')'\n",
        "\n",
        "#write your code here\n",
        "class Vehicle2010(Vehicle):\n",
        "    def __init__(self):\n",
        "        return super().__init__()\n",
        "        # self.x=0\n",
        "        # self.y=0\n",
        "    def moveUpperRight(self):\n",
        "        return '(' +str(super().moveRight())+ ',' + str(super().moveUp())+ ')'\n",
        "    def moveUpperLeft(self):\n",
        "        return '(' +str(super().moveLeft())+ ',' +str(super().moveUp())+ ')'\n",
        "    def moveLowerRight(self):\n",
        "        return '(' +str(super().moveRight())+ ',' +str(super().moveDown())+ ')'\n",
        "    def moveLowerLeft(self):\n",
        "        return '(' +str(super().moveLeft())+ ',' +str(super().moveDown())+ ')'\n",
        "    def equals(self,another):\n",
        "        if (self.x==another.x) and (self.y==another.y):\n",
        "            return True\n",
        "        else:\n",
        "            return False\n",
        "        \n",
        "#driver code:\n",
        "print('Part 1')\n",
        "print('------')\n",
        "car = Vehicle()\n",
        "print(car)\n",
        "car.moveUp()\n",
        "print(car)\n",
        "car.moveLeft()\n",
        "print(car)\n",
        "car.moveDown()\n",
        "print(car)\n",
        "car.moveRight()\n",
        "print(car)\n",
        "print('------')\n",
        "print('Part 2')\n",
        "print('------')\n",
        "car1 = Vehicle2010()\n",
        "print(car1)\n",
        "car1.moveLowerLeft()\n",
        "print(car1)\n",
        "car2 = Vehicle2010()\n",
        "car2.moveLeft()\n",
        "print(car1.equals(car2))\n",
        "car2.moveDown()\n",
        "print(car1.equals(car2))"
      ],
      "metadata": {
        "id": "7EozoI14iHpP",
        "colab": {
          "base_uri": "https://localhost:8080/"
        },
        "outputId": "f703bb22-d245-4c7c-93c8-4d82a1d4628e"
      },
      "execution_count": null,
      "outputs": [
        {
          "output_type": "stream",
          "name": "stdout",
          "text": [
            "Part 1\n",
            "------\n",
            "(0 , 0)\n",
            "(0 , 1)\n",
            "(-1 , 1)\n",
            "(-1 , 0)\n",
            "(0 , 0)\n",
            "------\n",
            "Part 2\n",
            "------\n",
            "(0 , 0)\n",
            "(-1 , -1)\n",
            "False\n",
            "True\n"
          ]
        }
      ]
    },
    {
      "cell_type": "code",
      "source": [
        "#task-3:\n",
        "class Tournament:\n",
        "    def __init__(self,name='Default'):\n",
        "        self.__name = name\n",
        "    def set_name(self,name):\n",
        "        self.__name = name\n",
        "    def get_name(self):\n",
        "        return self.__name\n",
        "\n",
        "#write your code here\n",
        "class Cricket_Tournament(Tournament):\n",
        "    def __init__(self,name='Default',team='0',Type='No type'):\n",
        "        super().__init__(name)\n",
        "        self.team=team\n",
        "        self.Type=Type\n",
        "       \n",
        "    def detail(self):\n",
        "        return f'Cricket Tournament Name:{super().get_name()} \\nNumber of Teams: {self.team} \\nType: {self.Type}'\n",
        "        \n",
        "class Tennis_Tournament(Tournament):\n",
        "    def __init__(self,name='Roland Garros',player=128):\n",
        "        super().__init__(name)\n",
        "        self.player=player\n",
        "    def detail(self):\n",
        "        return f'Tennis Tournament Name: {super().get_name()} \\nNumber of Players: {self.player}'\n",
        "\n",
        "#driver code:\n",
        "ct1 = Cricket_Tournament()\n",
        "print(ct1.detail())\n",
        "print(\"-----------------------\")\n",
        "ct2 = Cricket_Tournament(\"IPL\",10,\"t20\")\n",
        "print(ct2.detail())\n",
        "print(\"-----------------------\")\n",
        "tt = Tennis_Tournament(\"Roland Garros\",128)\n",
        "print(tt.detail())\n"
      ],
      "metadata": {
        "colab": {
          "base_uri": "https://localhost:8080/"
        },
        "id": "7OY7n3gQmglv",
        "outputId": "baf7cf58-7486-438b-869d-61bf0fcd1df4"
      },
      "execution_count": null,
      "outputs": [
        {
          "output_type": "stream",
          "name": "stdout",
          "text": [
            "Cricket Tournament Name:Default \n",
            "Number of Teams: 0 \n",
            "Type: No type\n",
            "-----------------------\n",
            "Cricket Tournament Name:IPL \n",
            "Number of Teams: 10 \n",
            "Type: t20\n",
            "-----------------------\n",
            "Tennis Tournament Name: Roland Garros \n",
            "Number of Players: 128\n"
          ]
        }
      ]
    },
    {
      "cell_type": "code",
      "source": [
        "#task-4:\n",
        "class Product:\n",
        "    def __init__(self,id, title, price):\n",
        "        self.__id = id\n",
        "        self.__title = title\n",
        "        self.__price = price\n",
        "    def get_id_title_price(self):\n",
        "        return \"ID: \"+str(self.__id)+\" Title:\"+self.__title+ \"Price: \"+str(self.__price)\n",
        "\n",
        "#Child class\n",
        "class Book(Product):\n",
        "    def __init__(self,id,title,price, isbn, publisher):\n",
        "        # super().__init__(id,title,price)\n",
        "        self.id=id\n",
        "        self.title=title\n",
        "        self.price=price\n",
        "        self.isbn=isbn\n",
        "        self.publisher=publisher\n",
        "    def printDetail(self):\n",
        "        return f'ID: {self.id} Title: {self.title} Price: {self.price} \\nISBN: {self.isbn} Publisher: {self.publisher}'\n",
        "class CD(Product):\n",
        "    def __init__(self,id,title, price,band,time,genre):\n",
        "        self.id=id\n",
        "        self.title=title\n",
        "        self.price=price\n",
        "        self.band=band\n",
        "        self.time=time\n",
        "        self.genre=genre\n",
        "    def printDetail(self):\n",
        "        return f'ID: {self.id} Title: {self.title} Price: {self.price} \\nBand: {self.band} Duration: {self.time} \\nGenre: {self.genre}'\n",
        "\n",
        "#write your code here\n",
        "book = Book(1,\"The Alchemist\",500,\"97806\",\"HarperCollins\")\n",
        "print(book.printDetail())\n",
        "print(\"-----------------------\")\n",
        "cd = CD(2,\"Shotto\",300,\"Warfaze\",50,\"Hard Rock\")\n",
        "print(cd.printDetail())"
      ],
      "metadata": {
        "colab": {
          "base_uri": "https://localhost:8080/"
        },
        "id": "Y4f3P2yJkBOP",
        "outputId": "6137581b-fdfd-4990-acd7-43db6112944e"
      },
      "execution_count": null,
      "outputs": [
        {
          "output_type": "stream",
          "name": "stdout",
          "text": [
            "ID: 1 Title: The Alchemist Price: 500 \n",
            "ISBN: 97806 Publisher: HarperCollins\n",
            "-----------------------\n",
            "ID: 2 Title: Shotto Price: 300 \n",
            "Band: Warfaze Duration: 50 \n",
            "Genre: Hard Rock\n"
          ]
        }
      ]
    },
    {
      "cell_type": "code",
      "source": [
        "#task-4:\n",
        "class Product:\n",
        "    def __init__(self,id, title, price):\n",
        "        self.__id = id\n",
        "        self.__title = title\n",
        "        self.__price = price\n",
        "    def get_id_title_price(self):\n",
        "        return \"ID: \"+str(self.__id)+\" Title:\"+self.__title+ \"Price: \"+str(self.__price)\n",
        "#Child class\n",
        "class Book(Product):\n",
        "    def __init__(self,id,title,price, isbn, publisher):\n",
        "        super().__init__(id,title,price)\n",
        "        self.isbn=isbn\n",
        "        self.publisher=publisher\n",
        "    def printDetail(self):\n",
        "        s=super().get_id_title_price()\n",
        "        return f'{s} \\nISBN: {self.isbn} Publisher: {self.publisher}'\n",
        "\n",
        "class CD(Product):\n",
        "    def __init__(self,id,title, price,band,time,genre):\n",
        "        super().__init__(id,title,price)\n",
        "        self.band=band\n",
        "        self.time=time\n",
        "        self.genre=genre\n",
        "    def printDetail(self):\n",
        "        s=super().get_id_title_price()\n",
        "        return f'{s} \\nBand: {self.band} Duration: {self.time} \\nGenre: {self.genre}'\n",
        "\n",
        "#write your code here\n",
        "book = Book(1,\"The Alchemist\",500,\"97806\",\"HarperCollins\")\n",
        "print(book.printDetail())\n",
        "print(\"-----------------------\")\n",
        "cd = CD(2,\"Shotto\",300,\"Warfaze\",50,\"Hard Rock\")\n",
        "print(cd.printDetail())"
      ],
      "metadata": {
        "colab": {
          "base_uri": "https://localhost:8080/"
        },
        "id": "SQ3E8cv2mmmu",
        "outputId": "ec042fea-4dbe-45bd-cde9-0d08fc82aa01"
      },
      "execution_count": null,
      "outputs": [
        {
          "output_type": "stream",
          "name": "stdout",
          "text": [
            "ID: 1 Title:The AlchemistPrice: 500 \n",
            "ISBN: 97806 Publisher: HarperCollins\n",
            "-----------------------\n",
            "ID: 2 Title:ShottoPrice: 300 \n",
            "Band: Warfaze Duration: 50 \n",
            "Genre: Hard Rock\n"
          ]
        }
      ]
    },
    {
      "cell_type": "code",
      "source": [
        "#task-5:\n",
        "class Animal:   \n",
        "    def __init__(self,sound):\n",
        "        self.__sound = sound       \n",
        "    def makeSound(self):\n",
        "        return self.__sound\n",
        "class Printer:   \n",
        "    def printSound(self, a):\n",
        "        print(a.makeSound())\n",
        "\n",
        "#write your code here\n",
        "class Dog(Animal):\n",
        "    pass\n",
        "class Cat(Animal):\n",
        "    pass\n",
        "   \n",
        "#driver code:\n",
        "d1 = Dog('bark')\n",
        "c1 = Cat('meow')\n",
        "a1 = Animal('Animal does not make sound')\n",
        "pr = Printer()\n",
        "pr.printSound(a1)\n",
        "pr.printSound(c1)\n",
        "pr.printSound(d1)"
      ],
      "metadata": {
        "colab": {
          "base_uri": "https://localhost:8080/"
        },
        "id": "2I0AaS_KvitW",
        "outputId": "298909af-d669-488f-bdc5-477f33291997"
      },
      "execution_count": null,
      "outputs": [
        {
          "output_type": "stream",
          "name": "stdout",
          "text": [
            "Animal does not make sound\n",
            "meow\n",
            "bark\n"
          ]
        }
      ]
    },
    {
      "cell_type": "code",
      "source": [
        "#task-6:\n",
        "class Shape:\n",
        "    def __init__(self, name='Default', height=0, base=0):\n",
        "        self.area = 0\n",
        "        self.name = name\n",
        "        self.height = height\n",
        "        self.base = base\n",
        "    def get_height_base(self):\n",
        "        return \"Height: \"+str(self.height)+\",Base: \"+str(self.base)\n",
        "#write your code here\n",
        "class triangle(Shape):\n",
        "    def __init__(self,name=None,height=None,base=None):\n",
        "        self.name=name\n",
        "        if self.name==None:\n",
        "            super().__init__()\n",
        "        elif self.name!=None:\n",
        "            self.name=name\n",
        "            self.height=height\n",
        "            self.base=base\n",
        "    def calcArea(self):\n",
        "        if self.height!=None and self.base!=None:\n",
        "            self.result=0.5*(self.height*self.base)\n",
        "        else:\n",
        "            pass\n",
        "    def printDetail(self):\n",
        "        s=super().get_height_base()\n",
        "        if self.height!=None and self.base!=None:\n",
        "            return f'Shape name: {self.name} \\n{s} \\nArea: {self.result}'\n",
        "            \n",
        "class trapezoid(Shape):\n",
        "    def __init__(self,name,height,base,side):\n",
        "        super().__init__(name,height,base)\n",
        "        self.side=side\n",
        "    def calcArea(self):\n",
        "        self.result=((self.base+self.side)/2)*self.height\n",
        "    def printDetail(self):\n",
        "        s=super().get_height_base()\n",
        "        return f'Name: {self.name} \\n{s} \\nArea: {self.result}'\n",
        "#driver code\n",
        "tri_default = triangle()\n",
        "tri_default.calcArea()\n",
        "print(tri_default.printDetail())\n",
        "print('--------------------------')\n",
        "tri = triangle('Triangle', 10, 5)\n",
        "tri.calcArea()\n",
        "print(tri.printDetail())\n",
        "print('---------------------------')\n",
        "trap = trapezoid('Trapezoid', 10, 6, 4)\n",
        "trap.calcArea()\n",
        "print(trap.printDetail())\n"
      ],
      "metadata": {
        "colab": {
          "base_uri": "https://localhost:8080/"
        },
        "id": "jZypGS9LnWtX",
        "outputId": "182ee429-da15-4ec9-c87c-aa1fdf381f43"
      },
      "execution_count": null,
      "outputs": [
        {
          "output_type": "stream",
          "name": "stdout",
          "text": [
            "Shape name: Default \n",
            "Height: 0,Base: 0 \n",
            "Area: 0.0\n",
            "--------------------------\n",
            "Shape name: Triangle \n",
            "Height: 10,Base: 5 \n",
            "Area: 25.0\n",
            "---------------------------\n",
            "Name: Trapezoid \n",
            "Height: 10,Base: 6 \n",
            "Area: 50.0\n"
          ]
        }
      ]
    },
    {
      "cell_type": "code",
      "source": [
        "#task-6:\n",
        "class Shape:\n",
        "    def __init__(self, name='Default', height=0, base=0):\n",
        "        self.area = 0\n",
        "        self.name = name\n",
        "        self.height = height\n",
        "        self.base = base\n",
        "    def get_height_base(self):\n",
        "        return \"Height: \"+str(self.height)+\", Base: \"+str(self.base)\n",
        "\n",
        "#write your code here\n",
        "class triangle(Shape):\n",
        "    def __init__(self,name='Default',height=0,base=0):\n",
        "        super().__init__(name,height,base)\n",
        "    def calcArea(self):\n",
        "        self.result=0.5*(self.height*self.base)\n",
        "    def printDetail(self): \n",
        "        s=super().get_height_base()\n",
        "        return f'Shape name: {self.name} \\n{s} \\nArea: {self.result}'\n",
        "\n",
        "class trapezoid(Shape):\n",
        "    def __init__(self,name,height,base,side):\n",
        "        super().__init__(name,height,base)   #In this case the name,height and base are not defined so it will go into the parent class via super().__init__() then it will go to the 4-6th line and call from child class.\n",
        "        self.side=side\n",
        "    def calcArea(self):\n",
        "        self.result=((self.base+self.side)/2)*self.height\n",
        "    def printDetail(self):\n",
        "        s=super().get_height_base()\n",
        "        return f'Shape name: {self.name} \\n{s} \\nArea: {self.result}'\n",
        "\n",
        "#driver code:\n",
        "tri_default = triangle()\n",
        "tri_default.calcArea()\n",
        "print(tri_default.printDetail())\n",
        "print('--------------------------')\n",
        "tri = triangle('Triangle', 10, 5)\n",
        "tri.calcArea()\n",
        "print(tri.printDetail())\n",
        "print('---------------------------')\n",
        "trap = trapezoid('Trapezoid', 10, 6, 4)\n",
        "trap.calcArea()\n",
        "print(trap.printDetail())"
      ],
      "metadata": {
        "colab": {
          "base_uri": "https://localhost:8080/"
        },
        "id": "1QermX8-56mg",
        "outputId": "b4a59e66-f862-4859-90f3-747655421dd7"
      },
      "execution_count": null,
      "outputs": [
        {
          "output_type": "stream",
          "name": "stdout",
          "text": [
            "Shape name: Default \n",
            "Height: 0, Base: 0 \n",
            "Area: 0.0\n",
            "--------------------------\n",
            "Shape name: Triangle \n",
            "Height: 10, Base: 5 \n",
            "Area: 25.0\n",
            "---------------------------\n",
            "Shape name: Trapezoid \n",
            "Height: 10, Base: 6 \n",
            "Area: 50.0\n"
          ]
        }
      ]
    },
    {
      "cell_type": "code",
      "source": [
        "#task-7:\n",
        "class SportsPerson:\n",
        "  def __init__(self, team_name, name, role):\n",
        "    self.__team = team_name\n",
        "    self.__name = name\n",
        "    self.role = role\n",
        "    self.earning_per_match = 0\n",
        "  def get_name_team(self):\n",
        "    return 'Name: '+self.__name+', Team Name: ' +self.__team\n",
        "\n",
        "#write your code here\n",
        "class Player(SportsPerson):\n",
        "    def __init__(self,team_name,name,role,goal,played):\n",
        "        super().__init__(team_name,name,role)\n",
        "        # self.role=role\n",
        "        self.goal=goal\n",
        "        self.played=played\n",
        "    def calculate_ratio(self):\n",
        "        self.result=(self.goal * 1000) + (self.played * 10)\n",
        "        self.ratio=self.goal/self.played\n",
        "    def print_details(self):\n",
        "        print(f'Name: {super().get_name_team()} \\nTeam Role: {self.role} \\nTotal Goal: {self.goal} \\nTotal Played: {self.played} ')\n",
        "        print(f'Goal Ratio: ',self.ratio)\n",
        "        print(f'Match Earning: {self.result}k')\n",
        "\n",
        "class Manager(SportsPerson):\n",
        "    def __init__(self,team_name,name,role,played):\n",
        "        super().__init__(team_name,name,role)\n",
        "        # self.role=role\n",
        "        self.played=played\n",
        "    def print_details(self):\n",
        "        self.result=self.played * 1000 \n",
        "        print(f'Name: {super().get_name_team()} \\nTeam Role: {self.role} \\nTotal Played: {self.played} ')\n",
        "        print(f'Match Earning: {self.result}k')\n",
        "\n",
        "\n",
        "#driver code:\n",
        "player_one = Player('Juventus', 'Ronaldo', 'Striker', 25, 32)\n",
        "player_one.calculate_ratio()\n",
        "player_one.print_details()\n",
        "print('------------------------------------------')\n",
        "manager_one = Manager('Real Madrid', 'Zidane', 'Manager', 25)\n",
        "manager_one.print_details()\n"
      ],
      "metadata": {
        "colab": {
          "base_uri": "https://localhost:8080/"
        },
        "id": "78ihStuFvyUz",
        "outputId": "e7a1ce9d-6329-458f-bf2b-2258412c1de2"
      },
      "execution_count": null,
      "outputs": [
        {
          "output_type": "stream",
          "name": "stdout",
          "text": [
            "Name: Name: Ronaldo, Team Name: Juventus \n",
            "Team Role: Striker \n",
            "Total Goal: 25 \n",
            "Total Played: 32 \n",
            "Goal Ratio:  0.78125\n",
            "Match Earning: 25320k\n",
            "------------------------------------------\n",
            "Name: Name: Zidane, Team Name: Real Madrid \n",
            "Team Role: Manager \n",
            "Total Played: 25 \n",
            "Match Earning: 25000k\n"
          ]
        }
      ]
    },
    {
      "cell_type": "code",
      "source": [
        "class Football:\n",
        "    total_player = 0\n",
        "    \n",
        "    def __init__(self, name, LeagueName):\n",
        "        self.name = name\n",
        "        self.LeagueName = LeagueName\n",
        "    \n",
        "    def __str__(self):\n",
        "        s =  \"Name: \"+self.name+\", League name: \"+str(self.LeagueName)\n",
        "        return s\n",
        "\n",
        "class ParisSaintGermain(Football):\n",
        "  def __init__(self, name, leageName):\n",
        "    super().__init__(name, leageName)\n",
        "    print(f\"{self.name} plays in {self.LeagueName}\")\n",
        "    self.player_list = []\n",
        "\n",
        "  def addPlayerWithGoals(self, *args):\n",
        "    for i in range(0, len(args), 2):\n",
        "      p_info = [args[i], args[i + 1] * 1000]\n",
        "      self.player_list.append(p_info)\n",
        "\n",
        "  def __str__(self):\n",
        "    s = super().__str__()\n",
        "    s += f\"\\nTotal Player(s): {len(self.player_list)}\\nPlayer details:\"\n",
        "    for i in self.player_list:\n",
        "      s += f\"\\nName: {i[0]}, Bonus: {i[1]}$\"\n",
        "    return s\n",
        "\n",
        "class ManchesterUnited(Football):\n",
        "    def __init__(self,name,LeagueName):\n",
        "        super().__init__(name,LeagueName)\n",
        "        print(f'{self.name} plays in {self.LeagueName}')\n",
        "        self.playerList=[]\n",
        "    def addPlayerWithGoals(self,*args):\n",
        "        for i in range(0,len(args), 2):\n",
        "            p_info=[args[i], args[i+1]*1000]\n",
        "            self.playerList.append(p_info)\n",
        "        print(self.playerList)\n",
        "    def __str__(self):\n",
        "        s=super().__str__()\n",
        "        s+=f'Total Player(s){len(self.playerList)} \\nPassenger details:'\n",
        "        for i in self.playerList:\n",
        "            s+=f' Name: {i[0]} Fare: {i[1]}$'\n",
        "        return s\n",
        "\n",
        "#driver code:\n",
        "s1 = ParisSaintGermain(\"PSG\", \"Ligue 1\")\n",
        "print(\"1.==============================\")\n",
        "s1.addPlayerWithGoals(\"Mbappe\", 13,  \"Messi\", 9, \"Neymar\", 7)\n",
        "print(\"2.==============================\")\n",
        "print(s1)\n",
        "print(\"3.==============================\")\n",
        "s2 = ManchesterUnited(\"ManUtd\", \"EPL\")\n",
        "print(\"4.==============================\")\n",
        "s2.addPlayerWithGoals(\"Ronaldo\", 22, \"Cavani\", 12)\n",
        "print(\"5.==============================\")\n",
        "print(s2)\n",
        "print(\"6.==============================\")\n",
        "print(\"Total Players: \", Football.total_player)"
      ],
      "metadata": {
        "colab": {
          "base_uri": "https://localhost:8080/"
        },
        "id": "SWNHKOwGmU0M",
        "outputId": "c8896a72-1e4d-4e39-c0af-79f6e9e31942"
      },
      "execution_count": null,
      "outputs": [
        {
          "output_type": "stream",
          "name": "stdout",
          "text": [
            "PSG plays in Ligue 1\n",
            "1.==============================\n",
            "2.==============================\n",
            "Name: PSG, League name: Ligue 1\n",
            "Total Player(s): 3\n",
            "Player details:\n",
            "Name: Mbappe, Bonus: 13000$\n",
            "Name: Messi, Bonus: 9000$\n",
            "Name: Neymar, Bonus: 7000$\n",
            "3.==============================\n",
            "ManUtd plays in EPL\n",
            "4.==============================\n",
            "[['Ronaldo', 22000], ['Cavani', 12000]]\n",
            "5.==============================\n",
            "Name: ManUtd, League name: EPLTotal Player(s)2 \n",
            "Passenger details: Name: Ronaldo Fare: 22000$ Name: Cavani Fare: 12000$\n",
            "6.==============================\n",
            "Total Players:  0\n"
          ]
        }
      ]
    },
    {
      "cell_type": "code",
      "source": [
        "# PSG plays in Ligue 1\n",
        "# 1.============================\n",
        "# 2.============================\n",
        "# Name: PSG, League name: Ligue 1\n",
        "# Total Player(s): 3\n",
        "# Player details:\n",
        "# Name: Mbappe, Bonus: 13000$\n",
        "# Name: Messi, Bonus: 9000$\n",
        "# Name: Neymar, Bonus: 7000$\n",
        "# 3.============================\n",
        "# ManUtd plays in EPL \n",
        "# 4.============================\n",
        "# 5.============================\n",
        "# Name: ManUtd, League name: EPL\n",
        "# Total Player(s): 2\n",
        "# Passenger details:\n",
        "# Name: Ronaldo, Fare: 22000$\n",
        "# Name: Cavani, Fare: 12000$\n",
        "# 6.============================\n",
        "# Total Players: 5\n"
      ],
      "metadata": {
        "id": "1Wjt6oRNmZuk"
      },
      "execution_count": null,
      "outputs": []
    },
    {
      "cell_type": "code",
      "source": [
        "class A:\n",
        "  def __init__(self):\n",
        "    pass\n",
        "  def m(self):\n",
        "    print(\"A\")\n",
        "\n",
        "class B(A):\n",
        "  def __init__(self):\n",
        "    pass\n",
        "  def m(self):\n",
        "    print(\"B\")\n",
        "    super().m()\n",
        "\n",
        "class C(B):\n",
        "  def __init__(self):\n",
        "    pass\n",
        "  def m(self):\n",
        "    print(\"C\")\n",
        "    super().super().m()\n",
        "c = C()\n",
        "c.m()"
      ],
      "metadata": {
        "id": "LAEyeMtQmdL7"
      },
      "execution_count": null,
      "outputs": []
    }
  ]
}