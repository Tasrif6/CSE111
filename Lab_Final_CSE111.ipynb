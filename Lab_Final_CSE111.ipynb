{
  "nbformat": 4,
  "nbformat_minor": 0,
  "metadata": {
    "colab": {
      "provenance": []
    },
    "kernelspec": {
      "name": "python3",
      "display_name": "Python 3"
    },
    "language_info": {
      "name": "python"
    }
  },
  "cells": [
    {
      "cell_type": "code",
      "execution_count": null,
      "metadata": {
        "id": "vPERS3OEcitz"
      },
      "outputs": [],
      "source": [
        "Input='Hello!, This is Tasrif Coding'"
      ]
    },
    {
      "cell_type": "code",
      "source": [
        "class Diary:\n",
        "  def __init__(self, name=None):\n",
        "    self.name = name\n",
        "    self.pages = 200\n",
        "    self.__phoneNumber = \"XXXXXXXX\"\n",
        " \n",
        "  def __str__(self):\n",
        "    return(f\"This is {self.name}'s diary.\")\n",
        " \n",
        "  def setPhoneNumber(self, num):\n",
        "    self.__phoneNumber = num\n",
        " \n",
        "  def getPhoneNumber(self):\n",
        "    return self.__phoneNumber\n",
        "#=====================================\n",
        "#child code:\n",
        "class StudentDiary(Diary):\n",
        "    def __init__(self,name):\n",
        "        super().__init__(name)\n",
        "        \n",
        "    def setPhoneNumber(self,phone):\n",
        "        # super().setPhoneNumber(phone)\n",
        "        self.phone=phone\n",
        "    def __str__(self):\n",
        "        return f'My name is {self.name} and my phone number \\nis {self.phone}.'\n",
        "    def addClassNotes(self,*sub):\n",
        "        self.sub1=sub[0]\n",
        "        self.sub2=sub[1]\n",
        "        self.sub3=sub[2]                     \n",
        "    def addMarks(self,*m):\n",
        "        self.m1=m[0]\n",
        "        self.m2=m[1]\n",
        "        self.m3=m[2]\n",
        "        self.t=self.m1+self.m2+self.m3\n",
        "        # self.total_s=m1+m2+m3\n",
        "    def printDetails(self):\n",
        "        if self.pages==200:\n",
        "            print( f'Welcome to my diary! \\nNo class notes to show')\n",
        "            self.pages=500\n",
        "        else:\n",
        "            print(f'{self.sub1} # {self.sub2} # {self.sub3}')\n",
        "            print(f'{self.sub1}: {self.m1} \\n{self.sub2}: {self.m2} \\n{self.sub3}: {self.m3}')\n",
        "            print(f'Total_marks: {self.t}')\n",
        "        \n",
        "    def feedback(self):\n",
        "        if self.t<200:\n",
        "            self.c=f'Need to work harder!'\n",
        "            print(self.c)\n",
        "        else:\n",
        "            pass\n",
        "d = Diary ('Jack')\n",
        "print(d)\n",
        "print('Total pages: ',d.pages)\n",
        "print(\"------------------------\")\n",
        "s1 = StudentDiary('Jill')\n",
        "s1.setPhoneNumber('5612948')\n",
        "print(s1)\n",
        "s1.printDetails()\n",
        "print(\"------------------------\")\n",
        "s1.addClassNotes('Math','Science','Bangla')\n",
        "s1.addMarks(80,37,54)\n",
        "s1.printDetails()\n",
        "print(\"------------------------\")\n",
        "print('Total pages: ',s1.pages)\n",
        "print(\"------------------------\")\n",
        "s1.feedback()\n",
        "print(\"------------------------\")\n",
        "s2 = StudentDiary('John')\n",
        "s2.setPhoneNumber('2815926')\n"
      ],
      "metadata": {
        "colab": {
          "base_uri": "https://localhost:8080/"
        },
        "id": "4R3zJ_kmjmXl",
        "outputId": "86de3425-3fcd-4d82-fb6d-2b34980cad0f"
      },
      "execution_count": null,
      "outputs": [
        {
          "output_type": "stream",
          "name": "stdout",
          "text": [
            "This is Jack's diary.\n",
            "Total pages:  200\n",
            "------------------------\n",
            "My name is Jill and my phone number \n",
            "is 5612948.\n",
            "Welcome to my diary! \n",
            "No class notes to show\n",
            "------------------------\n",
            "Math # Science # Bangla\n",
            "Math: 80 \n",
            "Science: 37 \n",
            "Bangla: 54\n",
            "Total_marks: 171\n",
            "------------------------\n",
            "Total pages:  500\n",
            "------------------------\n",
            "Need to work harder!\n",
            "------------------------\n"
          ]
        }
      ]
    }
  ]
}