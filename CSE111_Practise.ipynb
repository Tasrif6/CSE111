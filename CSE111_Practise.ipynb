{
  "nbformat": 4,
  "nbformat_minor": 0,
  "metadata": {
    "colab": {
      "provenance": []
    },
    "kernelspec": {
      "name": "python3",
      "display_name": "Python 3"
    },
    "language_info": {
      "name": "python"
    }
  },
  "cells": [
    {
      "cell_type": "code",
      "execution_count": null,
      "metadata": {
        "colab": {
          "base_uri": "https://localhost:8080/"
        },
        "id": "PNCHf_4e2ecQ",
        "outputId": "67db4852-c3ad-4669-dddf-44b04e308e8a"
      },
      "outputs": [
        {
          "output_type": "stream",
          "name": "stdout",
          "text": [
            "Hello this is Tasrif Coding\n"
          ]
        }
      ],
      "source": [
        "var='Hello this is Tasrif Coding'\n",
        "print(var)"
      ]
    },
    {
      "cell_type": "code",
      "source": [
        "#task-1:\n",
        "class Patient:\n",
        "    def __init__(self,name,age,weight,height):\n",
        "        self.name=name\n",
        "        self.age=age\n",
        "        self.weight=weight\n",
        "        self.height=height\n",
        "    def printDetails(self):\n",
        "        bmi=self.weight/(self.height/100)**2\n",
        "        print(f'Name: {self.name} \\nAge: {self.age} \\nWeight: {self.weight} \\nHeight: {self.height} \\nBMI: {bmi}')\n",
        "\n",
        "p1 = Patient(\"A\", 55, 63.0, 158.0)\n",
        "p1.printDetails()\n",
        "print(\"====================\")\n",
        "p2 = Patient(\"B\", 53, 61.0, 149.0)\n",
        "p2.printDetails()\n"
      ],
      "metadata": {
        "colab": {
          "base_uri": "https://localhost:8080/"
        },
        "id": "mXb0PdQF2pYA",
        "outputId": "cccb3fe3-6f68-47bd-d940-e669b667c758"
      },
      "execution_count": null,
      "outputs": [
        {
          "output_type": "stream",
          "name": "stdout",
          "text": [
            "Name: A \n",
            "Age: 55 \n",
            "Weight: 63.0 \n",
            "Height: 158.0 \n",
            "BMI: 25.236340330075304\n",
            "====================\n",
            "Name: B \n",
            "Age: 53 \n",
            "Weight: 61.0 \n",
            "Height: 149.0 \n",
            "BMI: 27.476239809017613\n"
          ]
        }
      ]
    },
    {
      "cell_type": "code",
      "source": [
        "#task-2:\n",
        "class Shape:\n",
        "    def __init__(self,name,a,b):\n",
        "        self.name=name\n",
        "        self.a=a\n",
        "        self.b=b\n",
        "    def area(self):\n",
        "        if self.name=='Triangle':\n",
        "            area=0.5*self.a*self.b\n",
        "            print(f'Area: {area}')\n",
        "        elif self.name=='Square' or self.name=='Rectangle':\n",
        "            area=self.a*self.b\n",
        "            print(f'Area: {area}')\n",
        "        elif self.name=='Rhombus':\n",
        "            area=0.5*self.a*self.b\n",
        "            print(f'Area: {area}')\n",
        "        else:\n",
        "            print(f'Area: Shape unknown')\n",
        "\n",
        "triangle = Shape(\"Triangle\",10,25)\n",
        "triangle.area()\n",
        "print(\"==========================\")\n",
        "square = Shape(\"Square\",10,10)\n",
        "square.area()\n",
        "print(\"==========================\")\n",
        "rhombus = Shape(\"Rhombus\",18,25)\n",
        "rhombus.area()\n",
        "print(\"==========================\")\n",
        "rectangle = Shape(\"Rectangle\",15,30)\n",
        "rectangle.area()\n",
        "print(\"==========================\")\n",
        "trapezium = Shape(\"Trapezium\",15,30)\n",
        "trapezium.area()\n"
      ],
      "metadata": {
        "colab": {
          "base_uri": "https://localhost:8080/"
        },
        "id": "R61nfFUn5tS5",
        "outputId": "909af55c-cffc-43d4-de9b-73563feb6546"
      },
      "execution_count": null,
      "outputs": [
        {
          "output_type": "stream",
          "name": "stdout",
          "text": [
            "Area: 125.0\n",
            "==========================\n",
            "Area: 100\n",
            "==========================\n",
            "Area: 225.0\n",
            "==========================\n",
            "Area: 450\n",
            "==========================\n",
            "Area: Shape unknown\n"
          ]
        }
      ]
    },
    {
      "cell_type": "code",
      "source": [
        "#task-3:\n",
        "class Calculator:\n",
        "    def __init__(self):\n",
        "        print('Calculator is ready!')\n",
        "    def calculate(self,a,b,sign):\n",
        "        self.a=a\n",
        "        self.b=b\n",
        "        self.sign=sign\n",
        "        if self.sign=='+':\n",
        "            self.val=self.a+self.b\n",
        "            return self.val\n",
        "        elif self.sign=='-':\n",
        "            self.val=self.a-self.b\n",
        "            return self.val\n",
        "        elif self.sign=='*':\n",
        "            self.val=self.a*self.b\n",
        "            return self.val\n",
        "        else:\n",
        "            self.val=self.a/self.b\n",
        "            return self.val\n",
        "    def showCalculation(self):\n",
        "        print(f'{self.a} {self.sign} {self.b} = {self.val}')\n",
        "\n",
        "\n",
        "c1 = Calculator()\n",
        "print(\"==================\")\n",
        "val = c1.calculate(10, 20, '+')\n",
        "print(\"Returned value:\", val)\n",
        "c1.showCalculation()\n",
        "print(\"==================\")\n",
        "val = c1.calculate(val, 10, '-')\n",
        "print(\"Returned value:\", val)\n",
        "c1.showCalculation()\n",
        "print(\"==================\")\n",
        "val = c1.calculate(val, 5, '*')\n",
        "print(\"Returned value:\", val)\n",
        "c1.showCalculation()\n",
        "print(\"==================\")\n",
        "val = c1.calculate(val, 16, '/')\n",
        "print(\"Returned value:\", val)\n",
        "c1.showCalculation()\n"
      ],
      "metadata": {
        "colab": {
          "base_uri": "https://localhost:8080/"
        },
        "id": "K2p3Yvln8Em7",
        "outputId": "560646d6-35d7-41dc-ac7a-b009c8a4c807"
      },
      "execution_count": null,
      "outputs": [
        {
          "output_type": "stream",
          "name": "stdout",
          "text": [
            "Calculator is ready!\n",
            "==================\n",
            "Returned value: 30\n",
            "10 + 20 = 30\n",
            "==================\n",
            "Returned value: 20\n",
            "30 - 10 = 20\n",
            "==================\n",
            "Returned value: 100\n",
            "20 * 5 = 100\n",
            "==================\n",
            "Returned value: 6.25\n",
            "100 / 16 = 6.25\n"
          ]
        }
      ]
    },
    {
      "cell_type": "code",
      "source": [
        "#task-4:\n",
        "class Programmer:\n",
        "    def __init__(self,name,lang,num):\n",
        "        self.name=name\n",
        "        self.lang=lang\n",
        "        self.num=num\n",
        "        print(f'Horray! A new programmer is born')\n",
        "    def printDetails(self):\n",
        "        # print(f'Horray! A new programmer is born')\n",
        "        print(f'Name: {self.name} \\nLanguage: {self.lang} \\nExperience: {self.num} years')\n",
        "    def addExp(self,num1):\n",
        "        self.num1=num1\n",
        "        self.num=self.num+self.num1\n",
        "        print(f'Updating experience of {self.name}')\n",
        "\n",
        "p1 = Programmer(\"Ethen Hunt\", \"Java\", 10)\n",
        "p1.printDetails()\n",
        "print('--------------------------')\n",
        "p2 = Programmer(\"James Bond\", \"C++\", 7)\n",
        "p2.printDetails()\n",
        "print('--------------------------')\n",
        "p3 = Programmer(\"Jon Snow\", \"Python\", 4)\n",
        "p3.printDetails()\n",
        "p3.addExp(5)\n",
        "p3.printDetails()"
      ],
      "metadata": {
        "colab": {
          "base_uri": "https://localhost:8080/"
        },
        "id": "0uJy7_IFV1iU",
        "outputId": "f33ab1c7-eed9-4cd4-d409-90a9e42a994b"
      },
      "execution_count": null,
      "outputs": [
        {
          "output_type": "stream",
          "name": "stdout",
          "text": [
            "Horray! A new programmer is born\n",
            "Name: Ethen Hunt \n",
            "Language: Java \n",
            "Experience: 10 years\n",
            "--------------------------\n",
            "Horray! A new programmer is born\n",
            "Name: James Bond \n",
            "Language: C++ \n",
            "Experience: 7 years\n",
            "--------------------------\n",
            "Horray! A new programmer is born\n",
            "Name: Jon Snow \n",
            "Language: Python \n",
            "Experience: 4 years\n",
            "Updating experience of Jon Snow\n",
            "Name: Jon Snow \n",
            "Language: Python \n",
            "Experience: 9 years\n"
          ]
        }
      ]
    },
    {
      "cell_type": "code",
      "source": [
        "#task-5:\n",
        "class UberEats:\n",
        "    def __init__(self,name,phn,loc):\n",
        "        self.name=name\n",
        "        self.phn=phn\n",
        "        self.loc=loc\n",
        "        print(f'{self.name}, welcome to UberEats!')\n",
        "    def add_items(self,fast_food,drink,am1,am2):\n",
        "        self.fast_food=fast_food\n",
        "        self.drink=drink\n",
        "        self.am1=am1\n",
        "        self.am2=am2\n",
        "        self.dict1={}\n",
        "    def print_order_detail(self):\n",
        "        self.dict1[self.fast_food]=self.am1\n",
        "        self.dict1[self.drink]=self.am2\n",
        "        x=self.am1+self.am2\n",
        "        return f'User details: Name: {self.name}, Phone: \\n{self.phn}, Address: {self.loc} \\nOrders: {self.dict1} \\nTotal Paid Amount: {x}'\n",
        "\n",
        "\n",
        "\n",
        "\n",
        "order1 = UberEats(\"Shakib\", \"01719658xxx\", \"Mohakhali\")\n",
        "print(\"=========================\")\n",
        "order1.add_items(\"Burger\", \"Coca Cola\", 220, 50)\n",
        "print(\"=========================\")\n",
        "print(order1.print_order_detail())\n",
        "print(\"=========================\")\n",
        "order2 = UberEats (\"Siam\", \"01719659xxx\", \"Uttara\")\n",
        "print(\"=========================\")\n",
        "order2.add_items(\"Pineapple\", \"Dairy Milk\", 80, 70)\n",
        "print(\"=========================\")\n",
        "print(order2.print_order_detail())"
      ],
      "metadata": {
        "colab": {
          "base_uri": "https://localhost:8080/"
        },
        "id": "eCQ2l39ShdhR",
        "outputId": "4ee74f26-1d4c-431b-dda5-a26ebae3c9a4"
      },
      "execution_count": null,
      "outputs": [
        {
          "output_type": "stream",
          "name": "stdout",
          "text": [
            "Shakib, welcome to UberEats!\n",
            "=========================\n",
            "=========================\n",
            "User details: Name: Shakib, Phone: \n",
            "01719658xxx, Address: Mohakhali \n",
            "Orders: {'Burger': 220, 'Coca Cola': 50} \n",
            "Total Paid Amount: 270\n",
            "=========================\n",
            "Siam, welcome to UberEats!\n",
            "=========================\n",
            "=========================\n",
            "User details: Name: Siam, Phone: \n",
            "01719659xxx, Address: Uttara \n",
            "Orders: {'Pineapple': 80, 'Dairy Milk': 70} \n",
            "Total Paid Amount: 150\n"
          ]
        }
      ]
    },
    {
      "cell_type": "code",
      "source": [
        "#task-6:\n",
        "class Customer:\n",
        "    def __init__(self,name):\n",
        "        self.name=name\n",
        "    def greet(self,name='Sam'):\n",
        "        self.name=name\n",
        "        if self.name=='David':\n",
        "            print(f'Hello {self.name}!')\n",
        "        else:\n",
        "            print(f'Hello!')\n",
        "    def purchase(self,*args):\n",
        "        self.args=len(args)\n",
        "        print(f'{self.name}, you purchased {self.args} item(s)')\n",
        "        for i in args:\n",
        "            print(i)\n",
        "\n",
        "\n",
        "customer_1 = Customer(\"Sam\")\n",
        "customer_1.greet()\n",
        "customer_1.purchase(\"chips\", \"chocolate\", \"orange juice\")\n",
        "print(\"-----------------------------\")\n",
        "customer_2 = Customer(\"David\")\n",
        "customer_2.greet(\"David\")\n",
        "customer_2.purchase(\"orange juice\")\n"
      ],
      "metadata": {
        "colab": {
          "base_uri": "https://localhost:8080/"
        },
        "id": "PlZSNuhMjzc3",
        "outputId": "76bbe488-9519-4d83-cc56-fd4969c56e2d"
      },
      "execution_count": null,
      "outputs": [
        {
          "output_type": "stream",
          "name": "stdout",
          "text": [
            "Hello!\n",
            "Sam, you purchased 3 item(s)\n",
            "chips\n",
            "chocolate\n",
            "orange juice\n",
            "-----------------------------\n",
            "Hello David!\n",
            "David, you purchased 1 item(s)\n",
            "orange juice\n"
          ]
        }
      ]
    },
    {
      "cell_type": "code",
      "source": [
        "#task-7:\n",
        "class Cat:\n",
        "    def __init__(self,color='White',pos='Sitting'):\n",
        "        self.color=color\n",
        "        self.pos=pos\n",
        "    def printCat(self):\n",
        "        self.val=''\n",
        "        print(f'{self.color} cat is {self.pos}')\n",
        "    def changeColor(self,color):\n",
        "        self.color=color\n",
        "        # print(f'{self.color} cat is {self.pos}')\n",
        "\n",
        "\n",
        "\n",
        "c1 = Cat()\n",
        "c2 = Cat(\"Black\")\n",
        "c3 = Cat(\"Brown\", \"jumping\")\n",
        "c4 = Cat(\"Red\", \"purring\")\n",
        "c1.printCat()\n",
        "c2.printCat()\n",
        "c3.printCat()\n",
        "c4.printCat()\n",
        "c1.changeColor(\"Blue\")\n",
        "c3.changeColor(\"Purple\")\n",
        "c1.printCat()\n",
        "c3.printCat()\n"
      ],
      "metadata": {
        "colab": {
          "base_uri": "https://localhost:8080/"
        },
        "id": "M0vqHASolKKY",
        "outputId": "a59e39b2-7454-427f-e55f-370138b858b4"
      },
      "execution_count": null,
      "outputs": [
        {
          "output_type": "stream",
          "name": "stdout",
          "text": [
            "White cat is Sitting\n",
            "Black cat is Sitting\n",
            "Brown cat is jumping\n",
            "Red cat is purring\n",
            "Blue cat is Sitting\n",
            "Purple cat is jumping\n"
          ]
        }
      ]
    },
    {
      "cell_type": "code",
      "source": [
        "#task-8:\n",
        "class Student:\n",
        "    def __init__(self,name,digit,dept='CSE'):\n",
        "        self.name=name\n",
        "        self.digit=digit\n",
        "        self.dept=dept\n",
        "    def dailyEffort(self,num):\n",
        "        self.num=num\n",
        "    def printDetails(self):\n",
        "        print(f'Name: {self.name} \\nID: {self.digit} \\nDepartment: {self.dept} \\nDaily Effort: {self.num} hour(s)')\n",
        "        if self.name=='Harry Potter':\n",
        "            print(f'Suggestion: Keep up the good work!')\n",
        "        elif self.name=='John Wick':\n",
        "            print(f'Suggestion: Should give more effort!')\n",
        "        else:\n",
        "            print(f'Suggestion: Excellent! Now motivate others.')\n",
        "\n",
        "\n",
        "harry = Student('Harry Potter', 123)\n",
        "harry.dailyEffort(3)\n",
        "harry.printDetails()\n",
        "print('========================')\n",
        "john = Student(\"John Wick\", 456, \"BBA\")\n",
        "john.dailyEffort(2)\n",
        "john.printDetails()\n",
        "print('========================')\n",
        "naruto = Student(\"Naruto Uzumaki\", 777, \"Ninja\")\n",
        "naruto.dailyEffort(6)\n",
        "naruto.printDetails()\n"
      ],
      "metadata": {
        "colab": {
          "base_uri": "https://localhost:8080/"
        },
        "id": "n9Ozp1sjmM0e",
        "outputId": "07e9e416-b35d-47d5-a3fb-71580cdfe04c"
      },
      "execution_count": null,
      "outputs": [
        {
          "output_type": "stream",
          "name": "stdout",
          "text": [
            "Name: Harry Potter \n",
            "ID: 123 \n",
            "Department: CSE \n",
            "Daily Effort: 3 hour(s)\n",
            "Suggestion: Keep up the good work!\n",
            "========================\n",
            "Name: John Wick \n",
            "ID: 456 \n",
            "Department: BBA \n",
            "Daily Effort: 2 hour(s)\n",
            "Suggestion: Should give more effort!\n",
            "========================\n",
            "Name: Naruto Uzumaki \n",
            "ID: 777 \n",
            "Department: Ninja \n",
            "Daily Effort: 6 hour(s)\n",
            "Suggestion: Excellent! Now motivate others.\n"
          ]
        }
      ]
    },
    {
      "cell_type": "code",
      "source": [
        "#task-9:\n",
        "class Batsman:\n",
        "    def __init__(self,*args):\n",
        "        if len(args)==2:              \n",
        "            self.name='New Batsman'\n",
        "            self.run=args[0]\n",
        "            self.ball=args[1]\n",
        "        elif len(args)==3:\n",
        "            self.name=args[0]\n",
        "            self.run=args[1]\n",
        "            self.ball=args[2]\n",
        "    def printCareerStatistics(self):\n",
        "        print(f'Name: {self.name} \\nRuns Scored: {self.run}, Balls Faced: {self.ball}')\n",
        "    def battingStrikeRate(self):\n",
        "        strike_rate=(self.run/self.ball)*100\n",
        "        return strike_rate\n",
        "    def setName(self,name):\n",
        "        self.name=name\n",
        "\n",
        "\n",
        "b1 = Batsman(6101, 7380)\n",
        "b1.printCareerStatistics()\n",
        "print(\"============================\")\n",
        "b2 = Batsman(\"Liton Das\", 678, 773)\n",
        "b2.printCareerStatistics()\n",
        "print(\"----------------------------\")\n",
        "print(b2.battingStrikeRate())\n",
        "print(\"============================\")\n",
        "b1.setName(\"Shakib Al Hasan\")\n",
        "b1.printCareerStatistics()\n",
        "print(\"----------------------------\")\n",
        "print(b1.battingStrikeRate())\n"
      ],
      "metadata": {
        "colab": {
          "base_uri": "https://localhost:8080/"
        },
        "id": "KfR6a0_po0hz",
        "outputId": "a401a15d-eb11-41f8-861b-0ebe2cf09969"
      },
      "execution_count": null,
      "outputs": [
        {
          "output_type": "stream",
          "name": "stdout",
          "text": [
            "Name: New Batsman \n",
            "Runs Scored: 6101, Balls Faced: 7380\n",
            "============================\n",
            "Name: Liton Das \n",
            "Runs Scored: 678, Balls Faced: 773\n",
            "----------------------------\n",
            "87.71021992238033\n",
            "============================\n",
            "Name: Shakib Al Hasan \n",
            "Runs Scored: 6101, Balls Faced: 7380\n",
            "----------------------------\n",
            "82.66937669376694\n"
          ]
        }
      ]
    },
    {
      "cell_type": "code",
      "source": [
        "#task-10:\n",
        "class Author:\n",
        "    def __init__(self,*name):\n",
        "        self.name=name\n",
        "    def addBooks(self,*books):\n",
        "        self.books=books\n",
        "        if self.name==None:\n",
        "            print('Default')\n",
        "    def printDetails(self):\n",
        "        z=len(self.books)\n",
        "        if z==2:\n",
        "            self.book1=self.books[0]\n",
        "            self.book2=self.books[1]\n",
        "        elif z==3:\n",
        "            self.book1=self.books[0]\n",
        "            self.book2=self.books[1]\n",
        "            self.book3=self.books[2]\n",
        "        else:\n",
        "            pass\n",
        "        self.name=self.name[0]\n",
        "        print(f'Author Name: {self.name}')\n",
        "        print('---------')\n",
        "        print('List of Books:')\n",
        "        if z!=None:\n",
        "            for i in self.books:\n",
        "                print(i)\n",
        "        elif z==3:\n",
        "            self.name==self.name[0]\n",
        "            x=self.name[1]\n",
        "            y=self.name[2]\n",
        "            if len(self.books)==None:\n",
        "                print(f'Author name: {self.name} \\n{x} \\n{y}')\n",
        "    def changeName(self,name):\n",
        "        self.name=name\n",
        "\n",
        "# ===================\n",
        "# Author Name:  Paolo Coelho\n",
        "# --------\n",
        "# List of Books:\n",
        "# The Alchemist\n",
        "# The Fifth Mountain\n",
        "    \n",
        "\n",
        "auth1 = Author('Humayun Ahmed')\n",
        "auth1.addBooks('Deyal', 'Megher Opor Bari')\n",
        "auth1.printDetails()\n",
        "print(\"===================\")\n",
        "auth2 = Author()\n",
        "print(auth2.name)\n",
        "auth2.changeName('Mario Puzo')\n",
        "auth2.addBooks('The Godfather', 'Omerta', 'The Sicilian')\n",
        "print(\"===================\")\n",
        "auth2.printDetails()\n",
        "print(\"===================\")\n",
        "auth3 = Author('Paolo Coelho', 'The Alchemist', 'The Fifth Mountain')\n",
        "auth3.printDetails()"
      ],
      "metadata": {
        "colab": {
          "base_uri": "https://localhost:8080/",
          "height": 235
        },
        "id": "CF47dY4Zvnuk",
        "outputId": "db922827-6073-43ff-c248-df36bcde7a76"
      },
      "execution_count": null,
      "outputs": [
        {
          "output_type": "error",
          "ename": "TypeError",
          "evalue": "ignored",
          "traceback": [
            "\u001b[0;31m---------------------------------------------------------------------------\u001b[0m",
            "\u001b[0;31mTypeError\u001b[0m                                 Traceback (most recent call last)",
            "\u001b[0;32m<ipython-input-6-af83d16f355a>\u001b[0m in \u001b[0;36m<module>\u001b[0;34m\u001b[0m\n\u001b[1;32m     35\u001b[0m \u001b[0;34m\u001b[0m\u001b[0m\n\u001b[1;32m     36\u001b[0m \u001b[0mauth1\u001b[0m \u001b[0;34m=\u001b[0m \u001b[0mAuthor\u001b[0m\u001b[0;34m(\u001b[0m\u001b[0;34m'Humayun Ahmed'\u001b[0m\u001b[0;34m)\u001b[0m\u001b[0;34m\u001b[0m\u001b[0;34m\u001b[0m\u001b[0m\n\u001b[0;32m---> 37\u001b[0;31m \u001b[0mauth1\u001b[0m\u001b[0;34m.\u001b[0m\u001b[0maddBooks\u001b[0m\u001b[0;34m(\u001b[0m\u001b[0;34m'Deyal'\u001b[0m\u001b[0;34m,\u001b[0m \u001b[0;34m'Megher Opor Bari'\u001b[0m\u001b[0;34m)\u001b[0m\u001b[0;34m\u001b[0m\u001b[0;34m\u001b[0m\u001b[0m\n\u001b[0m\u001b[1;32m     38\u001b[0m \u001b[0mauth1\u001b[0m\u001b[0;34m.\u001b[0m\u001b[0mprintDetails\u001b[0m\u001b[0;34m(\u001b[0m\u001b[0;34m)\u001b[0m\u001b[0;34m\u001b[0m\u001b[0;34m\u001b[0m\u001b[0m\n\u001b[1;32m     39\u001b[0m \u001b[0mprint\u001b[0m\u001b[0;34m(\u001b[0m\u001b[0;34m\"===================\"\u001b[0m\u001b[0;34m)\u001b[0m\u001b[0;34m\u001b[0m\u001b[0;34m\u001b[0m\u001b[0m\n",
            "\u001b[0;31mTypeError\u001b[0m: addBooks() takes 2 positional arguments but 3 were given"
          ]
        }
      ]
    },
    {
      "cell_type": "code",
      "source": [
        "#task-10:\n",
        "class Author:\n",
        "    def __init__(self,*name):\n",
        "        self.name=name\n",
        "        x=len(self.name)\n",
        "        if x==1:\n",
        "            self.name=name[0]\n",
        "        elif x==0:\n",
        "            self.name='Default'\n",
        "        else:\n",
        "            self.name=name[0]\n",
        "    def addBooks(self,*args):\n",
        "        self.args=args\n",
        "    def printDetails(self):\n",
        "        y=len(self.args)\n",
        "        if y==2:\n",
        "            print(f'Author name: {self.name}')\n",
        "            for i in self.args:\n",
        "                print(i)\n",
        "        elif y==3:\n",
        "            print(f'Author name: {self.name}')\n",
        "            for i in self.args:\n",
        "                print(i)\n",
        "        elif y==None:\n",
        "            self.book1==self.name[1]\n",
        "            self.book2==self.name[2]\n",
        "            print(f'Author name: {self.name} \\nList of books: \\n{self.book1} \\n{self.book2}')\n",
        "    def changeName(self,name):\n",
        "        self.name=name\n",
        " \n",
        "# ===================\n",
        "# Author Name:  Paolo Coelho\n",
        "# --------\n",
        "# List of Books:\n",
        "# The Alchemist\n",
        "# The Fifth Mountain\n",
        " \n",
        "    \n",
        "#driver code:\n",
        "auth1 = Author('Humayun Ahmed')\n",
        "auth1.addBooks('Deyal', 'Megher Opor Bari')\n",
        "auth1.printDetails()\n",
        "print(\"===================\")\n",
        "auth2 = Author()\n",
        "print(auth2.name)\n",
        "auth2.changeName('Mario Puzo')\n",
        "auth2.addBooks('The Godfather', 'Omerta', 'The Sicilian')\n",
        "print(\"===================\")\n",
        "auth2.printDetails()\n",
        "print(\"===================\")\n",
        "auth3 = Author('Paolo Coelho', 'The Alchemist', 'The Fifth Mountain')\n",
        "auth3.printDetails()       \n",
        "        \n"
      ],
      "metadata": {
        "colab": {
          "base_uri": "https://localhost:8080/",
          "height": 530
        },
        "id": "rub5Xr_NKZZ6",
        "outputId": "eab36133-d102-4deb-d303-d73051c3c25c"
      },
      "execution_count": null,
      "outputs": [
        {
          "output_type": "stream",
          "name": "stdout",
          "text": [
            "Author name: Humayun Ahmed\n",
            "Deyal\n",
            "Megher Opor Bari\n",
            "===================\n",
            "Default\n",
            "===================\n",
            "Author name: Mario Puzo\n",
            "The Godfather\n",
            "Omerta\n",
            "The Sicilian\n",
            "===================\n"
          ]
        },
        {
          "output_type": "error",
          "ename": "AttributeError",
          "evalue": "ignored",
          "traceback": [
            "\u001b[0;31m---------------------------------------------------------------------------\u001b[0m",
            "\u001b[0;31mAttributeError\u001b[0m                            Traceback (most recent call last)",
            "\u001b[0;32m<ipython-input-22-d4de51608c7f>\u001b[0m in \u001b[0;36m<module>\u001b[0;34m\u001b[0m\n\u001b[1;32m     41\u001b[0m \u001b[0mprint\u001b[0m\u001b[0;34m(\u001b[0m\u001b[0;34m\"===================\"\u001b[0m\u001b[0;34m)\u001b[0m\u001b[0;34m\u001b[0m\u001b[0;34m\u001b[0m\u001b[0m\n\u001b[1;32m     42\u001b[0m \u001b[0mauth3\u001b[0m \u001b[0;34m=\u001b[0m \u001b[0mAuthor\u001b[0m\u001b[0;34m(\u001b[0m\u001b[0;34m'Paolo Coelho'\u001b[0m\u001b[0;34m,\u001b[0m \u001b[0;34m'The Alchemist'\u001b[0m\u001b[0;34m,\u001b[0m \u001b[0;34m'The Fifth Mountain'\u001b[0m\u001b[0;34m)\u001b[0m\u001b[0;34m\u001b[0m\u001b[0;34m\u001b[0m\u001b[0m\n\u001b[0;32m---> 43\u001b[0;31m \u001b[0mauth3\u001b[0m\u001b[0;34m.\u001b[0m\u001b[0mprintDetails\u001b[0m\u001b[0;34m(\u001b[0m\u001b[0;34m)\u001b[0m\u001b[0;34m\u001b[0m\u001b[0;34m\u001b[0m\u001b[0m\n\u001b[0m\u001b[1;32m     44\u001b[0m \u001b[0;34m\u001b[0m\u001b[0m\n",
            "\u001b[0;32m<ipython-input-22-d4de51608c7f>\u001b[0m in \u001b[0;36mprintDetails\u001b[0;34m(self)\u001b[0m\n\u001b[1;32m     12\u001b[0m         \u001b[0mself\u001b[0m\u001b[0;34m.\u001b[0m\u001b[0margs\u001b[0m\u001b[0;34m=\u001b[0m\u001b[0margs\u001b[0m\u001b[0;34m\u001b[0m\u001b[0;34m\u001b[0m\u001b[0m\n\u001b[1;32m     13\u001b[0m     \u001b[0;32mdef\u001b[0m \u001b[0mprintDetails\u001b[0m\u001b[0;34m(\u001b[0m\u001b[0mself\u001b[0m\u001b[0;34m)\u001b[0m\u001b[0;34m:\u001b[0m\u001b[0;34m\u001b[0m\u001b[0;34m\u001b[0m\u001b[0m\n\u001b[0;32m---> 14\u001b[0;31m         \u001b[0my\u001b[0m\u001b[0;34m=\u001b[0m\u001b[0mlen\u001b[0m\u001b[0;34m(\u001b[0m\u001b[0mself\u001b[0m\u001b[0;34m.\u001b[0m\u001b[0margs\u001b[0m\u001b[0;34m)\u001b[0m\u001b[0;34m\u001b[0m\u001b[0;34m\u001b[0m\u001b[0m\n\u001b[0m\u001b[1;32m     15\u001b[0m         \u001b[0;32mif\u001b[0m \u001b[0my\u001b[0m\u001b[0;34m==\u001b[0m\u001b[0;36m2\u001b[0m\u001b[0;34m:\u001b[0m\u001b[0;34m\u001b[0m\u001b[0;34m\u001b[0m\u001b[0m\n\u001b[1;32m     16\u001b[0m             \u001b[0mprint\u001b[0m\u001b[0;34m(\u001b[0m\u001b[0;34mf'Author name: {self.name}'\u001b[0m\u001b[0;34m)\u001b[0m\u001b[0;34m\u001b[0m\u001b[0;34m\u001b[0m\u001b[0m\n",
            "\u001b[0;31mAttributeError\u001b[0m: 'Author' object has no attribute 'args'"
          ]
        }
      ]
    },
    {
      "cell_type": "code",
      "source": [
        "#task-11:\n",
        "class TaxiLagbe:\n",
        "    def __init__(self,num,area):\n",
        "        self.num=num\n",
        "        self.area=area\n",
        "        self.a_list=[]\n",
        "        self.b_list=[]\n",
        "        self.dict1={}\n",
        "    def addPassenger(self,*name):\n",
        "        self.name=name\n",
        "        for i in self.name:    \n",
        "            x,y=i.split('_')\n",
        "            self.a_list.append(x)\n",
        "            self.b_list.append(y)\n",
        "            print(f'Dear {x}! Welcome to TaxiLagbe.')\n",
        "            # print(self.b_list)\n",
        "\n",
        "    def printDetails(self):\n",
        "        z=len(self.a_list)\n",
        "        sum=0\n",
        "        print(f'Trip info for Taxi number: {self.num} \\nThis taxi can cover only {self.area} area')\n",
        "        print(f'Total passengers: {z} \\nPassenger lists:')\n",
        "        for j in self.a_list:\n",
        "            print(j, end=',')\n",
        "        for k in self.b_list:\n",
        "            sum+=int(k)\n",
        "        print()\n",
        "        print(f'Total collected fare: {sum}')\n",
        "\n",
        "\n",
        "taxi1 = TaxiLagbe('1010-01', 'Dhaka')\n",
        "print('-------------------------------')\n",
        "taxi1.addPassenger('Walker_100', 'Wood_200')\n",
        "taxi1.addPassenger('Matt_100')\n",
        "taxi1.addPassenger('Wilson_105')\n",
        "print('-------------------------------')\n",
        "taxi1.printDetails()\n",
        "print('-------------------------------')\n",
        "taxi1.addPassenger('Karen_200')\n",
        "print('-------------------------------')\n",
        "taxi1.printDetails()\n",
        "print('-------------------------------')\n",
        "taxi2 = TaxiLagbe('1010-02', 'Khulna')\n",
        "taxi2.addPassenger('Ronald_115')\n",
        "taxi2.addPassenger('Parker_215')\n",
        "print('-------------------------------')\n",
        "taxi2.printDetails()\n"
      ],
      "metadata": {
        "colab": {
          "base_uri": "https://localhost:8080/"
        },
        "id": "U8QpgJwlYBvj",
        "outputId": "15f5b787-e49c-43e0-c371-8f7299a5be74"
      },
      "execution_count": null,
      "outputs": [
        {
          "output_type": "stream",
          "name": "stdout",
          "text": [
            "-------------------------------\n",
            "Dear Walker! Welcome to TaxiLagbe.\n",
            "Dear Wood! Welcome to TaxiLagbe.\n",
            "Dear Matt! Welcome to TaxiLagbe.\n",
            "Dear Wilson! Welcome to TaxiLagbe.\n",
            "-------------------------------\n",
            "Trip info for Taxi number: 1010-01 \n",
            "This taxi can cover only Dhaka area\n",
            "Total passengers: 4 \n",
            "Passenger lists:\n",
            "Walker,Wood,Matt,Wilson,\n",
            "Total collected fare: 505\n",
            "-------------------------------\n",
            "Dear Karen! Welcome to TaxiLagbe.\n",
            "-------------------------------\n",
            "Trip info for Taxi number: 1010-01 \n",
            "This taxi can cover only Dhaka area\n",
            "Total passengers: 5 \n",
            "Passenger lists:\n",
            "Walker,Wood,Matt,Wilson,Karen,\n",
            "Total collected fare: 705\n",
            "-------------------------------\n",
            "Dear Ronald! Welcome to TaxiLagbe.\n",
            "Dear Parker! Welcome to TaxiLagbe.\n",
            "-------------------------------\n",
            "Trip info for Taxi number: 1010-02 \n",
            "This taxi can cover only Khulna area\n",
            "Total passengers: 2 \n",
            "Passenger lists:\n",
            "Ronald,Parker,\n",
            "Total collected fare: 330\n"
          ]
        }
      ]
    },
    {
      "cell_type": "code",
      "source": [
        "#task-12:\n",
        "class Account:\n",
        "    def __init__(self,name='Default',balance=0.0):\n",
        "        self.name=name\n",
        "        self.balance=balance\n",
        "    def details(self):\n",
        "        return f'{self.name} account \\n{self.balance}'\n",
        "\n",
        "    def withdraw(self,amount):\n",
        "        self.amount=amount\n",
        "        if self.balance>self.amount:\n",
        "            self.balance=self.balance-self.amount\n",
        "            print(f'{self.name} account \\n{self.balance}')\n",
        "        elif self.balance==None:\n",
        "             print(f'Sorry, Withdraw unsuccessful! The account balance after deducting withdraw amount is equal to or less than minimum.')\n",
        "        else:\n",
        "            print(f'Sorry, Withdraw unsuccessful! The account balance after deducting withdraw amount is equal to or less than minimum.')\n",
        "\n",
        "#driver code:\n",
        "a1 = Account()\n",
        "print(a1.details())\n",
        "print(\"------------------------\")\n",
        "a1.name = \"Oliver\"\n",
        "a1.balance = 10000.0\n",
        "print(a1.details())\n",
        "print(\"------------------------\")\n",
        "a2 = Account(\"Liam\")\n",
        "print(a2.details())\n",
        "print(\"------------------------\")\n",
        "a3 = Account(\"Noah\",400)\n",
        "print(a3.details())\n",
        "print(\"------------------------\")\n",
        "a3.withdraw(6930)\n",
        "print(\"------------------------\")\n",
        "a2.withdraw(600)\n",
        "print(\"------------------------\")\n",
        "a1.withdraw(6929)"
      ],
      "metadata": {
        "colab": {
          "base_uri": "https://localhost:8080/"
        },
        "id": "KV6LeUIv6OGe",
        "outputId": "56df4405-a2c2-459c-8c3a-1a71c0c4a85c"
      },
      "execution_count": null,
      "outputs": [
        {
          "output_type": "stream",
          "name": "stdout",
          "text": [
            "Default account \n",
            "0.0\n",
            "------------------------\n",
            "Oliver account \n",
            "10000.0\n",
            "------------------------\n",
            "Liam account \n",
            "0.0\n",
            "------------------------\n",
            "Noah account \n",
            "400\n",
            "------------------------\n",
            "Sorry, Withdraw unsuccessful! The account balance after deducting withdraw amount is equal to or less than minimum.\n",
            "------------------------\n",
            "Sorry, Withdraw unsuccessful! The account balance after deducting withdraw amount is equal to or less than minimum.\n",
            "------------------------\n",
            "Oliver account \n",
            "3071.0\n"
          ]
        }
      ]
    },
    {
      "cell_type": "code",
      "source": [
        "#task-13:\n",
        "class StudentDatabase:\n",
        "    def __init__(self,name,id):\n",
        "        self.name=name\n",
        "        self.id=id\n",
        "        self.grades={}\n",
        "    def calculateGPA(self,list1,semester):\n",
        "        self.list1=list1\n",
        "        self.semester=semester\n",
        "        self.list2=[]\n",
        "        self.dict2={}\n",
        "        self.list3=[]\n",
        "        count=0\n",
        "        for i in self.list1:\n",
        "            x,y=i.split(':')\n",
        "            self.list2.append(x)\n",
        "            self.list3.append(y)\n",
        "            count+=float(y)\n",
        "        self.dict2[tuple(self.list2)]=count/len(self.list1)\n",
        "        self.grades[self.semester]=self.dict2\n",
        "    def printDetails(self):\n",
        "        print(f'Name: {self.name} \\nID: {self.id}')\n",
        "        for j,k in self.grades.items():\n",
        "            print('Courses taken in',j,':')\n",
        "            for l,m in k.items():\n",
        "                for n in l:\n",
        "                    print(n)\n",
        "                print('GPA:',k[l])\n",
        "        \n",
        "\n",
        "#driver code:\n",
        "s1 = StudentDatabase('Pietro', '10101222')\n",
        "s1.calculateGPA(['CSE230: 4.0', 'CSE220: 4.0', 'MAT110: 4.0'],\n",
        "'Summer2020')\n",
        "s1.calculateGPA(['CSE250: 3.7', 'CSE330: 4.0'], 'Summer2021')\n",
        "print(f'Grades for {s1.name} \\n{s1.grades}')\n",
        "print('------------------------------------------------------')\n",
        "s1.printDetails()\n",
        "s2 = StudentDatabase('Wanda', '10103332')\n",
        "s2.calculateGPA(['CSE111: 3.7', 'CSE260: 3.7', 'ENG101: 4.0'],\n",
        "'Summer2022')\n",
        "print('------------------------------------------------------')\n",
        "print(f'Grades for {s2.name}\\n{s2.grades}')\n",
        "print('------------------------------------------------------')\n",
        "s2.printDetails()"
      ],
      "metadata": {
        "colab": {
          "base_uri": "https://localhost:8080/"
        },
        "id": "Q3p5FVLGl1QI",
        "outputId": "38465722-9a5e-4f78-e7eb-a8085dbbeb9e"
      },
      "execution_count": null,
      "outputs": [
        {
          "output_type": "stream",
          "name": "stdout",
          "text": [
            "Grades for Pietro \n",
            "{'Summer2020': {('CSE230', 'CSE220', 'MAT110'): 4.0}, 'Summer2021': {('CSE250', 'CSE330'): 3.85}}\n",
            "------------------------------------------------------\n",
            "Name: Pietro \n",
            "ID: 10101222\n",
            "Courses taken in Summer2020 :\n",
            "CSE230\n",
            "CSE220\n",
            "MAT110\n",
            "GPA: 4.0\n",
            "Courses taken in Summer2021 :\n",
            "CSE250\n",
            "CSE330\n",
            "GPA: 3.85\n",
            "------------------------------------------------------\n",
            "Grades for Wanda\n",
            "{'Summer2022': {('CSE111', 'CSE260', 'ENG101'): 3.8000000000000003}}\n",
            "------------------------------------------------------\n",
            "Name: Wanda \n",
            "ID: 10103332\n",
            "Courses taken in Summer2022 :\n",
            "CSE111\n",
            "CSE260\n",
            "ENG101\n",
            "GPA: 3.8000000000000003\n"
          ]
        }
      ]
    },
    {
      "cell_type": "markdown",
      "source": [
        "Ungraded Ones:"
      ],
      "metadata": {
        "id": "ywYEYd7nGjz6"
      }
    },
    {
      "cell_type": "code",
      "source": [
        "#task-24:\n",
        "class Hospital:\n",
        "    def __init__(self,hospital):\n",
        "        self.hospital=hospital\n",
        "        self.list1=[]\n",
        "        self.list2=[]\n",
        "        self.dict1={}\n",
        "        self.dict2={}\n",
        "    def addDoctor(self,num):\n",
        "        self.num=num\n",
        "        self.dict1[num.id]=[num.name,num.sp]\n",
        "        # self.dict1[self.id]=self.sp\n",
        "    def getDoctorByID(self,id):\n",
        "        self.id=id\n",
        "        return f'Doctors ID: {self.id} \\nName: {self.dict1[id][0]} \\nSpeciality: {self.dict1[id][1]}'\n",
        "    # def addPatient(self,num):\n",
        "    #     self.num=num\n",
        "    #     self.dict2[num.id]=[num.name,num.age,num.phn]\n",
        "    # def getPatientByID(self,id):\n",
        "    #     self.id=id\n",
        "    #     return f'Patients ID: {self.id} \\nName: {self.dict2[id][0]} \\nAge: {self.dict2[id][1]} \\nPhone no: {self.dict2[id][2]}'\n",
        "    def allDoctors(self):\n",
        "        x=len(self.dict1)\n",
        "        print('All doctors: ')\n",
        "        print(f'Number of doctors: {x}')\n",
        "        print(f'{self.dict1}')\n",
        "\n",
        "    # def allPatients(self):\n",
        "    #     y=len(self.dict2)\n",
        "    #     print('All Patients: ')\n",
        "    #     print(f'Number of patients: {y} \\n{self.dict2}')\n",
        "\n",
        "class Doctor:\n",
        "    def __init__(self,id,desig,name,sp):\n",
        "        self.id=id\n",
        "        self.desig=desig\n",
        "        self.name=name\n",
        "        self.sp=sp\n",
        "# class Patient:\n",
        "#     def __init__(self,id,desig,name,age,phn):\n",
        "#         self.id=id\n",
        "#         self.desig=desig\n",
        "#         self.name=name\n",
        "#         self.age=age\n",
        "#         self.phn=phn\n",
        "\n",
        "\n",
        "h = Hospital(\"Evercare\")\n",
        "d1 = Doctor(\"1d\",\"Doctor\", \"Samar Kumar\", \"Neurologist\")\n",
        "h.addDoctor(d1)\n",
        "print(\"=================================\")\n",
        "print(h.getDoctorByID(\"1d\"))\n",
        "print(\"=================================\")\n",
        "p1 = Patient(\"1p\",\"Patient\", \"Kashem Ahmed\", 35, 12345)\n",
        "h.addPatient(p1)\n",
        "print(\"=================================\")\n",
        "print(h.getPatientByID(\"1p\"))\n",
        "print(\"=================================\")\n",
        "p2 = Patient (\"2p\",\"Patient\", \"Tanina Haque\", 26, 33456)\n",
        "h.addPatient(p2)\n",
        "print(\"=================================\")\n",
        "print(h.getPatientByID(\"2p\"))\n",
        "print(\"=================================\")\n",
        "h.allDoctors()\n",
        "h.allPatients()\n"
      ],
      "metadata": {
        "colab": {
          "base_uri": "https://localhost:8080/"
        },
        "id": "nS77NuQb_-Yw",
        "outputId": "ec106e99-d1fb-4fad-9f36-bd571ea3680c"
      },
      "execution_count": null,
      "outputs": [
        {
          "output_type": "stream",
          "name": "stdout",
          "text": [
            "=================================\n",
            "Doctors ID: 1d \n",
            "Name: Samar Kumar \n",
            "Speciality: Neurologist\n",
            "=================================\n",
            "=================================\n",
            "Patients ID: 1p \n",
            "Name: Kashem Ahmed \n",
            "Age: 35 \n",
            "Phone no: 12345\n",
            "=================================\n",
            "=================================\n",
            "Patients ID: 2p \n",
            "Name: Tanina Haque \n",
            "Age: 26 \n",
            "Phone no: 33456\n",
            "=================================\n",
            "All doctors: \n",
            "Number of doctors: 1\n",
            "{'1d': ['Samar Kumar', 'Neurologist']}\n",
            "All Patients: \n",
            "Number of patients: 2 \n",
            "{'1p': ['Kashem Ahmed', 35, 12345], '2p': ['Tanina Haque', 26, 33456]}\n"
          ]
        }
      ]
    },
    {
      "cell_type": "code",
      "source": [
        "#task-20:\n",
        "class Student:\n",
        "    def __init__(self,name=None,dept=None):\n",
        "        self.name=name\n",
        "        self.dept=dept\n",
        "        if self.name==None and self.dept==None:\n",
        "            print('Student name and department need to be set')\n",
        "        elif self.dept==None:\n",
        "            print(f'Department for {self.name} needs to be set')\n",
        "        else:\n",
        "            print(f'{self.name} is from {self.dept} department')\n",
        "    def update_name(self,name):\n",
        "        self.name=name\n",
        "    def update_department(self,dept):\n",
        "        self.dept=dept\n",
        "    def enroll(self,*course):\n",
        "        self.course=course\n",
        "    def printDetail(self):\n",
        "        x=len(self.course)\n",
        "        y=str(self.course)\n",
        "        print(f'Name: {self.name} \\nDepartment: {self.dept} \\n{self.name} enrolled in {x} course(s): ')\n",
        "        if x>1:\n",
        "            print(y[1:-1:1])\n",
        "        else:\n",
        "            print(y[1:-2:1])\n",
        "        print('')\n",
        "\n",
        "\n",
        "#driver code:\n",
        "s1 = Student()\n",
        "print(\"=========================\")\n",
        "s2 = Student(\"Carol\")\n",
        "print(\"=========================\")\n",
        "s3 = Student(\"Jon\", \"EEE\")\n",
        "print(\"=========================\")\n",
        "s1.update_name(\"Bob\")\n",
        "s1.update_department(\"CSE\")\n",
        "s2.update_department(\"BBA\")\n",
        "s1.enroll(\"CSE110\", \"MAT110\", \"ENG091\")\n",
        "s2.enroll(\"BUS101\")\n",
        "s3.enroll(\"MAT110\", \"PHY111\")\n",
        "print(\"###########################\")\n",
        "s1.printDetail()\n",
        "print(\"=========================\")\n",
        "s2.printDetail()\n",
        "print(\"=========================\")\n",
        "s3.printDetail()"
      ],
      "metadata": {
        "colab": {
          "base_uri": "https://localhost:8080/"
        },
        "id": "Sz_MUevLV6y_",
        "outputId": "22d81840-1368-42ef-b5b5-b2b792c35ca4"
      },
      "execution_count": null,
      "outputs": [
        {
          "output_type": "stream",
          "name": "stdout",
          "text": [
            "Student name and department need to be set\n",
            "=========================\n",
            "Department for Carol needs to be set\n",
            "=========================\n",
            "Jon is from EEE department\n",
            "=========================\n",
            "###########################\n",
            "Name: Bob \n",
            "Department: CSE \n",
            "Bob enrolled in 3 course(s): \n",
            "'CSE110', 'MAT110', 'ENG091'\n",
            "\n",
            "=========================\n",
            "Name: Carol \n",
            "Department: BBA \n",
            "Carol enrolled in 1 course(s): \n",
            "'BUS101'\n",
            "\n",
            "=========================\n",
            "Name: Jon \n",
            "Department: EEE \n",
            "Jon enrolled in 2 course(s): \n",
            "'MAT110', 'PHY111'\n",
            "\n"
          ]
        }
      ]
    },
    {
      "cell_type": "code",
      "source": [
        "#task-21:\n",
        "class Student:\n",
        "    def __init__(self,name,id,dept):\n",
        "        self.name=name\n",
        "        self.id=id\n",
        "        self.dept=dept\n",
        "    def details(self):\n",
        "        return f'Name: {self.name} \\nID: {self.id} \\nDepartment: {self.dept}'\n",
        "    def advise(self,*course):\n",
        "        self.course=course\n",
        "        x=len(self.course)\n",
        "        y=str(self.course)\n",
        "        print(f'{self.name}, you have taken {x} credits. ')\n",
        "        if x==3:\n",
        "            z=y[1:-1:1]\n",
        "            print(f'Lists of courses: {z} \\nStatus: Ok')\n",
        "        elif x<3:\n",
        "            z=y[1:-1:1]\n",
        "            print(f'Lists of courses: {z} \\nStatus: You have taken at least 1 more course.')\n",
        "        else:\n",
        "            z=y[1:-2:1]\n",
        "            print(f'Lists of courses: {z} \\nStatus: You have to drop at least 1 course.')\n",
        "\n",
        "s1 = Student('Alice','20103012','CSE')\n",
        "s2 = Student('Bob', '18301254','EEE')\n",
        "s3 = Student('Carol', '17101238','CSE')\n",
        "print('##########################')\n",
        "print(s1.details())\n",
        "print('##########################')\n",
        "print(s2.details())\n",
        "print('##########################')\n",
        "s1.advise('CSE110', 'MAT110', 'PHY111')\n",
        "print('##########################')\n",
        "s2.advise('BUS101', 'MAT120')\n",
        "print('##########################')\n",
        "s3.advise('MAT110', 'PHY111', 'ENG102',\n",
        "'CSE111', 'CSE230')"
      ],
      "metadata": {
        "colab": {
          "base_uri": "https://localhost:8080/"
        },
        "id": "ltgyZOKUZoZ0",
        "outputId": "32b9bf92-d954-4747-f0f8-f68f51d7899f"
      },
      "execution_count": null,
      "outputs": [
        {
          "output_type": "stream",
          "name": "stdout",
          "text": [
            "##########################\n",
            "Name: Alice \n",
            "ID: 20103012 \n",
            "Department: CSE\n",
            "##########################\n",
            "Name: Bob \n",
            "ID: 18301254 \n",
            "Department: EEE\n",
            "##########################\n",
            "Alice, you have taken 3 credits. \n",
            "Lists of courses: 'CSE110', 'MAT110', 'PHY111' \n",
            "Status: Ok\n",
            "##########################\n",
            "Bob, you have taken 2 credits. \n",
            "Lists of courses: 'BUS101', 'MAT120' \n",
            "Status: You have taken at least 1 more course.\n",
            "##########################\n",
            "Carol, you have taken 5 credits. \n",
            "Lists of courses: 'MAT110', 'PHY111', 'ENG102', 'CSE111', 'CSE230' \n",
            "Status: You have to drop at least 1 course.\n"
          ]
        }
      ]
    },
    {
      "cell_type": "code",
      "source": [
        "#task-22:\n",
        "class Hotel:\n",
        "    def __init__(self,dist):\n",
        "        self.dist=dist\n",
        "        print(f'Staff with ID {self.id} is created')\n",
        "    def addStuff(self,name,age,phn='000'):\n",
        "        self.name=name\n",
        "        self.age=age\n",
        "        self.phn=phn\n",
        "        # print(f'Staff with ID {self.id} is created')\n",
        "    def getStuffById(self,id):\n",
        "        self.id=id\n",
        "        return f'Staff ID: {self.id} \\nName: {self.name} \\nAge: {self.age} \\nPhone no: {self.phn}'\n",
        "    def addGuest(self,name1,age1,phn1):\n",
        "        self.name1=name1\n",
        "        self.age1=age1\n",
        "        self.phn1=phn1\n",
        "    def getGuestById(self,id1):\n",
        "        self.id1=id1\n",
        "        return f'Guest ID: {self.id1} \\nName: {self.name1} \\nAge: {self.age1} \\nPhone no: {self.phn1}'\n",
        "    def allStaffs(self):\n",
        "        print(f'All Staffs: \\nNumber of Staff: {self.id}')\n",
        "        print(f'Staff ID: {self.id} Name: {self.name} Age: {self.age} Phone no: {self.phn}')\n",
        "    def allGuest(self):\n",
        "        print(f'All Staffs: \\nNumber of Guest: {self.id1}')\n",
        "        print(f'Guest ID: {self.id1} Name: {self.name1} Age: {self.age1} Phone no: {self.phn1}')\n",
        "    \n",
        "\n",
        "h = Hotel(\"Lakeshore\")\n",
        "h.addStuff( \"Adam\", 26)\n",
        "print(\"=================================\")\n",
        "print(h.getStuffById(1))\n",
        "print(\"=================================\")\n",
        "h.addGuest('Carol',35,'123')\n",
        "print(\"=================================\")\n",
        "print(h.getGuestById(1))\n",
        "print(\"=================================\")\n",
        "h.addGuest('Diana', 32, '431')\n",
        "print(\"=================================\")\n",
        "print(h.getGuestById(2))\n",
        "print(\"=================================\")\n",
        "h.allStaffs()\n",
        "print(\"=================================\")\n",
        "h.allGuest()"
      ],
      "metadata": {
        "colab": {
          "base_uri": "https://localhost:8080/",
          "height": 366
        },
        "id": "CpAgjkwheJzM",
        "outputId": "ac7043d8-8897-47bb-966f-d3dd0993b195"
      },
      "execution_count": null,
      "outputs": [
        {
          "output_type": "error",
          "ename": "AttributeError",
          "evalue": "ignored",
          "traceback": [
            "\u001b[0;31m---------------------------------------------------------------------------\u001b[0m",
            "\u001b[0;31mAttributeError\u001b[0m                            Traceback (most recent call last)",
            "\u001b[0;32m<ipython-input-54-2ed57b660c2e>\u001b[0m in \u001b[0;36m<module>\u001b[0;34m\u001b[0m\n\u001b[1;32m     27\u001b[0m \u001b[0;34m\u001b[0m\u001b[0m\n\u001b[1;32m     28\u001b[0m \u001b[0;34m\u001b[0m\u001b[0m\n\u001b[0;32m---> 29\u001b[0;31m \u001b[0mh\u001b[0m \u001b[0;34m=\u001b[0m \u001b[0mHotel\u001b[0m\u001b[0;34m(\u001b[0m\u001b[0;34m\"Lakeshore\"\u001b[0m\u001b[0;34m)\u001b[0m\u001b[0;34m\u001b[0m\u001b[0;34m\u001b[0m\u001b[0m\n\u001b[0m\u001b[1;32m     30\u001b[0m \u001b[0mh\u001b[0m\u001b[0;34m.\u001b[0m\u001b[0maddStuff\u001b[0m\u001b[0;34m(\u001b[0m \u001b[0;34m\"Adam\"\u001b[0m\u001b[0;34m,\u001b[0m \u001b[0;36m26\u001b[0m\u001b[0;34m)\u001b[0m\u001b[0;34m\u001b[0m\u001b[0;34m\u001b[0m\u001b[0m\n\u001b[1;32m     31\u001b[0m \u001b[0mprint\u001b[0m\u001b[0;34m(\u001b[0m\u001b[0;34m\"=================================\"\u001b[0m\u001b[0;34m)\u001b[0m\u001b[0;34m\u001b[0m\u001b[0;34m\u001b[0m\u001b[0m\n",
            "\u001b[0;32m<ipython-input-54-2ed57b660c2e>\u001b[0m in \u001b[0;36m__init__\u001b[0;34m(self, dist)\u001b[0m\n\u001b[1;32m      3\u001b[0m     \u001b[0;32mdef\u001b[0m \u001b[0m__init__\u001b[0m\u001b[0;34m(\u001b[0m\u001b[0mself\u001b[0m\u001b[0;34m,\u001b[0m\u001b[0mdist\u001b[0m\u001b[0;34m)\u001b[0m\u001b[0;34m:\u001b[0m\u001b[0;34m\u001b[0m\u001b[0;34m\u001b[0m\u001b[0m\n\u001b[1;32m      4\u001b[0m         \u001b[0mself\u001b[0m\u001b[0;34m.\u001b[0m\u001b[0mdist\u001b[0m\u001b[0;34m=\u001b[0m\u001b[0mdist\u001b[0m\u001b[0;34m\u001b[0m\u001b[0;34m\u001b[0m\u001b[0m\n\u001b[0;32m----> 5\u001b[0;31m         \u001b[0mprint\u001b[0m\u001b[0;34m(\u001b[0m\u001b[0;34mf'Staff with ID {self.id} is created'\u001b[0m\u001b[0;34m)\u001b[0m\u001b[0;34m\u001b[0m\u001b[0;34m\u001b[0m\u001b[0m\n\u001b[0m\u001b[1;32m      6\u001b[0m     \u001b[0;32mdef\u001b[0m \u001b[0maddStuff\u001b[0m\u001b[0;34m(\u001b[0m\u001b[0mself\u001b[0m\u001b[0;34m,\u001b[0m\u001b[0mname\u001b[0m\u001b[0;34m,\u001b[0m\u001b[0mage\u001b[0m\u001b[0;34m,\u001b[0m\u001b[0mphn\u001b[0m\u001b[0;34m=\u001b[0m\u001b[0;34m'000'\u001b[0m\u001b[0;34m)\u001b[0m\u001b[0;34m:\u001b[0m\u001b[0;34m\u001b[0m\u001b[0;34m\u001b[0m\u001b[0m\n\u001b[1;32m      7\u001b[0m         \u001b[0mself\u001b[0m\u001b[0;34m.\u001b[0m\u001b[0mname\u001b[0m\u001b[0;34m=\u001b[0m\u001b[0mname\u001b[0m\u001b[0;34m\u001b[0m\u001b[0;34m\u001b[0m\u001b[0m\n",
            "\u001b[0;31mAttributeError\u001b[0m: 'Hotel' object has no attribute 'id'"
          ]
        }
      ]
    },
    {
      "cell_type": "code",
      "source": [
        "#task-25:\n",
        "class Vaccine:\n",
        "    def __init(self,dose,country,age):\n",
        "        self.dose=dose\n",
        "        self.country=country\n",
        "        self.age=age\n",
        "class Person:\n",
        "    def __init__(self,name,age,catg):\n",
        "        self.name=name\n",
        "        self.age1=age\n",
        "        self.catg=catg\n",
        "    def pushVaccine(self,dose,dose2):\n",
        "        self.dose=dose\n",
        "        self.dose2=dose2\n",
        "        x=len(self.dose)\n",
        "        if x==1:\n",
        "            print(f'1st dose done for {self.name}')\n",
        "    def showDetail(self):\n",
        "        print(f'Name: {self.name} Age: {self.age} Type: {self.catg}')\n",
        "        print(f'Vaccine name: {self.dose}')\n",
        "        print(f'1st dose: Given')\n",
        "        print(f'2nd dose: Please come after 60 days')\n",
        "        \n",
        "\n",
        "\n",
        "astra = Vaccine(\"AstraZeneca\", \"UK\", 60)\n",
        "modr = Vaccine(\"Moderna\", \"UK\", 30)\n",
        "sin = Vaccine(\"Sinopharm\", \"China\", 30)\n",
        "p1 = Person(\"Bob\", 21, \"Student\")\n",
        "print(\"=================================\")\n",
        "p1.pushVaccine(astra)\n",
        "print(\"=================================\")\n",
        "p1.showDetail()\n",
        "print(\"=================================\")\n",
        "p1.pushVaccine(sin, \"2nd Dose\")\n",
        "print(\"=================================\")\n",
        "p1.pushVaccine(astra, \"2nd Dose\")\n",
        "print(\"=================================\")\n",
        "p1.showDetail()\n",
        "print(\"=================================\")\n",
        "p2 = Person(\"Carol\", 23, \"Actor\")\n",
        "print(\"=================================\")\n",
        "p2.pushVaccine(sin)\n",
        "print(\"=================================\")\n",
        "p3 = Person(\"David\", 34)\n",
        "print(\"=================================\")\n",
        "p3.pushVaccine(modr)\n",
        "print(\"=================================\")\n",
        "p3.showDetail()\n",
        "print(\"=================================\")\n",
        "p3.pushVaccine(modr, \"2nd Dose\")"
      ],
      "metadata": {
        "colab": {
          "base_uri": "https://localhost:8080/",
          "height": 241
        },
        "id": "oa-tjja2jXNi",
        "outputId": "b9db1395-3229-4e63-8f97-12a955ee2d26"
      },
      "execution_count": null,
      "outputs": [
        {
          "output_type": "error",
          "ename": "TypeError",
          "evalue": "ignored",
          "traceback": [
            "\u001b[0;31m---------------------------------------------------------------------------\u001b[0m",
            "\u001b[0;31mTypeError\u001b[0m                                 Traceback (most recent call last)",
            "\u001b[0;32m<ipython-input-49-7e8867f9ff38>\u001b[0m in \u001b[0;36m<module>\u001b[0;34m\u001b[0m\n\u001b[1;32m     24\u001b[0m \u001b[0;34m\u001b[0m\u001b[0m\n\u001b[1;32m     25\u001b[0m \u001b[0;34m\u001b[0m\u001b[0m\n\u001b[0;32m---> 26\u001b[0;31m \u001b[0mastra\u001b[0m \u001b[0;34m=\u001b[0m \u001b[0mVaccine\u001b[0m\u001b[0;34m(\u001b[0m\u001b[0;34m\"AstraZeneca\"\u001b[0m\u001b[0;34m,\u001b[0m \u001b[0;34m\"UK\"\u001b[0m\u001b[0;34m,\u001b[0m \u001b[0;36m60\u001b[0m\u001b[0;34m)\u001b[0m\u001b[0;34m\u001b[0m\u001b[0;34m\u001b[0m\u001b[0m\n\u001b[0m\u001b[1;32m     27\u001b[0m \u001b[0mmodr\u001b[0m \u001b[0;34m=\u001b[0m \u001b[0mVaccine\u001b[0m\u001b[0;34m(\u001b[0m\u001b[0;34m\"Moderna\"\u001b[0m\u001b[0;34m,\u001b[0m \u001b[0;34m\"UK\"\u001b[0m\u001b[0;34m,\u001b[0m \u001b[0;36m30\u001b[0m\u001b[0;34m)\u001b[0m\u001b[0;34m\u001b[0m\u001b[0;34m\u001b[0m\u001b[0m\n\u001b[1;32m     28\u001b[0m \u001b[0msin\u001b[0m \u001b[0;34m=\u001b[0m \u001b[0mVaccine\u001b[0m\u001b[0;34m(\u001b[0m\u001b[0;34m\"Sinopharm\"\u001b[0m\u001b[0;34m,\u001b[0m \u001b[0;34m\"China\"\u001b[0m\u001b[0;34m,\u001b[0m \u001b[0;36m30\u001b[0m\u001b[0;34m)\u001b[0m\u001b[0;34m\u001b[0m\u001b[0;34m\u001b[0m\u001b[0m\n",
            "\u001b[0;31mTypeError\u001b[0m: Vaccine() takes no arguments"
          ]
        }
      ]
    },
    {
      "cell_type": "code",
      "source": [
        "#mid exam:\n",
        "class xD:\n",
        "    def __init__(self,*args):\n",
        "        self.name=args[0]\n",
        "        self.song1=args[1]\n",
        "        self.song2=args[2]\n",
        "    def songlist(self):\n",
        "        return f'{self.name} {self.song1} {self.song2}'\n",
        "\n",
        "#driver code:\n",
        "h=xD('Tasrif', 'ALo_Alo', 'Amar vitor bahire')\n",
        "print(h.songlist())"
      ],
      "metadata": {
        "colab": {
          "base_uri": "https://localhost:8080/"
        },
        "id": "OQRE6cJrzUNt",
        "outputId": "42a68ccd-e9cd-4245-f1c5-1866b7b3f441"
      },
      "execution_count": null,
      "outputs": [
        {
          "output_type": "stream",
          "name": "stdout",
          "text": [
            "Tasrif ALo_Alo Amar vitor bahire\n"
          ]
        }
      ]
    },
    {
      "cell_type": "markdown",
      "source": [
        "# New Section"
      ],
      "metadata": {
        "id": "dqnBswFqXVjk"
      }
    },
    {
      "cell_type": "markdown",
      "source": [
        "Inheritance\n"
      ],
      "metadata": {
        "id": "lD4Bq7iLXRjB"
      }
    },
    {
      "cell_type": "code",
      "source": [
        "Input='Hello! This is Tasrif Coding...'\n",
        "print(Input)"
      ],
      "metadata": {
        "colab": {
          "base_uri": "https://localhost:8080/"
        },
        "id": "PqK0lDp1XT0l",
        "outputId": "7959b925-be4a-4448-b800-0ad6b90ac634"
      },
      "execution_count": null,
      "outputs": [
        {
          "output_type": "stream",
          "name": "stdout",
          "text": [
            "Hello! This is Tasrif Coding...\n"
          ]
        }
      ]
    },
    {
      "cell_type": "code",
      "source": [],
      "metadata": {
        "id": "o4CM_EGKXe_U"
      },
      "execution_count": null,
      "outputs": []
    }
  ]
}