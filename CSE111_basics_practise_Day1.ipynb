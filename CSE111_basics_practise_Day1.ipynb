{
  "cells": [
    {
      "cell_type": "code",
      "execution_count": null,
      "metadata": {
        "colab": {
          "base_uri": "https://localhost:8080/"
        },
        "id": "y_C6xRCICQTl",
        "outputId": "ae6ecb72-24a8-4a6b-8a60-126feb69425a"
      },
      "outputs": [
        {
          "name": "stdout",
          "output_type": "stream",
          "text": [
            "Hello This is Tasrif Coding\n"
          ]
        }
      ],
      "source": [
        "Var='Hello This is Tasrif Coding'\n",
        "print(Var)    #So variable can have captial letter or small letter it doesn't matter but built in function must have small letters otherwise it won't work."
      ]
    },
    {
      "cell_type": "markdown",
      "metadata": {
        "id": "uY9teNZS30U7"
      },
      "source": [
        "CSE110 Recap"
      ]
    },
    {
      "cell_type": "code",
      "execution_count": null,
      "metadata": {
        "colab": {
          "base_uri": "https://localhost:8080/"
        },
        "id": "EvlO_5Hk3zK0",
        "outputId": "db12fa45-8434-4e6d-a3e2-5075381e7c5d"
      },
      "outputs": [
        {
          "name": "stdout",
          "output_type": "stream",
          "text": [
            "10\n",
            "20\n",
            "30\n",
            "40\n",
            "50\n",
            "10\n",
            "20\n",
            "30\n",
            "40\n",
            "50\n",
            "10\n",
            "20\n",
            "30\n",
            "40\n",
            "50\n"
          ]
        }
      ],
      "source": [
        "list1=[10,20,30,40,50]\n",
        "list2=[40,50,60,70,80]\n",
        "\n",
        "index=0\n",
        "while index<len(list1):           #Counts character by addressign their index at first\n",
        "    print(list1[index])\n",
        "    index+=1\n",
        "\n",
        "for i in range(0,len(list1),1):      #Counts character by addressing their index at first\n",
        "    print(list1[i])\n",
        "\n",
        "for i in list1:          #Counts directly their character everytime\n",
        "    print(i)"
      ]
    },
    {
      "cell_type": "code",
      "execution_count": null,
      "metadata": {
        "colab": {
          "base_uri": "https://localhost:8080/"
        },
        "id": "pBlE6x6J-4cf",
        "outputId": "7bcb2310-21b2-4c63-9494-893f235a05c6"
      },
      "outputs": [
        {
          "name": "stdout",
          "output_type": "stream",
          "text": [
            "(10, 'Md Tasrif Khan', 10)\n",
            "[10, 'Md Tasrif Khan', 10]\n"
          ]
        }
      ],
      "source": [
        "a_tuple=(10, 'Md Tasrif Khan', 10)\n",
        "print(a_tuple)\n",
        "a_list=list(a_tuple)\n",
        "print(a_list)"
      ]
    },
    {
      "cell_type": "code",
      "execution_count": null,
      "metadata": {
        "id": "AIz9MRB4CJks"
      },
      "outputs": [],
      "source": [
        "Var=''"
      ]
    },
    {
      "cell_type": "code",
      "execution_count": null,
      "metadata": {
        "id": "WAP0ygRRK7yH"
      },
      "outputs": [],
      "source": []
    },
    {
      "cell_type": "markdown",
      "metadata": {
        "id": "5DAlciBBC4VD"
      },
      "source": [
        "Python OOP (Object Oriented Programming)"
      ]
    },
    {
      "cell_type": "code",
      "execution_count": null,
      "metadata": {
        "colab": {
          "base_uri": "https://localhost:8080/"
        },
        "id": "H-WitxBIC3MT",
        "outputId": "f33bbd47-7c63-44a9-bf02-8855f386a4e6"
      },
      "outputs": [
        {
          "name": "stdout",
          "output_type": "stream",
          "text": [
            "Jhon 11\n",
            "David 12\n"
          ]
        }
      ],
      "source": [
        "class Employ:\n",
        "    #paramiterized constructor\n",
        "    def __init__(self, name, no):\n",
        "        self.no=no    #instance variable\n",
        "        self.name=name    #instance variable\n",
        "    #Instance method\n",
        "    def display(self):\n",
        "        print(self.name, self.no)\n",
        "emp1=Employ('Jhon',11)    #Instance 1\n",
        "emp2=Employ('David',12)    #Instance 2\n",
        "emp1.display()\n",
        "emp2.display()"
      ]
    },
    {
      "cell_type": "markdown",
      "metadata": {
        "id": "ioeacUNGjkkk"
      },
      "source": [
        "Class Object Constructor Attributes:"
      ]
    },
    {
      "cell_type": "code",
      "execution_count": null,
      "metadata": {
        "colab": {
          "base_uri": "https://localhost:8080/"
        },
        "id": "zaECqtvlhFgG",
        "outputId": "f217bad8-7f73-4334-f578-f6d5f391c05d"
      },
      "outputs": [
        {
          "name": "stdout",
          "output_type": "stream",
          "text": [
            "<__main__.student object at 0x7fdf59625910>\n",
            "a student object created\n",
            "<__main__.student object at 0x7fdf59625890>\n",
            "a student object created\n",
            "S1 <__main__.student object at 0x7fdf59625910>\n"
          ]
        }
      ],
      "source": [
        "class student:\n",
        "    def __init__(self):\n",
        "        print(self)\n",
        "        print('a student object created')\n",
        "#varibale =class_name()\n",
        "s1=student()\n",
        "s2=student()\n",
        "print('S1',s1)"
      ]
    },
    {
      "cell_type": "code",
      "execution_count": null,
      "metadata": {
        "colab": {
          "base_uri": "https://localhost:8080/"
        },
        "id": "SvIpjWFyjRMv",
        "outputId": "cca1dc0e-ac58-40c7-86ac-af54acedce89"
      },
      "outputs": [
        {
          "name": "stdout",
          "output_type": "stream",
          "text": [
            "<__main__.student object at 0x7f5dfc2df290> <built-in function id>\n",
            "22\n",
            "Carol\n"
          ]
        }
      ],
      "source": [
        "class student:\n",
        "    def __init__(self, name, ID):\n",
        "        self.name= name    #Instance variable\n",
        "        self.id= ID    #Instance variable\n",
        "        #print('a student object created)\n",
        "        \n",
        "#variable=class_name()\n",
        "s1=student('BOb',11)\n",
        "s2=student('Carol',22)\n",
        "print(s1,id)    #11\n",
        "s1.id=33\n",
        "print(s2.id)\n",
        "print(s2.name)\n"
      ]
    },
    {
      "cell_type": "code",
      "execution_count": null,
      "metadata": {
        "colab": {
          "base_uri": "https://localhost:8080/"
        },
        "id": "kCOb_NMqmI53",
        "outputId": "643b8d54-4681-4493-aa82-63ae967050a9"
      },
      "outputs": [
        {
          "name": "stdout",
          "output_type": "stream",
          "text": [
            "<__main__.student object at 0x7f50a89c05d0> <built-in function id>\n",
            "22\n",
            "David\n",
            "Name: Bob ID 33\n",
            "Name: David ID 22\n"
          ]
        }
      ],
      "source": [
        "class student:\n",
        "    def __init__(self, name, ID):\n",
        "        self.name= name    #Instance variable\n",
        "        self.id= ID    #Instance variable\n",
        "        #print('a student object created)\n",
        "    def details(self):\n",
        "        print('Name:',self.name, \"ID\", self.id)\n",
        "\n",
        "#variable=class_name()\n",
        "s1=student('Bob',11)\n",
        "s2=student('Carol',22)\n",
        "print(s1,id)    #11\n",
        "s1.id=33\n",
        "s2.name= 'David'\n",
        "print(s2.id)\n",
        "print(s2.name)\n",
        "s1.details()\n",
        "s2.details()"
      ]
    },
    {
      "cell_type": "code",
      "execution_count": null,
      "metadata": {
        "colab": {
          "base_uri": "https://localhost:8080/"
        },
        "id": "wAH-BYMxNV_s",
        "outputId": "776fab4f-862f-447e-c370-aa5a13347d97"
      },
      "outputs": [
        {
          "name": "stdout",
          "output_type": "stream",
          "text": [
            "Sir, please enter your desired number: Tasrif Khan\n",
            "['T', 'a', 's', 'r', 'i', 'f', 'K', 'h', 'a', 'n']\n",
            "['T', 'a', 's', 'r', 'i', 'f', 'K', 'h', 'n']\n"
          ]
        }
      ],
      "source": [
        "\n",
        "name=input('Sir, please enter your desired number: ')\n",
        "add=''\n",
        "a_list=[]\n",
        "new_list=[]\n",
        "for i in range(len(name)):\n",
        "    if name[i]==' ':\n",
        "        pass\n",
        "    else: \n",
        "        a_list.append(name[i])\n",
        "print(a_list)\n",
        "for j in a_list:\n",
        "    if j not in new_list:\n",
        "        new_list.append(j)\n",
        "print(new_list)"
      ]
    },
    {
      "cell_type": "code",
      "execution_count": null,
      "metadata": {
        "colab": {
          "base_uri": "https://localhost:8080/"
        },
        "id": "aiiOcCEeSIWg",
        "outputId": "fdaa3722-d407-44da-abb6-c2181bdf7088"
      },
      "outputs": [
        {
          "name": "stdout",
          "output_type": "stream",
          "text": [
            "['l', 'l', 'l']\n"
          ]
        }
      ],
      "source": [
        "var='Hello People'\n",
        "a_list=[]\n",
        "for i in range(len(var)):\n",
        "    if var[i]=='l':\n",
        "        a_list.append(var[i])\n",
        "print(a_list)"
      ]
    },
    {
      "cell_type": "markdown",
      "metadata": {
        "id": "9Vl1XRQNWkym"
      },
      "source": [
        "Dictionary"
      ]
    },
    {
      "cell_type": "code",
      "execution_count": null,
      "metadata": {
        "colab": {
          "base_uri": "https://localhost:8080/"
        },
        "id": "7pDIfozdd0my",
        "outputId": "2abc5f66-e7a7-474b-a496-120977b74945"
      },
      "outputs": [
        {
          "name": "stdout",
          "output_type": "stream",
          "text": [
            "{'Key1': 'Value1', 2: 'minus value', 2.5: 'Value2', (1, 2): 'hi'}\n"
          ]
        }
      ],
      "source": [
        "d1={'Key1':'Value1', 2: 'minus value', 2.5: 'Value2', (1,2):'hi'}\n",
        "print(d1)"
      ]
    },
    {
      "cell_type": "code",
      "execution_count": null,
      "metadata": {
        "colab": {
          "base_uri": "https://localhost:8080/"
        },
        "id": "V_54b-klcB4n",
        "outputId": "17b44ad2-558b-4feb-88e6-6ec6419d49e1"
      },
      "outputs": [
        {
          "name": "stdout",
          "output_type": "stream",
          "text": [
            "{'BD': [{'name': 'Sakib Al Hasan', 'Country': 'BD', 'Age': 35}, {'name': 'Ananta Jalil', 'Country': 'BD', 'Age': 44}], 'USA': {'name': 'Brad pitt', 'Country': 'USA', 'Age': 60}}\n",
            "[{'name': 'Sakib Al Hasan', 'Country': 'BD', 'Age': 35}, {'name': 'Ananta Jalil', 'Country': 'BD', 'Age': 44}]\n",
            "{'name': 'Ananta Jalil', 'Country': 'BD', 'Age': 44}\n"
          ]
        }
      ],
      "source": [
        "p1={'name':'Sakib Al Hasan', 'Country':'BD','Age':35}\n",
        "p2={'name':'Brad pitt', 'Country':'USA','Age':60}\n",
        "p3={'name':'Ananta Jalil', 'Country': 'BD', 'Age': 44}\n",
        "\n",
        "actor={'BD':[p1,p3], 'USA':p2}\n",
        "print(actor)\n",
        "print(actor['BD'])\n",
        "print(actor['BD'][1])"
      ]
    },
    {
      "cell_type": "code",
      "execution_count": null,
      "metadata": {
        "colab": {
          "base_uri": "https://localhost:8080/",
          "height": 336
        },
        "id": "4bNIVna1YiN1",
        "outputId": "53e0aee8-b8e0-4c01-a0d4-a2538d297443"
      },
      "outputs": [
        {
          "name": "stdout",
          "output_type": "stream",
          "text": [
            "{'Name': 'Zara', 'Age': 7, 'Class': 'First'}\n",
            "{'Name': 'Zara', 'Age': 8, 'Class': 'First', 'School': 'DPS School'}\n",
            "{'Age': 8, 'Class': 'First', 'School': 'DPS School'}\n",
            "{}\n",
            "{}\n"
          ]
        },
        {
          "ename": "KeyError",
          "evalue": "ignored",
          "output_type": "error",
          "traceback": [
            "\u001b[0;31m---------------------------------------------------------------------------\u001b[0m",
            "\u001b[0;31mKeyError\u001b[0m                                  Traceback (most recent call last)",
            "\u001b[0;32m<ipython-input-5-2d36a18e1efb>\u001b[0m in \u001b[0;36m<module>\u001b[0;34m\u001b[0m\n\u001b[1;32m     10\u001b[0m \u001b[0;31m#del dt    #Delete entire dictionary\u001b[0m\u001b[0;34m\u001b[0m\u001b[0;34m\u001b[0m\u001b[0;34m\u001b[0m\u001b[0m\n\u001b[1;32m     11\u001b[0m \u001b[0mprint\u001b[0m\u001b[0;34m(\u001b[0m\u001b[0mdt\u001b[0m\u001b[0;34m)\u001b[0m\u001b[0;34m\u001b[0m\u001b[0;34m\u001b[0m\u001b[0m\n\u001b[0;32m---> 12\u001b[0;31m \u001b[0mpop_ele\u001b[0m\u001b[0;34m=\u001b[0m\u001b[0mdt\u001b[0m\u001b[0;34m.\u001b[0m\u001b[0mpop\u001b[0m\u001b[0;34m(\u001b[0m\u001b[0;34m'Class'\u001b[0m\u001b[0;34m)\u001b[0m\u001b[0;34m\u001b[0m\u001b[0;34m\u001b[0m\u001b[0m\n\u001b[0m\u001b[1;32m     13\u001b[0m \u001b[0mprint\u001b[0m\u001b[0;34m(\u001b[0m\u001b[0;34m'After operation'\u001b[0m\u001b[0;34m)\u001b[0m\u001b[0;34m\u001b[0m\u001b[0;34m\u001b[0m\u001b[0m\n\u001b[1;32m     14\u001b[0m \u001b[0mprint\u001b[0m\u001b[0;34m(\u001b[0m\u001b[0mdt\u001b[0m\u001b[0;34m)\u001b[0m\u001b[0;34m\u001b[0m\u001b[0;34m\u001b[0m\u001b[0m\n",
            "\u001b[0;31mKeyError\u001b[0m: 'Class'"
          ]
        }
      ],
      "source": [
        "dt={'Name':'Zara','Age': 7, 'Class':'First'}\n",
        "print(dt)\n",
        "dt['Age']=8    #Update existing entry\n",
        "dt['School']= 'DPS School'    #Add new entry\n",
        "print(dt)\n",
        "del dt['Name']    #remove entry with key 'Name'\n",
        "print(dt)\n",
        "# dt.clear()    #remove all entries in dict\n",
        "# print(dt)\n",
        "#del dt    #Delete entire dictionary\n",
        "print(dt)\n",
        "pop_ele=dt.pop('Class')\n",
        "print('After operation')\n",
        "print(dt)\n",
        "print(pop_ele)\n"
      ]
    },
    {
      "cell_type": "code",
      "execution_count": null,
      "metadata": {
        "colab": {
          "base_uri": "https://localhost:8080/"
        },
        "id": "Eid7CV0Edojk",
        "outputId": "7470b93b-a94d-4fda-b5e0-45f995673bec"
      },
      "outputs": [
        {
          "name": "stdout",
          "output_type": "stream",
          "text": [
            "{1: 2, 4: 5}\n",
            "{'v1': 'k1', 'k2': 'v2', 'k3': 'v3'}\n"
          ]
        }
      ],
      "source": [
        "d1={1:10, 2:4}\n",
        "d2=dict({1:2, 4:5})\n",
        "print(d2)\n",
        "d3=dict([('v1','k1'), ('k2','v2'),('k3','v3')])\n",
        "print(d3)\n"
      ]
    },
    {
      "cell_type": "markdown",
      "metadata": {
        "id": "D6XEPGAO-G57"
      },
      "source": [
        "CSE111 Assignment"
      ]
    },
    {
      "cell_type": "code",
      "execution_count": null,
      "metadata": {
        "colab": {
          "base_uri": "https://localhost:8080/"
        },
        "id": "yl8oF6yp9B8-",
        "outputId": "83e381ef-81e5-4cb5-a126-4822d75c4af8"
      },
      "outputs": [
        {
          "name": "stdout",
          "output_type": "stream",
          "text": [
            "Sir, please enter your desired word: BaNaNa\n",
            "3\n",
            "3\n",
            "BANANA\n"
          ]
        }
      ],
      "source": [
        "#task-1:\n",
        "name=str(input('Sir, please enter your desired word: '))\n",
        "upper_count=0\n",
        "lower_count=0\n",
        "for i in range(len(name)):\n",
        "    if 65<=ord(name[i])<=90:\n",
        "        upper_count+=1\n",
        "    else:\n",
        "         lower_count+=1\n",
        "print(upper_count)\n",
        "print(lower_count)\n",
        "\n",
        "var=''\n",
        "if upper_count<lower_count:\n",
        "    var=name.lower()\n",
        "else:\n",
        "    var=name.upper()\n",
        "print(var)\n"
      ]
    },
    {
      "cell_type": "code",
      "execution_count": null,
      "metadata": {
        "colab": {
          "base_uri": "https://localhost:8080/"
        },
        "id": "IsfGmmySDBOK",
        "outputId": "ae9cd10d-6707-4e73-85ad-8285f72e0143"
      },
      "outputs": [
        {
          "name": "stdout",
          "output_type": "stream",
          "text": [
            "Sir, please enter your desired word: Hello\n",
            "0\n",
            "5\n",
            "WORD\n"
          ]
        }
      ],
      "source": [
        "#task-2:\n",
        "word=input('Sir, please enter your desired word: ')\n",
        "string=0\n",
        "number=0\n",
        "for i in range(len(word)):\n",
        "    if 48<=ord(word[i])<=57:\n",
        "        number+=1      \n",
        "    elif 65<=ord(word[i])<=90 or 97<=ord(word[i])<=122:\n",
        "        string+=1\n",
        "print(number)   \n",
        "print(string)    \n",
        "\n",
        "if string==len(word):\n",
        "    print('WORD')\n",
        "elif number== len(word):\n",
        "    print('NUMBER')\n",
        "else:\n",
        "    print('MIXED')"
      ]
    },
    {
      "cell_type": "code",
      "execution_count": null,
      "metadata": {
        "colab": {
          "base_uri": "https://localhost:8080/"
        },
        "id": "sNt2xaG6LpEn",
        "outputId": "cecc5622-081d-4495-d2fd-dc38b10a0686"
      },
      "outputs": [
        {
          "name": "stdout",
          "output_type": "stream",
          "text": [
            "Sir, please enter your word: baNgladEsh\n",
            "[2, 7]\n",
            "glad\n"
          ]
        }
      ],
      "source": [
        "#task-3:\n",
        "word=input('Sir, please enter your word: ')\n",
        "var=[]\n",
        "\n",
        "for i in range(len(word)):\n",
        "    if 65<=ord(word[i])<=90:\n",
        "        var.append(i)\n",
        "\n",
        "print(var)\n",
        "\n",
        "new=word[var[0]+1 : var[1]]\n",
        "if len(new)>0:\n",
        "    print(new)\n",
        "else:\n",
        "    print('BLANK')\n"
      ]
    },
    {
      "cell_type": "code",
      "execution_count": null,
      "metadata": {
        "colab": {
          "base_uri": "https://localhost:8080/"
        },
        "id": "KT9kEU9F78TP",
        "outputId": "e793c1c9-861d-4276-94a9-fb300d712431"
      },
      "outputs": [
        {
          "name": "stdout",
          "output_type": "stream",
          "text": [
            "Sir, please enter your desired word: harry, hermione \n",
            "['h', 'a', 'r', 'y', ',', ' ', 'e', 'm', 'i', 'o', 'n']\n",
            "['h', 'a', 'r', 'y', 'e', 'm', 'i', 'o', 'n']\n",
            "None\n"
          ]
        }
      ],
      "source": [
        "#task-4:\n",
        "word=input('Sir, please enter your desired word: ')\n",
        "new_list=[]\n",
        "for j in word:\n",
        "    if j not in new_list:\n",
        "            new_list.append(j)\n",
        "print(new_list)\n",
        "b_list=[]\n",
        "for i in new_list:\n",
        "    if i==' ' or i==',':\n",
        "        pass\n",
        "    else:\n",
        "        b_list.append(i)\n",
        "print(b_list)\n",
        "var=''\n",
        "print(var)"
      ]
    },
    {
      "cell_type": "code",
      "execution_count": null,
      "metadata": {
        "colab": {
          "base_uri": "https://localhost:8080/"
        },
        "id": "MwqWBv0KuA6f",
        "outputId": "e92d3be7-bcd7-4015-de20-d7f31f7714c4"
      },
      "outputs": [
        {
          "name": "stdout",
          "output_type": "stream",
          "text": [
            "Enter two words using comma: harry, hermoine\n",
            "['harry', ' hermoine']\n",
            "harry\n",
            "hrrhr\n"
          ]
        }
      ],
      "source": [
        "sample=input(\"Enter two words using comma: \")\n",
        "\n",
        "sample=sample.split(\",\")\n",
        "print(sample)\n",
        "value_1=sample[0]\n",
        "print(value_1)\n",
        "value_2=sample[1]\n",
        "final=\"\"\n",
        "\n",
        "for i in range(len(value_1)):\n",
        "  if value_1[i] in value_2:\n",
        "      final+=value_1[i]\n",
        "for j in range(len(value_2)):\n",
        "  if value_2[j] in value_1:\n",
        "      final+=value_2[j]\n",
        "\n",
        "if len(final)==0:\n",
        "  print(\"Nothing in common\")\n",
        "else:\n",
        "   print(final)"
      ]
    },
    {
      "cell_type": "code",
      "execution_count": null,
      "metadata": {
        "colab": {
          "base_uri": "https://localhost:8080/"
        },
        "id": "QdU24bHw-lGY",
        "outputId": "d5b26353-b24b-4eb0-d3d4-eede66d6a999"
      },
      "outputs": [
        {
          "name": "stdout",
          "output_type": "stream",
          "text": [
            "dean, tom\n",
            "\n"
          ]
        }
      ],
      "source": [
        "word=input()\n",
        "var=''\n",
        "for i in word:\n",
        "    if i not in var:\n",
        "        pass\n",
        "    else:\n",
        "        var=var+i\n",
        "    \n",
        "print(var)"
      ]
    },
    {
      "cell_type": "code",
      "execution_count": null,
      "metadata": {
        "colab": {
          "base_uri": "https://localhost:8080/"
        },
        "id": "Rd8G6vuMG8yr",
        "outputId": "77139c17-688c-43b5-d300-d0c8417aaac0"
      },
      "outputs": [
        {
          "name": "stdout",
          "output_type": "stream",
          "text": [
            "Sir, please insert your desired credentials: ohmybracu \n",
            "0\n",
            "Uppercase character missing. Digit missing. Special character missing\n"
          ]
        }
      ],
      "source": [
        "#task-5:\n",
        "word=input('Sir, please insert your desired credentials: ')\n",
        "digit=0\n",
        "upper=0\n",
        "lower=0\n",
        "for i in word:\n",
        "    if 48<=ord(i)<=57:\n",
        "        digit+=1\n",
        "    elif 65<=ord(i)<=90:\n",
        "        upper+=1\n",
        "    else:\n",
        "        lower+=1\n",
        "    \n",
        "print(digit)\n",
        "if upper==0 or lower==0 or digit==0:\n",
        "    print('Uppercase character missing. Digit missing. Special character missing')\n",
        "elif digit==0:\n",
        "    print('Digit Missing')\n",
        "else:\n",
        "    print('OK')"
      ]
    },
    {
      "cell_type": "markdown",
      "metadata": {
        "id": "gWXOHOFcLjD_"
      },
      "source": [
        "List of assignment-1:"
      ]
    },
    {
      "cell_type": "code",
      "execution_count": null,
      "metadata": {
        "colab": {
          "base_uri": "https://localhost:8080/"
        },
        "id": "Qi2zbwMgQjKL",
        "outputId": "9b9030c0-a13a-4cb2-a62a-abc34a4d7c1b"
      },
      "outputs": [
        {
          "name": "stdout",
          "output_type": "stream",
          "text": [
            "Sir, please enter your number: 8\n",
            "Enter your digit: 10\n",
            "Enter your digit: 20\n",
            "Enter your digit: 20\n",
            "Enter your digit: 30\n",
            "Enter your digit: 10\n",
            "Enter your digit: 50\n",
            "Enter your digit: 90\n",
            "Enter your digit: STOP\n",
            "['10', '20', '20', '30', '10', '50', '90', 'STOP']\n",
            "10 - 2 times\n",
            "20 - 2 times\n",
            "30 - 1 times\n",
            "50 - 1 times\n",
            "90 - 1 times\n"
          ]
        }
      ],
      "source": [
        "#task-1:\n",
        "number=int(input('Sir, please enter your number: '))\n",
        "num1=0\n",
        "num2=0\n",
        "num3=0\n",
        "num4=0\n",
        "num5=0\n",
        "a_list=[]\n",
        "for i in range(number):\n",
        "    digit=input('Enter your digit: ')\n",
        "    a_list.append(digit)\n",
        "print(a_list)\n",
        "for j in a_list:\n",
        "    if j=='10':\n",
        "        num1+=1\n",
        "    elif j=='20':\n",
        "        num2+=1\n",
        "    elif j=='30':\n",
        "        num3+=1\n",
        "    elif j=='STOP':\n",
        "        pass\n",
        "    elif j=='50':\n",
        "        num4+=1\n",
        "    else:\n",
        "        num5+=1\n",
        "print('10 -', num1, 'times')\n",
        "print('20 -', num2, 'times')\n",
        "print('30 -', num3, 'times')\n",
        "print('50 -', num4, 'times')\n",
        "print('90 -', num5, 'times')\n",
        "\n",
        "\n"
      ]
    },
    {
      "cell_type": "code",
      "execution_count": null,
      "metadata": {
        "colab": {
          "base_uri": "https://localhost:8080/"
        },
        "id": "BX-rp4SrC4P6",
        "outputId": "185055ab-c48f-42cc-f9ba-94ce50db0efc"
      },
      "outputs": [
        {
          "name": "stdout",
          "output_type": "stream",
          "text": [
            "Enter your values: 10\n",
            "Enter your values: 20\n",
            "Enter your values: 20\n",
            "Enter your values: 30\n",
            "Enter your values: 10\n",
            "Enter your values: 50\n",
            "Enter your values: 90\n",
            "Enter your values: STOP\n",
            "10 - 2 times\n",
            "20 - 2 times\n",
            "30 - 1 times\n",
            "50 - 1 times\n",
            "90 - 1 times\n"
          ]
        }
      ],
      "source": [
        "li=[]\n",
        "count=0\n",
        "new_li=[]\n",
        "\n",
        "while True:\n",
        "  n=input(\"Enter your values: \").upper()\n",
        "  if n==\"STOP\":\n",
        "      break\n",
        "  else:\n",
        "      li.append(int(n))\n",
        "\n",
        "for x in range(len(li)):\n",
        "    if li[x] not in new_li:\n",
        "         new_li.append(li[x])\n",
        "\n",
        "for x in new_li:\n",
        "    result=li.count(x)\n",
        "    print(x,\"-\",result,\"times\")"
      ]
    },
    {
      "cell_type": "code",
      "execution_count": null,
      "metadata": {
        "colab": {
          "base_uri": "https://localhost:8080/"
        },
        "id": "UigowmYZRhJS",
        "outputId": "8920f367-78b2-4bdd-c075-f0f4c8c3de49"
      },
      "outputs": [
        {
          "name": "stdout",
          "output_type": "stream",
          "text": [
            "Sir, please enter your desired digit: 3\n",
            "Sir, please enter your word: 6 9 3\n",
            "Sir, please enter your word: 1 1 1\n",
            "Sir, please enter your word: 8 0 2\n",
            "[['6', '9', '3'], ['1', '1', '1'], ['8', '0', '2']]\n",
            "18\n",
            "['6', '9', '3']\n"
          ]
        }
      ],
      "source": [
        "#task-2:\n",
        "a_list=int(input('Sir, please enter your desired digit: '))\n",
        "b_list=[]\n",
        "for i in range(a_list):\n",
        "    word=input('Sir, please enter your word: ')\n",
        "    b_list.append(word.split(' '))\n",
        "print(b_list)\n",
        "sum=0\n",
        "res=0\n",
        "trgt=None\n",
        "for itm in b_list:\n",
        "    for num in itm:\n",
        "        res+=int(num)\n",
        "    if res>sum:\n",
        "        sum=res\n",
        "        trgt=itm\n",
        "    res=0\n",
        "print(sum)\n",
        "print(trgt)"
      ]
    },
    {
      "cell_type": "code",
      "execution_count": null,
      "metadata": {
        "id": "XO37B2pDUZil"
      },
      "outputs": [],
      "source": []
    },
    {
      "cell_type": "markdown",
      "metadata": {
        "id": "YNGLmpj7xSuj"
      },
      "source": [
        "Dictionary & Tuple:"
      ]
    },
    {
      "cell_type": "code",
      "execution_count": null,
      "metadata": {
        "colab": {
          "base_uri": "https://localhost:8080/"
        },
        "id": "yLY68k2OxVt7",
        "outputId": "e7301edf-c678-42cd-ff03-616dff0e9cd0"
      },
      "outputs": [
        {
          "name": "stdout",
          "output_type": "stream",
          "text": [
            "{'a': 400, 'b': 300, 'c': 200, 'd': 700, 'e': 200}\n",
            "[400, 300, 200, 700, 200]\n",
            "[200, 200, 300, 400, 700]\n",
            "(200, 300, 400, 700)\n"
          ]
        }
      ],
      "source": [
        "dict1={'a': 100, 'b': 100, 'c': 200, 'd': 300}\n",
        "dict2={'a': 300, 'b': 200, 'd': 400, 'e': 200}\n",
        "dict3={}\n",
        "\n",
        "for k,v in dict1.items():\n",
        "    if k not in dict3:\n",
        "        dict3[k]=v\n",
        "\n",
        "for k1, v1 in dict2.items():\n",
        "    if k1 in dict3:\n",
        "        dict3[k1] = v1 + dict3[k1]\n",
        "    elif k1 not in dict3:\n",
        "        dict3[k1]=v1\n",
        "\n",
        "\n",
        "print(dict3)\n",
        "a_list=[]\n",
        "for key,value in dict3.items():\n",
        "    a_list.append(value)\n",
        "print(a_list)\n",
        "b_list=[]\n",
        "b_list=sorted(a_list)\n",
        "print(b_list)\n",
        "new_list=[]\n",
        "for k in b_list:\n",
        "    if k not in new_list:\n",
        "        new_list.append(k)\n",
        "print(tuple(new_list))"
      ]
    },
    {
      "cell_type": "code",
      "execution_count": null,
      "metadata": {
        "colab": {
          "background_save": true,
          "base_uri": "https://localhost:8080/"
        },
        "id": "I465JCdjqcQQ",
        "outputId": "0fb29706-f534-4187-d4c5-cc0f3a1701f0"
      },
      "outputs": [
        {
          "name": "stdout",
          "output_type": "stream",
          "text": [
            "['key1', 'key3']\n"
          ]
        }
      ],
      "source": [
        "#task-3:\n",
        "a_dict={'key1' : 'value1', 'key2' : 'value2', 'key3' : 'value1'}\n",
        "b_dict={}\n",
        "list1=[]\n",
        "for key,value in a_dict.items():\n",
        "    if value==value1:\n",
        "        list1.append(key)\n",
        "print(list1)"
      ]
    }
  ],
  "metadata": {
    "colab": {
      "provenance": []
    },
    "kernelspec": {
      "display_name": "Python 3",
      "name": "python3"
    },
    "language_info": {
      "name": "python"
    }
  },
  "nbformat": 4,
  "nbformat_minor": 0
}